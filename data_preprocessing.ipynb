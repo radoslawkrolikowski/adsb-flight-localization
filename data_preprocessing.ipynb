{
 "cells": [
  {
   "cell_type": "markdown",
   "metadata": {},
   "source": [
    "## Data preprocessing"
   ]
  },
  {
   "cell_type": "markdown",
   "metadata": {},
   "source": [
    "In the next notebook of the series, we will perform the data preprocessing that consist of the following steps:\n",
    "- drop the duplicated rows\n",
    "- check the data frame in terms of missing values\n",
    "- explode the measurements JSON array, sort it according to sensor serial number and limit the number of measurements\n",
    "- extract the sensor, timestamp and RSSI information from array of measurements\n",
    "- verify sensors' location and correct their elevation\n",
    "- perform data casting and filtering\n",
    "- conduct timestamps synchronization [1]\n",
    "- create linear regression models of timestamp corrections\n",
    "- perform the feature extraction\n",
    "- calculate the normalization parameters\n",
    "\n",
    "The notebook gives you a choice for the destination of the preprocessed data, it can be a HDF5 dataset or a MariaDB database. Both of those data stores could be used as a source of data for the machine learning model, thanks to our implementation of the dataset loaders."
   ]
  },
  {
   "cell_type": "markdown",
   "metadata": {},
   "source": [
    "For the record, our dataset comprises of three CSV files:\n",
    "- round2_training1.csv\n",
    "- round2_training2.csv\n",
    "- round2_training3.csv\n",
    "\n",
    "To perform the preprocessing of the entire dataset, you have to repeat all aforementioned steps for each of those files. You can do this by simply re-runing the entire notebook with the path changed in the following parts of the code:\n",
    "\n",
    "- <code>df = spark.read.format(\"csv\") \\\n",
    "    .options(header='True', inferSchema='True') \\\n",
    "    .load(\"round2_training/round2/round2_training3.csv\") </code>\n",
    "- <code>pd.read_csv('round2_training/round2/training3/training3.csv', dtype=types)</code>"
   ]
  },
  {
   "cell_type": "markdown",
   "metadata": {},
   "source": [
    "After saving the data either by <code>df.write.save()</code> or <code>pandas.to_csv()</code> it is advised to restart the kernel in order to free up the memory."
   ]
  },
  {
   "cell_type": "markdown",
   "metadata": {},
   "source": [
    "We will begin with importing all libraries that will be used in this notebook."
   ]
  },
  {
   "cell_type": "code",
   "execution_count": 1,
   "metadata": {},
   "outputs": [],
   "source": [
    "import os\n",
    "import operator\n",
    "import pandas as pd\n",
    "import numpy as np\n",
    "import json\n",
    "import urllib\n",
    "import time\n",
    "import pickle\n",
    "import matplotlib.pyplot as plt\n",
    "import findspark\n",
    "findspark.init()\n",
    "import pyspark\n",
    "import pyspark.sql.functions as F\n",
    "from pyspark.sql import types\n",
    "from pyspark.sql import SparkSession\n",
    "from tqdm import tqdm\n",
    "import warnings\n",
    "warnings.filterwarnings('ignore')"
   ]
  },
  {
   "cell_type": "markdown",
   "metadata": {},
   "source": [
    "Now we can instantiate the <i>SparkSession</i>. For testing, the application will be running locally with 2 cores, and 4 GB of memory for the driver process. \n",
    "\n",
    "Other options to run <i>Spark</i> (locally, on cluster) can be found [here](http://spark.apache.org/docs/latest/submitting-applications.html#master-urls)"
   ]
  },
  {
   "cell_type": "code",
   "execution_count": 2,
   "metadata": {},
   "outputs": [],
   "source": [
    "spark = SparkSession.builder \\\n",
    "    .master(\"local[2]\") \\\n",
    "    .appName(\"ads-b data processing\") \\\n",
    "    .config(\"spark.driver.memory\", \"4g\") \\\n",
    "    .getOrCreate()"
   ]
  },
  {
   "cell_type": "markdown",
   "metadata": {},
   "source": [
    "We will also set the number of output partitions (low values speed up processing) and the log level for our application."
   ]
  },
  {
   "cell_type": "code",
   "execution_count": 3,
   "metadata": {},
   "outputs": [],
   "source": [
    "# Set number of output partitions\n",
    "spark.conf.set(\"spark.sql.shuffle.partitions\", 100)\n",
    "\n",
    "# Set log level\n",
    "spark.sparkContext.setLogLevel(\"ERROR\")"
   ]
  },
  {
   "cell_type": "markdown",
   "metadata": {},
   "source": [
    "Below we will load the CSV file and print its schema."
   ]
  },
  {
   "cell_type": "code",
   "execution_count": 4,
   "metadata": {},
   "outputs": [],
   "source": [
    "df = spark.read.format(\"csv\") \\\n",
    "    .options(header='True', inferSchema='True') \\\n",
    "    .load(\"round2_training/round2/round2_training3.csv\") "
   ]
  },
  {
   "cell_type": "code",
   "execution_count": 5,
   "metadata": {},
   "outputs": [
    {
     "name": "stdout",
     "output_type": "stream",
     "text": [
      "root\n",
      " |-- id: integer (nullable = true)\n",
      " |-- timeAtServer: double (nullable = true)\n",
      " |-- aircraft: integer (nullable = true)\n",
      " |-- latitude: double (nullable = true)\n",
      " |-- longitude: double (nullable = true)\n",
      " |-- baroAltitude: double (nullable = true)\n",
      " |-- geoAltitude: double (nullable = true)\n",
      " |-- numMeasurements: integer (nullable = true)\n",
      " |-- measurements: string (nullable = true)\n",
      "\n"
     ]
    }
   ],
   "source": [
    "df.printSchema()"
   ]
  },
  {
   "cell_type": "markdown",
   "metadata": {},
   "source": [
    "As we can see the shema of the data frame corresponds to the input dataset (inspected in the previous notebook)."
   ]
  },
  {
   "cell_type": "markdown",
   "metadata": {},
   "source": [
    "We will also check how many rows our data frame contains."
   ]
  },
  {
   "cell_type": "code",
   "execution_count": 6,
   "metadata": {},
   "outputs": [
    {
     "name": "stdout",
     "output_type": "stream",
     "text": [
      "Number of rows in the data frame: 6535444\n"
     ]
    }
   ],
   "source": [
    "print('Number of rows in the data frame: {}'.format(df.count()))"
   ]
  },
  {
   "cell_type": "markdown",
   "metadata": {},
   "source": [
    "Below we will drop the duplicated rows. We will take into consideration the following columns: timeAtServer, aircraft, measurements, latitude, longitude and baroAltitude."
   ]
  },
  {
   "cell_type": "code",
   "execution_count": 7,
   "metadata": {},
   "outputs": [],
   "source": [
    "df = df.dropDuplicates(['timeAtServer', 'aircraft', 'measurements', 'latitude', 'longitude', 'baroAltitude'])"
   ]
  },
  {
   "cell_type": "code",
   "execution_count": 8,
   "metadata": {},
   "outputs": [
    {
     "name": "stdout",
     "output_type": "stream",
     "text": [
      "Number of rows in the data frame without duplicates: 6367870\n"
     ]
    }
   ],
   "source": [
    "print('Number of rows in the data frame without duplicates: {}'.format(df.count()))"
   ]
  },
  {
   "cell_type": "markdown",
   "metadata": {},
   "source": [
    "Now we have to check whether the data frame contains any missing values."
   ]
  },
  {
   "cell_type": "code",
   "execution_count": 9,
   "metadata": {},
   "outputs": [
    {
     "name": "stdout",
     "output_type": "stream",
     "text": [
      "+---+------------+--------+--------+---------+------------+-----------+---------------+------------+\n",
      "| id|timeAtServer|aircraft|latitude|longitude|baroAltitude|geoAltitude|numMeasurements|measurements|\n",
      "+---+------------+--------+--------+---------+------------+-----------+---------------+------------+\n",
      "|  0|           0|       0|       0|        0|           0|          0|              0|           0|\n",
      "+---+------------+--------+--------+---------+------------+-----------+---------------+------------+\n",
      "\n"
     ]
    }
   ],
   "source": [
    "df.select([F.count(F.when(F.isnan(col), col)).alias(col) for col in df.columns]).show()"
   ]
  },
  {
   "cell_type": "markdown",
   "metadata": {},
   "source": [
    "According to the preceding tally, there are no missing values."
   ]
  },
  {
   "cell_type": "markdown",
   "metadata": {},
   "source": [
    "Let's take a look at how the data frame looks like."
   ]
  },
  {
   "cell_type": "code",
   "execution_count": 10,
   "metadata": {},
   "outputs": [
    {
     "name": "stdout",
     "output_type": "stream",
     "text": [
      "+----+------------------+--------+----------------+-----------------+------------+-----------+---------------+--------------------+\n",
      "|  id|      timeAtServer|aircraft|        latitude|        longitude|baroAltitude|geoAltitude|numMeasurements|        measurements|\n",
      "+----+------------------+--------+----------------+-----------------+------------+-----------+---------------+--------------------+\n",
      "|  94|0.0260000228881836|    2308|51.0823757365599| 6.52473449707031|     1325.88|    1264.92|              4|[[398,1005256156,...|\n",
      "| 218|0.0739998817443848|     997|53.0042266845703|  5.7818603515625|     12192.0|   12092.94|              4|[[529,-1510290083...|\n",
      "| 666| 0.332000017166138|    1633|45.0371246337891| 9.33380126953125|     2118.36|    2042.16|              2|[[132,1314392468,...|\n",
      "| 886| 0.454999923706055|    2625|48.3951012562897| 10.2624592028166|    10988.04|    10858.5|             10|[[257,1435786406,...|\n",
      "|1000| 0.519999980926514|     370| 46.047797768803| 6.03437805175781|     4480.56|     4381.5|              2|[[131,1502574265,...|\n",
      "|1018| 0.523999929428101|    1972|53.2917022705078|-0.65659005301336|      8686.8|    8641.08|              5|[[216,1465412046,...|\n",
      "|1027| 0.530999898910523|    2000|50.8355557716499| 14.0164184570313|     11277.6|   11155.68|              5|[[694,84457592500...|\n",
      "|1079| 0.557999849319458|    2643|53.0450592041016|-2.24525451660156|     10363.2|   10264.14|             12|[[185,811651796,5...|\n",
      "|1187| 0.615999937057495|    2874|40.0789031982422| -8.1033935546875|     11277.6|    11277.6|              3|[[564,1571338843,...|\n",
      "|1248| 0.651000022888184|      75|47.4375682766155| 7.70958533653846|     10972.8|   10828.02|             17|[[259,1643958296,...|\n",
      "+----+------------------+--------+----------------+-----------------+------------+-----------+---------------+--------------------+\n",
      "only showing top 10 rows\n",
      "\n"
     ]
    }
   ],
   "source": [
    "df.show(10)"
   ]
  },
  {
   "cell_type": "markdown",
   "metadata": {},
   "source": [
    "### Explode the measurements data"
   ]
  },
  {
   "cell_type": "markdown",
   "metadata": {},
   "source": [
    "We have to extract the measurements data from the JSON array. To do this firstly we have to specify the shema of that array, so the <i>Spark</i> will be able to transform the data correctly. As we established in the first notebook, we take into account a limited number of measurements, thus we have to set the max_measurements to 6 (75th percentile of the distribution of the measurements)."
   ]
  },
  {
   "cell_type": "code",
   "execution_count": 11,
   "metadata": {},
   "outputs": [],
   "source": [
    "df = df.limit(df.count())"
   ]
  },
  {
   "cell_type": "code",
   "execution_count": 12,
   "metadata": {},
   "outputs": [],
   "source": [
    "max_measurements = 6\n",
    "json_schema = types.ArrayType(types.ArrayType(types.DoubleType()))"
   ]
  },
  {
   "cell_type": "code",
   "execution_count": 13,
   "metadata": {},
   "outputs": [],
   "source": [
    "df = df.withColumn('meas', F.from_json('measurements', schema=json_schema))"
   ]
  },
  {
   "cell_type": "markdown",
   "metadata": {},
   "source": [
    "It would be convenient to have the measurements in some kind of order. That's why we will now sort arrays of measurements according to the sensor's serial number. To achieve this we will utilize the RDD's <i>map</i> function."
   ]
  },
  {
   "cell_type": "code",
   "execution_count": 14,
   "metadata": {},
   "outputs": [],
   "source": [
    "# Sort arrays within 'meas' column (x[9]) according to sensor number (itemgetter(0))\n",
    "df = df.rdd.map(lambda x: [x[0], x[1], x[2], x[3], x[4], x[5], x[6], x[7], x[8], \\\n",
    "                           sorted(x[9], key=operator.itemgetter(0), reverse=False)]) \\\n",
    "                                .toDF(df.schema.names)"
   ]
  },
  {
   "cell_type": "code",
   "execution_count": 15,
   "metadata": {},
   "outputs": [
    {
     "name": "stdout",
     "output_type": "stream",
     "text": [
      "+----+--------------------+--------------------+\n",
      "|  id|        measurements|                meas|\n",
      "+----+--------------------+--------------------+\n",
      "|  94|[[398,1005256156,...|[[134.0, 1.005387...|\n",
      "| 218|[[529,-1510290083...|[[170.0, 2.078536...|\n",
      "| 666|[[132,1314392468,...|[[132.0, 1.314392...|\n",
      "| 886|[[257,1435786406,...|[[141.0, 1.435664...|\n",
      "|1000|[[131,1502574265,...|[[131.0, 1.502574...|\n",
      "|1018|[[216,1465412046,...|[[184.0, 4.861520...|\n",
      "|1027|[[694,84457592500...|[[26.0, 2.0826087...|\n",
      "|1079|[[185,811651796,5...|[[184.0, 4.916273...|\n",
      "|1187|[[564,1571338843,...|[[513.0, 8.271332...|\n",
      "|1248|[[259,1643958296,...|[[10.0, 1.6436849...|\n",
      "+----+--------------------+--------------------+\n",
      "only showing top 10 rows\n",
      "\n"
     ]
    }
   ],
   "source": [
    "df.select('id', 'measurements', 'meas').show(10)"
   ]
  },
  {
   "cell_type": "markdown",
   "metadata": {},
   "source": [
    "We will explode the 'meas' field so that the sensor, timestamp and RSSI information of each measurement is presented as a separate column, at the same time we will cast new fields to the proper data type."
   ]
  },
  {
   "cell_type": "code",
   "execution_count": 16,
   "metadata": {},
   "outputs": [],
   "source": [
    "col_names = ['sensor', 'tmp', 'RSSI']\n",
    "col_types = ['int', 'Decimal(16,0)', 'int']\n",
    "\n",
    "for i in range(max_measurements):\n",
    "    for j, col_name in enumerate(col_names): \n",
    "        df = df.withColumn('{}_{}'.format(col_name, i), F.col('meas')[i][j].cast(col_types[j]))\n",
    "\n",
    "df = df.drop('meas', 'measurements') "
   ]
  },
  {
   "cell_type": "code",
   "execution_count": 17,
   "metadata": {},
   "outputs": [
    {
     "name": "stdout",
     "output_type": "stream",
     "text": [
      "+----+--------+-----------+------+--------+-----------+------+\n",
      "|id  |sensor_0|tmp_0      |RSSI_0|sensor_1|tmp_1      |RSSI_1|\n",
      "+----+--------+-----------+------+--------+-----------+------+\n",
      "|94  |134     |1005387312 |107   |248     |-268722583 |105   |\n",
      "|218 |170     |20785362500|186   |507     |57626342333|20    |\n",
      "|666 |132     |1314392468 |83    |277     |60809942500|59    |\n",
      "|886 |141     |1435664828 |115   |143     |1435638218 |115   |\n",
      "|1000|131     |1502574265 |73    |665     |44191180417|84    |\n",
      "|1018|184     |4861520250 |184   |216     |1465412046 |39    |\n",
      "|1027|26      |20826087583|132   |236     |21155851500|11    |\n",
      "|1079|184     |4916273917 |98    |185     |811651796  |50    |\n",
      "|1187|513     |82713328667|101   |564     |1571338843 |51    |\n",
      "|1248|10      |1643684906 |119   |14      |1643671093 |101   |\n",
      "+----+--------+-----------+------+--------+-----------+------+\n",
      "only showing top 10 rows\n",
      "\n"
     ]
    }
   ],
   "source": [
    "df.select('id', 'sensor_0', 'tmp_0', 'RSSI_0', 'sensor_1', 'tmp_1', 'RSSI_1').show(10, False)"
   ]
  },
  {
   "cell_type": "markdown",
   "metadata": {},
   "source": [
    "Now we will save the transformed data frame into a disk."
   ]
  },
  {
   "cell_type": "code",
   "execution_count": 18,
   "metadata": {},
   "outputs": [],
   "source": [
    "df.write.save('round2_training/round2/training3', format='csv', header=True, mode='overwrite')"
   ]
  },
  {
   "cell_type": "code",
   "execution_count": 19,
   "metadata": {},
   "outputs": [],
   "source": [
    "file_name = [name for name in os.listdir('round2_training/round2/training3') if name.startswith('part')]\n",
    "\n",
    "os.rename(os.path.join('round2_training/round2/training3', file_name[0]),\n",
    "          'round2_training/round2/training3/training3.csv')"
   ]
  },
  {
   "cell_type": "markdown",
   "metadata": {},
   "source": [
    "### Sensor localizations"
   ]
  },
  {
   "cell_type": "markdown",
   "metadata": {},
   "source": [
    "In this section, we will verify the localization of the sensors. We do not have enough data to check whether the receiver's location is not very accurate. What we can do is to find incorrect coordinates like for instance (0, 0, 0)."
   ]
  },
  {
   "cell_type": "code",
   "execution_count": 26,
   "metadata": {},
   "outputs": [
    {
     "data": {
      "text/html": [
       "<div>\n",
       "<style scoped>\n",
       "    .dataframe tbody tr th:only-of-type {\n",
       "        vertical-align: middle;\n",
       "    }\n",
       "\n",
       "    .dataframe tbody tr th {\n",
       "        vertical-align: top;\n",
       "    }\n",
       "\n",
       "    .dataframe thead th {\n",
       "        text-align: right;\n",
       "    }\n",
       "</style>\n",
       "<table border=\"1\" class=\"dataframe\">\n",
       "  <thead>\n",
       "    <tr style=\"text-align: right;\">\n",
       "      <th></th>\n",
       "      <th>serial</th>\n",
       "      <th>latitude</th>\n",
       "      <th>longitude</th>\n",
       "      <th>height</th>\n",
       "      <th>type</th>\n",
       "      <th>good</th>\n",
       "    </tr>\n",
       "  </thead>\n",
       "  <tbody>\n",
       "    <tr>\n",
       "      <th>2</th>\n",
       "      <td>3</td>\n",
       "      <td>0.000000</td>\n",
       "      <td>0.000000</td>\n",
       "      <td>0.0</td>\n",
       "      <td>SBS-3</td>\n",
       "      <td>False</td>\n",
       "    </tr>\n",
       "    <tr>\n",
       "      <th>4</th>\n",
       "      <td>5</td>\n",
       "      <td>52.356455</td>\n",
       "      <td>4.952216</td>\n",
       "      <td>0.0</td>\n",
       "      <td>dump1090</td>\n",
       "      <td>False</td>\n",
       "    </tr>\n",
       "    <tr>\n",
       "      <th>5</th>\n",
       "      <td>6</td>\n",
       "      <td>47.174200</td>\n",
       "      <td>8.524700</td>\n",
       "      <td>0.0</td>\n",
       "      <td>Radarcape</td>\n",
       "      <td>False</td>\n",
       "    </tr>\n",
       "    <tr>\n",
       "      <th>8</th>\n",
       "      <td>9</td>\n",
       "      <td>45.410944</td>\n",
       "      <td>11.887529</td>\n",
       "      <td>0.0</td>\n",
       "      <td>Radarcape</td>\n",
       "      <td>False</td>\n",
       "    </tr>\n",
       "    <tr>\n",
       "      <th>26</th>\n",
       "      <td>27</td>\n",
       "      <td>49.408540</td>\n",
       "      <td>6.950260</td>\n",
       "      <td>0.0</td>\n",
       "      <td>SBS-3</td>\n",
       "      <td>False</td>\n",
       "    </tr>\n",
       "    <tr>\n",
       "      <th>77</th>\n",
       "      <td>78</td>\n",
       "      <td>33.573110</td>\n",
       "      <td>-7.589843</td>\n",
       "      <td>0.0</td>\n",
       "      <td>dump1090</td>\n",
       "      <td>False</td>\n",
       "    </tr>\n",
       "    <tr>\n",
       "      <th>78</th>\n",
       "      <td>79</td>\n",
       "      <td>34.018125</td>\n",
       "      <td>-5.007845</td>\n",
       "      <td>0.0</td>\n",
       "      <td>dump1090</td>\n",
       "      <td>False</td>\n",
       "    </tr>\n",
       "    <tr>\n",
       "      <th>144</th>\n",
       "      <td>145</td>\n",
       "      <td>0.000000</td>\n",
       "      <td>0.000000</td>\n",
       "      <td>0.0</td>\n",
       "      <td>dump1090</td>\n",
       "      <td>False</td>\n",
       "    </tr>\n",
       "    <tr>\n",
       "      <th>228</th>\n",
       "      <td>229</td>\n",
       "      <td>52.450600</td>\n",
       "      <td>5.500400</td>\n",
       "      <td>0.0</td>\n",
       "      <td>dump1090</td>\n",
       "      <td>False</td>\n",
       "    </tr>\n",
       "    <tr>\n",
       "      <th>333</th>\n",
       "      <td>334</td>\n",
       "      <td>0.000000</td>\n",
       "      <td>0.000000</td>\n",
       "      <td>0.0</td>\n",
       "      <td>dump1090</td>\n",
       "      <td>False</td>\n",
       "    </tr>\n",
       "    <tr>\n",
       "      <th>334</th>\n",
       "      <td>335</td>\n",
       "      <td>0.000000</td>\n",
       "      <td>0.000000</td>\n",
       "      <td>0.0</td>\n",
       "      <td>dump1090</td>\n",
       "      <td>False</td>\n",
       "    </tr>\n",
       "    <tr>\n",
       "      <th>336</th>\n",
       "      <td>337</td>\n",
       "      <td>0.000000</td>\n",
       "      <td>0.000000</td>\n",
       "      <td>0.0</td>\n",
       "      <td>dump1090</td>\n",
       "      <td>False</td>\n",
       "    </tr>\n",
       "    <tr>\n",
       "      <th>381</th>\n",
       "      <td>382</td>\n",
       "      <td>56.033300</td>\n",
       "      <td>14.133300</td>\n",
       "      <td>0.0</td>\n",
       "      <td>dump1090</td>\n",
       "      <td>False</td>\n",
       "    </tr>\n",
       "    <tr>\n",
       "      <th>426</th>\n",
       "      <td>427</td>\n",
       "      <td>52.145090</td>\n",
       "      <td>4.647430</td>\n",
       "      <td>0.0</td>\n",
       "      <td>dump1090</td>\n",
       "      <td>False</td>\n",
       "    </tr>\n",
       "    <tr>\n",
       "      <th>433</th>\n",
       "      <td>434</td>\n",
       "      <td>43.339208</td>\n",
       "      <td>2.813991</td>\n",
       "      <td>0.0</td>\n",
       "      <td>dump1090</td>\n",
       "      <td>False</td>\n",
       "    </tr>\n",
       "    <tr>\n",
       "      <th>434</th>\n",
       "      <td>435</td>\n",
       "      <td>29.691740</td>\n",
       "      <td>-9.719102</td>\n",
       "      <td>0.0</td>\n",
       "      <td>dump1090</td>\n",
       "      <td>False</td>\n",
       "    </tr>\n",
       "    <tr>\n",
       "      <th>475</th>\n",
       "      <td>476</td>\n",
       "      <td>33.045397</td>\n",
       "      <td>-3.994095</td>\n",
       "      <td>0.0</td>\n",
       "      <td>dump1090</td>\n",
       "      <td>False</td>\n",
       "    </tr>\n",
       "    <tr>\n",
       "      <th>495</th>\n",
       "      <td>496</td>\n",
       "      <td>52.676435</td>\n",
       "      <td>-8.652775</td>\n",
       "      <td>0.0</td>\n",
       "      <td>dump1090</td>\n",
       "      <td>False</td>\n",
       "    </tr>\n",
       "    <tr>\n",
       "      <th>504</th>\n",
       "      <td>505</td>\n",
       "      <td>52.454559</td>\n",
       "      <td>0.204492</td>\n",
       "      <td>0.0</td>\n",
       "      <td>dump1090</td>\n",
       "      <td>False</td>\n",
       "    </tr>\n",
       "    <tr>\n",
       "      <th>584</th>\n",
       "      <td>585</td>\n",
       "      <td>42.361670</td>\n",
       "      <td>-3.675535</td>\n",
       "      <td>0.0</td>\n",
       "      <td>dump1090</td>\n",
       "      <td>False</td>\n",
       "    </tr>\n",
       "    <tr>\n",
       "      <th>649</th>\n",
       "      <td>650</td>\n",
       "      <td>52.263500</td>\n",
       "      <td>20.963500</td>\n",
       "      <td>0.0</td>\n",
       "      <td>dump1090</td>\n",
       "      <td>False</td>\n",
       "    </tr>\n",
       "    <tr>\n",
       "      <th>702</th>\n",
       "      <td>703</td>\n",
       "      <td>0.000000</td>\n",
       "      <td>0.000000</td>\n",
       "      <td>0.0</td>\n",
       "      <td>dump1090</td>\n",
       "      <td>False</td>\n",
       "    </tr>\n",
       "  </tbody>\n",
       "</table>\n",
       "</div>"
      ],
      "text/plain": [
       "     serial   latitude  longitude  height       type   good\n",
       "2         3   0.000000   0.000000     0.0      SBS-3  False\n",
       "4         5  52.356455   4.952216     0.0   dump1090  False\n",
       "5         6  47.174200   8.524700     0.0  Radarcape  False\n",
       "8         9  45.410944  11.887529     0.0  Radarcape  False\n",
       "26       27  49.408540   6.950260     0.0      SBS-3  False\n",
       "77       78  33.573110  -7.589843     0.0   dump1090  False\n",
       "78       79  34.018125  -5.007845     0.0   dump1090  False\n",
       "144     145   0.000000   0.000000     0.0   dump1090  False\n",
       "228     229  52.450600   5.500400     0.0   dump1090  False\n",
       "333     334   0.000000   0.000000     0.0   dump1090  False\n",
       "334     335   0.000000   0.000000     0.0   dump1090  False\n",
       "336     337   0.000000   0.000000     0.0   dump1090  False\n",
       "381     382  56.033300  14.133300     0.0   dump1090  False\n",
       "426     427  52.145090   4.647430     0.0   dump1090  False\n",
       "433     434  43.339208   2.813991     0.0   dump1090  False\n",
       "434     435  29.691740  -9.719102     0.0   dump1090  False\n",
       "475     476  33.045397  -3.994095     0.0   dump1090  False\n",
       "495     496  52.676435  -8.652775     0.0   dump1090  False\n",
       "504     505  52.454559   0.204492     0.0   dump1090  False\n",
       "584     585  42.361670  -3.675535     0.0   dump1090  False\n",
       "649     650  52.263500  20.963500     0.0   dump1090  False\n",
       "702     703   0.000000   0.000000     0.0   dump1090  False"
      ]
     },
     "execution_count": 26,
     "metadata": {},
     "output_type": "execute_result"
    }
   ],
   "source": [
    "sensor_data = pd.read_csv(\"round2_training/round2/round2_sensors.csv\")\n",
    "sensor_data.loc[(sensor_data.latitude == 0) | (sensor_data.longitude == 0) | (sensor_data.height == 0)]"
   ]
  },
  {
   "cell_type": "markdown",
   "metadata": {},
   "source": [
    "As we can see there are some coordinates with all zero values indicating that those locations haven't been specified, but also we can see that for some latitude/longitude coordinates the value of the height (elevation) equals zero, this requires to manually check and amend those elevations. To achieve this we will utilize the <i>Opentopodata</i> Public API."
   ]
  },
  {
   "cell_type": "code",
   "execution_count": 27,
   "metadata": {},
   "outputs": [],
   "source": [
    "def getElevation(lat, lon):\n",
    "    \"\"\"Returns the elevation (m) for provided latitude and longitude coordinates. Returns 0 if elevation hasn't been found.\n",
    "    \n",
    "    \"\"\"\n",
    "\n",
    "    coords = '{},{}'.format(lat, lon)\n",
    "\n",
    "    url = \"https://api.opentopodata.org/v1/etopo1?locations=\" + urllib.parse.quote(coords)\n",
    "\n",
    "    opener = urllib.request.build_opener()\n",
    "    opener.addheaders = [('User-agent', 'Mozilla/5.0 (X11; Linux x86_64; rv:69.0) Gecko/20100101 Firefox/69.0')]\n",
    "    urllib.request.install_opener(opener)\n",
    "\n",
    "    response = urllib.request.urlopen(url)\n",
    "    data = response.read()\n",
    "    encoding = response.info().get_content_charset('utf-8')\n",
    "    \n",
    "    time.sleep(3)\n",
    "\n",
    "    data = json.loads(data.decode(encoding))\n",
    "    \n",
    "    try:\n",
    "        return data['results'][0]['elevation']\n",
    "    except:\n",
    "        return 0"
   ]
  },
  {
   "cell_type": "markdown",
   "metadata": {},
   "source": [
    "Now we will use the <i>getElevation</i> function to populate the data frame with new elevations."
   ]
  },
  {
   "cell_type": "code",
   "execution_count": 28,
   "metadata": {},
   "outputs": [],
   "source": [
    "for i, row in sensor_data.loc[(sensor_data.latitude != 0) & (sensor_data.longitude != 0) \\\n",
    "                           & (sensor_data.height == 0)].iterrows():\n",
    "\n",
    "    sensor_data.loc[i, 'height'] = getElevation(row.latitude, row.longitude)"
   ]
  },
  {
   "cell_type": "markdown",
   "metadata": {},
   "source": [
    "That operation is successful. Only one data point has been left with unspecified elevation."
   ]
  },
  {
   "cell_type": "code",
   "execution_count": 29,
   "metadata": {},
   "outputs": [
    {
     "data": {
      "text/html": [
       "<div>\n",
       "<style scoped>\n",
       "    .dataframe tbody tr th:only-of-type {\n",
       "        vertical-align: middle;\n",
       "    }\n",
       "\n",
       "    .dataframe tbody tr th {\n",
       "        vertical-align: top;\n",
       "    }\n",
       "\n",
       "    .dataframe thead th {\n",
       "        text-align: right;\n",
       "    }\n",
       "</style>\n",
       "<table border=\"1\" class=\"dataframe\">\n",
       "  <thead>\n",
       "    <tr style=\"text-align: right;\">\n",
       "      <th></th>\n",
       "      <th>serial</th>\n",
       "      <th>latitude</th>\n",
       "      <th>longitude</th>\n",
       "      <th>height</th>\n",
       "      <th>type</th>\n",
       "      <th>good</th>\n",
       "    </tr>\n",
       "  </thead>\n",
       "  <tbody>\n",
       "    <tr>\n",
       "      <th>381</th>\n",
       "      <td>382</td>\n",
       "      <td>56.0333</td>\n",
       "      <td>14.1333</td>\n",
       "      <td>0.0</td>\n",
       "      <td>dump1090</td>\n",
       "      <td>False</td>\n",
       "    </tr>\n",
       "  </tbody>\n",
       "</table>\n",
       "</div>"
      ],
      "text/plain": [
       "     serial  latitude  longitude  height      type   good\n",
       "381     382   56.0333    14.1333     0.0  dump1090  False"
      ]
     },
     "execution_count": 29,
     "metadata": {},
     "output_type": "execute_result"
    }
   ],
   "source": [
    "sensor_data.loc[(sensor_data.latitude != 0) & (sensor_data.longitude != 0)   & (sensor_data.height == 0)]"
   ]
  },
  {
   "cell_type": "markdown",
   "metadata": {},
   "source": [
    "Now we have to determine the number of times given sensor without coordinates occurred in the flights' dataset."
   ]
  },
  {
   "cell_type": "code",
   "execution_count": 30,
   "metadata": {},
   "outputs": [
    {
     "data": {
      "text/html": [
       "<div>\n",
       "<style scoped>\n",
       "    .dataframe tbody tr th:only-of-type {\n",
       "        vertical-align: middle;\n",
       "    }\n",
       "\n",
       "    .dataframe tbody tr th {\n",
       "        vertical-align: top;\n",
       "    }\n",
       "\n",
       "    .dataframe thead th {\n",
       "        text-align: right;\n",
       "    }\n",
       "</style>\n",
       "<table border=\"1\" class=\"dataframe\">\n",
       "  <thead>\n",
       "    <tr style=\"text-align: right;\">\n",
       "      <th></th>\n",
       "      <th>serial</th>\n",
       "      <th>latitude</th>\n",
       "      <th>longitude</th>\n",
       "      <th>height</th>\n",
       "      <th>type</th>\n",
       "      <th>good</th>\n",
       "    </tr>\n",
       "  </thead>\n",
       "  <tbody>\n",
       "    <tr>\n",
       "      <th>2</th>\n",
       "      <td>3</td>\n",
       "      <td>0.0</td>\n",
       "      <td>0.0</td>\n",
       "      <td>0.0</td>\n",
       "      <td>SBS-3</td>\n",
       "      <td>False</td>\n",
       "    </tr>\n",
       "    <tr>\n",
       "      <th>144</th>\n",
       "      <td>145</td>\n",
       "      <td>0.0</td>\n",
       "      <td>0.0</td>\n",
       "      <td>0.0</td>\n",
       "      <td>dump1090</td>\n",
       "      <td>False</td>\n",
       "    </tr>\n",
       "    <tr>\n",
       "      <th>333</th>\n",
       "      <td>334</td>\n",
       "      <td>0.0</td>\n",
       "      <td>0.0</td>\n",
       "      <td>0.0</td>\n",
       "      <td>dump1090</td>\n",
       "      <td>False</td>\n",
       "    </tr>\n",
       "    <tr>\n",
       "      <th>334</th>\n",
       "      <td>335</td>\n",
       "      <td>0.0</td>\n",
       "      <td>0.0</td>\n",
       "      <td>0.0</td>\n",
       "      <td>dump1090</td>\n",
       "      <td>False</td>\n",
       "    </tr>\n",
       "    <tr>\n",
       "      <th>336</th>\n",
       "      <td>337</td>\n",
       "      <td>0.0</td>\n",
       "      <td>0.0</td>\n",
       "      <td>0.0</td>\n",
       "      <td>dump1090</td>\n",
       "      <td>False</td>\n",
       "    </tr>\n",
       "    <tr>\n",
       "      <th>702</th>\n",
       "      <td>703</td>\n",
       "      <td>0.0</td>\n",
       "      <td>0.0</td>\n",
       "      <td>0.0</td>\n",
       "      <td>dump1090</td>\n",
       "      <td>False</td>\n",
       "    </tr>\n",
       "  </tbody>\n",
       "</table>\n",
       "</div>"
      ],
      "text/plain": [
       "     serial  latitude  longitude  height      type   good\n",
       "2         3       0.0        0.0     0.0     SBS-3  False\n",
       "144     145       0.0        0.0     0.0  dump1090  False\n",
       "333     334       0.0        0.0     0.0  dump1090  False\n",
       "334     335       0.0        0.0     0.0  dump1090  False\n",
       "336     337       0.0        0.0     0.0  dump1090  False\n",
       "702     703       0.0        0.0     0.0  dump1090  False"
      ]
     },
     "execution_count": 30,
     "metadata": {},
     "output_type": "execute_result"
    }
   ],
   "source": [
    "sensor_data.loc[(sensor_data.latitude == 0) & (sensor_data.longitude == 0)]"
   ]
  },
  {
   "cell_type": "markdown",
   "metadata": {},
   "source": [
    "Firstly we need to load the flights data frame."
   ]
  },
  {
   "cell_type": "code",
   "execution_count": 31,
   "metadata": {},
   "outputs": [],
   "source": [
    "flights = pd.read_csv('round2_training/round2/training3/trainig3.csv')"
   ]
  },
  {
   "cell_type": "markdown",
   "metadata": {},
   "source": [
    "Subsequently, the frequency of sensors without coordinates can be established."
   ]
  },
  {
   "cell_type": "code",
   "execution_count": 32,
   "metadata": {},
   "outputs": [],
   "source": [
    "max_measurements = 10\n",
    "count_dict = {}\n",
    "\n",
    "for i, row in sensor_data.loc[(sensor_data.latitude == 0) & (sensor_data.longitude == 0)].iterrows():\n",
    "    count = 0\n",
    "    for sensor_nu in range(max_measurements):\n",
    "        count += flights.loc[flights['{}_sensor'.format(sensor_nu)] == row.serial, '{}_sensor'.format(sensor_nu)].count()\n",
    "    count_dict[row.serial] = count"
   ]
  },
  {
   "cell_type": "code",
   "execution_count": 33,
   "metadata": {},
   "outputs": [
    {
     "data": {
      "text/html": [
       "<div>\n",
       "<style scoped>\n",
       "    .dataframe tbody tr th:only-of-type {\n",
       "        vertical-align: middle;\n",
       "    }\n",
       "\n",
       "    .dataframe tbody tr th {\n",
       "        vertical-align: top;\n",
       "    }\n",
       "\n",
       "    .dataframe thead th {\n",
       "        text-align: right;\n",
       "    }\n",
       "</style>\n",
       "<table border=\"1\" class=\"dataframe\">\n",
       "  <thead>\n",
       "    <tr style=\"text-align: right;\">\n",
       "      <th></th>\n",
       "      <th>count</th>\n",
       "    </tr>\n",
       "  </thead>\n",
       "  <tbody>\n",
       "    <tr>\n",
       "      <th>3</th>\n",
       "      <td>0</td>\n",
       "    </tr>\n",
       "    <tr>\n",
       "      <th>145</th>\n",
       "      <td>0</td>\n",
       "    </tr>\n",
       "    <tr>\n",
       "      <th>334</th>\n",
       "      <td>0</td>\n",
       "    </tr>\n",
       "    <tr>\n",
       "      <th>335</th>\n",
       "      <td>0</td>\n",
       "    </tr>\n",
       "    <tr>\n",
       "      <th>337</th>\n",
       "      <td>0</td>\n",
       "    </tr>\n",
       "    <tr>\n",
       "      <th>703</th>\n",
       "      <td>0</td>\n",
       "    </tr>\n",
       "  </tbody>\n",
       "</table>\n",
       "</div>"
      ],
      "text/plain": [
       "     count\n",
       "3        0\n",
       "145      0\n",
       "334      0\n",
       "335      0\n",
       "337      0\n",
       "703      0"
      ]
     },
     "execution_count": 33,
     "metadata": {},
     "output_type": "execute_result"
    }
   ],
   "source": [
    "pd.DataFrame({'count': count_dict})"
   ]
  },
  {
   "cell_type": "markdown",
   "metadata": {},
   "source": [
    "In each of our flights' datasets, neither of the sensors without localization information is included, thus we do not have to perform any further filtering of sensors in the dataset."
   ]
  },
  {
   "cell_type": "code",
   "execution_count": 34,
   "metadata": {},
   "outputs": [],
   "source": [
    "sensor_data.to_csv('round2_training/round2/round2_sensors.csv', index=False)"
   ]
  },
  {
   "cell_type": "markdown",
   "metadata": {},
   "source": [
    "### Data casting and filtering"
   ]
  },
  {
   "cell_type": "markdown",
   "metadata": {},
   "source": [
    "Next, we will cast the data to proper data types and filter-out data with incorrect timestamps."
   ]
  },
  {
   "cell_type": "code",
   "execution_count": 3,
   "metadata": {},
   "outputs": [],
   "source": [
    "flights = pd.read_csv('round2_training/round2/training3/training3.csv')\n",
    "\n",
    "max_measurements = 6"
   ]
  },
  {
   "cell_type": "code",
   "execution_count": 4,
   "metadata": {},
   "outputs": [],
   "source": [
    "# Change column data types\n",
    "types = {'id': 'int32', 'timeAtServer': 'float32', 'aircraft': 'int16', 'latitude': 'float32', 'longitude': 'float32',\n",
    "        'baroAltitude': 'float32', 'geoAltitude': 'float32', 'numMeasurements': 'int16'}\n",
    "\n",
    "for i in range(max_measurements):\n",
    "    types['tmp_{}'.format(i)] = 'float64'\n",
    "    types['RSSI_{}'.format(i)] = 'int16'\n",
    "    \n",
    "# Fill missing values for RSSI fields\n",
    "flights.fillna(value={i:0 for i in list(types.keys()) if i.startswith('RSSI')}, inplace=True)\n",
    "\n",
    "flights = flights.astype(types, errors='ignore')"
   ]
  },
  {
   "cell_type": "markdown",
   "metadata": {},
   "source": [
    "There are some negative values for the timestamp of sensor_0, thus to be able to use this sensor as a reference clock during the synchronization process we have to take absolute values of those timestamps."
   ]
  },
  {
   "cell_type": "code",
   "execution_count": 5,
   "metadata": {},
   "outputs": [],
   "source": [
    "flights['tmp_0'] = flights['tmp_0'].abs()"
   ]
  },
  {
   "cell_type": "markdown",
   "metadata": {},
   "source": [
    "Now we will drop all the rows that contain 0 values in timestamp columns."
   ]
  },
  {
   "cell_type": "code",
   "execution_count": 6,
   "metadata": {},
   "outputs": [],
   "source": [
    "idx = []\n",
    "\n",
    "for i in range(max_measurements):\n",
    "    idx.extend(flights.loc[flights['tmp_{}'.format(i)] == 0].index)\n",
    "        \n",
    "flights.drop(idx, inplace=True)"
   ]
  },
  {
   "cell_type": "code",
   "execution_count": 7,
   "metadata": {},
   "outputs": [],
   "source": [
    "flights.to_csv('round2_training/round2/training3/training3.csv', index=False)"
   ]
  },
  {
   "cell_type": "markdown",
   "metadata": {},
   "source": [
    "### Timestamp synchronization"
   ]
  },
  {
   "cell_type": "markdown",
   "metadata": {},
   "source": [
    "In the dataset, only some receivers will provide GPS-synchronized timestamps while others do not offer such time synchronization and thus experience clock drifts. We have to perform timestamp synchronization in order to ensure that all timestamps are measured according to the same reference clock."
   ]
  },
  {
   "cell_type": "markdown",
   "metadata": {},
   "source": [
    "The method of timestamp synchronization is depicted in the following diagram and is based on the paper - <i> The Testing of MLAT Method Application by means of Usage low-cost ADS-B Receivers</i> [1]. According to that method, the ADS-B message with airplane position pA is received by ground station p1 and p2 in time t1 and t2 respectively. Knowing the distance between airplane and first sensor |pA-p1| and between airplane and second sensor |pA-p2| we are able to calculate the signal reception time at receiver p2 (t2_corr) with respect to sensor's p1 clock. By subtracting t2_corr from the original time of reception (t2) we can determine the correction that needs to be applied to each message at sensor p2 [1]. Because the correction value tend to change in time, we will also create the linear regression models of sensor corrections that represent the relationship between the correction that has to be applied and the timeAtServer."
   ]
  },
  {
   "cell_type": "markdown",
   "metadata": {},
   "source": [
    "<img src=\"assets/clock_synch_method.png\" width=\"500 px\">\n",
    "<p><center>Receiver’s clock synchronization method [1]</center></p>"
   ]
  },
  {
   "cell_type": "code",
   "execution_count": 2,
   "metadata": {},
   "outputs": [],
   "source": [
    "max_measurements = 6\n",
    "\n",
    "types = {'id': 'int32', 'timeAtServer': 'float32', 'aircraft': 'int16', 'latitude': 'float32', 'longitude': 'float32',\n",
    "        'baroAltitude': 'float32', 'geoAltitude': 'float32', 'numMeasurements': 'int16'}\n",
    "\n",
    "for i in range(max_measurements):\n",
    "    types['tmp_{}'.format(i)] = 'float64'\n",
    "    types['RSSI_{}'.format(i)] = 'int16'"
   ]
  },
  {
   "cell_type": "markdown",
   "metadata": {},
   "source": [
    "To speed up the timestamp synchronization calculations we will use the <i>Modin</i> library, whose implementation enables you to use all of the cores on your machine, or in a cluster."
   ]
  },
  {
   "cell_type": "code",
   "execution_count": 3,
   "metadata": {},
   "outputs": [],
   "source": [
    "from distributed import Client\n",
    "\n",
    "# set up cluster and workers\n",
    "client = Client(n_workers=2, \n",
    "                threads_per_worker=1,\n",
    "                memory_limit='5GB')\n",
    "\n",
    "import modin.pandas as pd"
   ]
  },
  {
   "cell_type": "markdown",
   "metadata": {},
   "source": [
    "We will begin by loading the flights' dataset and the sensors' dataset."
   ]
  },
  {
   "cell_type": "code",
   "execution_count": 4,
   "metadata": {},
   "outputs": [],
   "source": [
    "flights = pd.read_csv('round2_training/round2/training3/training3.csv', dtype=types)"
   ]
  },
  {
   "cell_type": "code",
   "execution_count": 5,
   "metadata": {},
   "outputs": [],
   "source": [
    "sensors = pd.read_csv('round2_training/round2/round2_sensors.csv')"
   ]
  },
  {
   "cell_type": "markdown",
   "metadata": {},
   "source": [
    "Below we will define functions for converting WSG84 coordinates to cartesian ones, and for calculating the Euclidean distance between coordinates."
   ]
  },
  {
   "cell_type": "code",
   "execution_count": 6,
   "metadata": {},
   "outputs": [],
   "source": [
    "def lla_to_ecef(latitude, longitude, altitude):\n",
    "    latitude = np.radians(latitude)\n",
    "    longitude = np.radians(longitude)\n",
    "\n",
    "    # WSG84 ellipsoid constants\n",
    "    a = 6378137\n",
    "    e = 8.1819190842622e-2\n",
    "\n",
    "    # prime vertical radius of curvature\n",
    "    N = a / np.sqrt(1 - e**2 * np.sin(latitude)**2)\n",
    "\n",
    "    x = (N + altitude) * np.cos(latitude) * np.cos(longitude)\n",
    "    y = (N + altitude) * np.cos(latitude) * np.sin(longitude)\n",
    "    z = ((1 - e**2) * N + altitude) * np.sin(latitude)\n",
    "    \n",
    "    return x, y, z\n",
    "\n",
    "def calculateDist(x1, y1, z1, x2, y2, z2):  \n",
    "    x1, y1, z1 = lla_to_ecef(x1, y1, z1)\n",
    "    x2, y2, z2 = lla_to_ecef(x2, y2, z2)\n",
    "    \n",
    "    return np.sqrt((x1-x2)**2 + (y1-y2)**2 + (z1-z2)**2) / 1000"
   ]
  },
  {
   "cell_type": "markdown",
   "metadata": {},
   "source": [
    "Before joining flights' and sensors' dataframes together, we have to set the index of the sensors' dataframe to 'serial'."
   ]
  },
  {
   "cell_type": "code",
   "execution_count": 7,
   "metadata": {},
   "outputs": [],
   "source": [
    "sensors.set_index('serial', inplace=True)"
   ]
  },
  {
   "cell_type": "code",
   "execution_count": 8,
   "metadata": {},
   "outputs": [
    {
     "data": {
      "text/html": [
       "<div>\n",
       "<style scoped>\n",
       "    .dataframe tbody tr th:only-of-type {\n",
       "        vertical-align: middle;\n",
       "    }\n",
       "\n",
       "    .dataframe tbody tr th {\n",
       "        vertical-align: top;\n",
       "    }\n",
       "\n",
       "    .dataframe thead th {\n",
       "        text-align: right;\n",
       "    }\n",
       "</style>\n",
       "<table border=\"1\" class=\"dataframe\">\n",
       "  <thead>\n",
       "    <tr style=\"text-align: right;\">\n",
       "      <th></th>\n",
       "      <th>latitude</th>\n",
       "      <th>longitude</th>\n",
       "      <th>height</th>\n",
       "      <th>type</th>\n",
       "      <th>good</th>\n",
       "    </tr>\n",
       "    <tr>\n",
       "      <th>serial</th>\n",
       "      <th></th>\n",
       "      <th></th>\n",
       "      <th></th>\n",
       "      <th></th>\n",
       "      <th></th>\n",
       "    </tr>\n",
       "  </thead>\n",
       "  <tbody>\n",
       "    <tr>\n",
       "      <th>1</th>\n",
       "      <td>46.681067</td>\n",
       "      <td>7.665313</td>\n",
       "      <td>680.9232</td>\n",
       "      <td>SBS-3</td>\n",
       "      <td>False</td>\n",
       "    </tr>\n",
       "    <tr>\n",
       "      <th>2</th>\n",
       "      <td>40.337042</td>\n",
       "      <td>-3.770206</td>\n",
       "      <td>735.7872</td>\n",
       "      <td>SBS-3</td>\n",
       "      <td>False</td>\n",
       "    </tr>\n",
       "    <tr>\n",
       "      <th>3</th>\n",
       "      <td>0.000000</td>\n",
       "      <td>0.000000</td>\n",
       "      <td>0.0000</td>\n",
       "      <td>SBS-3</td>\n",
       "      <td>False</td>\n",
       "    </tr>\n",
       "    <tr>\n",
       "      <th>4</th>\n",
       "      <td>47.143056</td>\n",
       "      <td>7.243889</td>\n",
       "      <td>550.1640</td>\n",
       "      <td>SBS-3</td>\n",
       "      <td>False</td>\n",
       "    </tr>\n",
       "    <tr>\n",
       "      <th>5</th>\n",
       "      <td>52.356455</td>\n",
       "      <td>4.952216</td>\n",
       "      <td>-1.0000</td>\n",
       "      <td>dump1090</td>\n",
       "      <td>False</td>\n",
       "    </tr>\n",
       "  </tbody>\n",
       "</table>\n",
       "</div>"
      ],
      "text/plain": [
       "         latitude  longitude    height      type   good\n",
       "serial                                                 \n",
       "1       46.681067   7.665313  680.9232     SBS-3  False\n",
       "2       40.337042  -3.770206  735.7872     SBS-3  False\n",
       "3        0.000000   0.000000    0.0000     SBS-3  False\n",
       "4       47.143056   7.243889  550.1640     SBS-3  False\n",
       "5       52.356455   4.952216   -1.0000  dump1090  False"
      ]
     },
     "execution_count": 8,
     "metadata": {},
     "output_type": "execute_result"
    }
   ],
   "source": [
    "sensors.head()"
   ]
  },
  {
   "cell_type": "code",
   "execution_count": 9,
   "metadata": {},
   "outputs": [
    {
     "data": {
      "text/html": [
       "<div>\n",
       "<style scoped>\n",
       "    .dataframe tbody tr th:only-of-type {\n",
       "        vertical-align: middle;\n",
       "    }\n",
       "\n",
       "    .dataframe tbody tr th {\n",
       "        vertical-align: top;\n",
       "    }\n",
       "\n",
       "    .dataframe thead th {\n",
       "        text-align: right;\n",
       "    }\n",
       "</style>\n",
       "<table border=\"1\" class=\"dataframe\">\n",
       "  <thead>\n",
       "    <tr style=\"text-align: right;\">\n",
       "      <th></th>\n",
       "      <th>id</th>\n",
       "      <th>timeAtServer</th>\n",
       "      <th>aircraft</th>\n",
       "      <th>latitude</th>\n",
       "      <th>longitude</th>\n",
       "      <th>baroAltitude</th>\n",
       "      <th>geoAltitude</th>\n",
       "      <th>numMeasurements</th>\n",
       "      <th>sensor_0</th>\n",
       "      <th>tmp_0</th>\n",
       "      <th>...</th>\n",
       "      <th>RSSI_2</th>\n",
       "      <th>sensor_3</th>\n",
       "      <th>tmp_3</th>\n",
       "      <th>RSSI_3</th>\n",
       "      <th>sensor_4</th>\n",
       "      <th>tmp_4</th>\n",
       "      <th>RSSI_4</th>\n",
       "      <th>sensor_5</th>\n",
       "      <th>tmp_5</th>\n",
       "      <th>RSSI_5</th>\n",
       "    </tr>\n",
       "  </thead>\n",
       "  <tbody>\n",
       "    <tr>\n",
       "      <th>0</th>\n",
       "      <td>94</td>\n",
       "      <td>0.026</td>\n",
       "      <td>2308</td>\n",
       "      <td>51.082375</td>\n",
       "      <td>6.524734</td>\n",
       "      <td>1325.880005</td>\n",
       "      <td>1264.920044</td>\n",
       "      <td>4</td>\n",
       "      <td>134</td>\n",
       "      <td>1.005387e+09</td>\n",
       "      <td>...</td>\n",
       "      <td>170</td>\n",
       "      <td>670.0</td>\n",
       "      <td>1.005362e+09</td>\n",
       "      <td>62</td>\n",
       "      <td>NaN</td>\n",
       "      <td>NaN</td>\n",
       "      <td>0</td>\n",
       "      <td>NaN</td>\n",
       "      <td>NaN</td>\n",
       "      <td>0</td>\n",
       "    </tr>\n",
       "    <tr>\n",
       "      <th>1</th>\n",
       "      <td>218</td>\n",
       "      <td>0.074</td>\n",
       "      <td>997</td>\n",
       "      <td>53.004227</td>\n",
       "      <td>5.781860</td>\n",
       "      <td>12192.000000</td>\n",
       "      <td>12092.940430</td>\n",
       "      <td>4</td>\n",
       "      <td>170</td>\n",
       "      <td>2.078536e+10</td>\n",
       "      <td>...</td>\n",
       "      <td>19</td>\n",
       "      <td>704.0</td>\n",
       "      <td>7.726590e+10</td>\n",
       "      <td>10</td>\n",
       "      <td>NaN</td>\n",
       "      <td>NaN</td>\n",
       "      <td>0</td>\n",
       "      <td>NaN</td>\n",
       "      <td>NaN</td>\n",
       "      <td>0</td>\n",
       "    </tr>\n",
       "    <tr>\n",
       "      <th>2</th>\n",
       "      <td>666</td>\n",
       "      <td>0.332</td>\n",
       "      <td>1633</td>\n",
       "      <td>45.037125</td>\n",
       "      <td>9.333801</td>\n",
       "      <td>2118.360107</td>\n",
       "      <td>2042.160034</td>\n",
       "      <td>2</td>\n",
       "      <td>132</td>\n",
       "      <td>1.314392e+09</td>\n",
       "      <td>...</td>\n",
       "      <td>0</td>\n",
       "      <td>NaN</td>\n",
       "      <td>NaN</td>\n",
       "      <td>0</td>\n",
       "      <td>NaN</td>\n",
       "      <td>NaN</td>\n",
       "      <td>0</td>\n",
       "      <td>NaN</td>\n",
       "      <td>NaN</td>\n",
       "      <td>0</td>\n",
       "    </tr>\n",
       "    <tr>\n",
       "      <th>3</th>\n",
       "      <td>886</td>\n",
       "      <td>0.455</td>\n",
       "      <td>2625</td>\n",
       "      <td>48.395100</td>\n",
       "      <td>10.262459</td>\n",
       "      <td>10988.040039</td>\n",
       "      <td>10858.500000</td>\n",
       "      <td>10</td>\n",
       "      <td>141</td>\n",
       "      <td>1.435665e+09</td>\n",
       "      <td>...</td>\n",
       "      <td>148</td>\n",
       "      <td>257.0</td>\n",
       "      <td>1.435786e+09</td>\n",
       "      <td>55</td>\n",
       "      <td>263.0</td>\n",
       "      <td>1.435661e+09</td>\n",
       "      <td>67</td>\n",
       "      <td>388.0</td>\n",
       "      <td>7.471172e+10</td>\n",
       "      <td>23</td>\n",
       "    </tr>\n",
       "    <tr>\n",
       "      <th>4</th>\n",
       "      <td>1000</td>\n",
       "      <td>0.520</td>\n",
       "      <td>370</td>\n",
       "      <td>46.047798</td>\n",
       "      <td>6.034378</td>\n",
       "      <td>4480.560059</td>\n",
       "      <td>4381.500000</td>\n",
       "      <td>2</td>\n",
       "      <td>131</td>\n",
       "      <td>1.502574e+09</td>\n",
       "      <td>...</td>\n",
       "      <td>0</td>\n",
       "      <td>NaN</td>\n",
       "      <td>NaN</td>\n",
       "      <td>0</td>\n",
       "      <td>NaN</td>\n",
       "      <td>NaN</td>\n",
       "      <td>0</td>\n",
       "      <td>NaN</td>\n",
       "      <td>NaN</td>\n",
       "      <td>0</td>\n",
       "    </tr>\n",
       "  </tbody>\n",
       "</table>\n",
       "<p>5 rows x 26 columns</p>\n",
       "</div>"
      ],
      "text/plain": [
       "     id  timeAtServer  aircraft   latitude  longitude  baroAltitude  \\\n",
       "0    94         0.026      2308  51.082375   6.524734   1325.880005   \n",
       "1   218         0.074       997  53.004227   5.781860  12192.000000   \n",
       "2   666         0.332      1633  45.037125   9.333801   2118.360107   \n",
       "3   886         0.455      2625  48.395100  10.262459  10988.040039   \n",
       "4  1000         0.520       370  46.047798   6.034378   4480.560059   \n",
       "\n",
       "    geoAltitude  numMeasurements  sensor_0         tmp_0  ...  RSSI_2  \\\n",
       "0   1264.920044                4       134  1.005387e+09  ...     170   \n",
       "1  12092.940430                4       170  2.078536e+10  ...      19   \n",
       "2   2042.160034                2       132  1.314392e+09  ...       0   \n",
       "3  10858.500000               10       141  1.435665e+09  ...     148   \n",
       "4   4381.500000                2       131  1.502574e+09  ...       0   \n",
       "\n",
       "   sensor_3         tmp_3  RSSI_3  sensor_4         tmp_4  RSSI_4  sensor_5  \\\n",
       "0     670.0  1.005362e+09      62       NaN           NaN       0       NaN   \n",
       "1     704.0  7.726590e+10      10       NaN           NaN       0       NaN   \n",
       "2       NaN           NaN       0       NaN           NaN       0       NaN   \n",
       "3     257.0  1.435786e+09      55     263.0  1.435661e+09      67     388.0   \n",
       "4       NaN           NaN       0       NaN           NaN       0       NaN   \n",
       "\n",
       "          tmp_5  RSSI_5  \n",
       "0           NaN       0  \n",
       "1           NaN       0  \n",
       "2           NaN       0  \n",
       "3  7.471172e+10      23  \n",
       "4           NaN       0  \n",
       "\n",
       "[5 rows x 26 columns]"
      ]
     },
     "execution_count": 9,
     "metadata": {},
     "output_type": "execute_result"
    }
   ],
   "source": [
    "flights.head()"
   ]
  },
  {
   "cell_type": "markdown",
   "metadata": {},
   "source": [
    "Now we will join the aforementioned dataframes, so that we will have all the sensors coordinates together with the flights' data."
   ]
  },
  {
   "cell_type": "code",
   "execution_count": 10,
   "metadata": {},
   "outputs": [],
   "source": [
    "for i in range(max_measurements):\n",
    "    flights = flights.join(sensors.loc[:, ['latitude', 'longitude', 'height']], on='sensor_{}'.format(i),\n",
    "                           rsuffix='_{}'.format(i))\n",
    "    \n",
    "flights.rename({'height': 'height_0'}, axis=1, inplace=True)"
   ]
  },
  {
   "cell_type": "code",
   "execution_count": 11,
   "metadata": {},
   "outputs": [],
   "source": [
    "types_coords = {}\n",
    "\n",
    "for i in range(max_measurements):\n",
    "    types_coords['latitude_{}'.format(i)] = 'float32'\n",
    "    types_coords['longitude_{}'.format(i)] = 'float32'\n",
    "    types_coords['height_{}'.format(i)] = 'float32'\n",
    "    \n",
    "flights = flights.astype(types_coords, errors='ignore')"
   ]
  },
  {
   "cell_type": "code",
   "execution_count": 13,
   "metadata": {},
   "outputs": [
    {
     "data": {
      "text/html": [
       "<div>\n",
       "<style scoped>\n",
       "    .dataframe tbody tr th:only-of-type {\n",
       "        vertical-align: middle;\n",
       "    }\n",
       "\n",
       "    .dataframe tbody tr th {\n",
       "        vertical-align: top;\n",
       "    }\n",
       "\n",
       "    .dataframe thead th {\n",
       "        text-align: right;\n",
       "    }\n",
       "</style>\n",
       "<table border=\"1\" class=\"dataframe\">\n",
       "  <thead>\n",
       "    <tr style=\"text-align: right;\">\n",
       "      <th></th>\n",
       "      <th>sensor_0</th>\n",
       "      <th>sensor_1</th>\n",
       "      <th>tmp_0</th>\n",
       "      <th>tmp_1</th>\n",
       "      <th>latitude_0</th>\n",
       "      <th>longitude_0</th>\n",
       "      <th>latitude_1</th>\n",
       "      <th>longitude_1</th>\n",
       "    </tr>\n",
       "  </thead>\n",
       "  <tbody>\n",
       "    <tr>\n",
       "      <th>0</th>\n",
       "      <td>134</td>\n",
       "      <td>248</td>\n",
       "      <td>1.005387e+09</td>\n",
       "      <td>-2.687226e+08</td>\n",
       "      <td>50.937080</td>\n",
       "      <td>7.353797</td>\n",
       "      <td>51.228470</td>\n",
       "      <td>6.679641</td>\n",
       "    </tr>\n",
       "    <tr>\n",
       "      <th>1</th>\n",
       "      <td>170</td>\n",
       "      <td>507</td>\n",
       "      <td>2.078536e+10</td>\n",
       "      <td>5.762634e+10</td>\n",
       "      <td>52.532749</td>\n",
       "      <td>7.309251</td>\n",
       "      <td>53.062771</td>\n",
       "      <td>6.076188</td>\n",
       "    </tr>\n",
       "    <tr>\n",
       "      <th>2</th>\n",
       "      <td>132</td>\n",
       "      <td>277</td>\n",
       "      <td>1.314392e+09</td>\n",
       "      <td>6.080994e+10</td>\n",
       "      <td>45.556053</td>\n",
       "      <td>10.225396</td>\n",
       "      <td>45.976501</td>\n",
       "      <td>8.945900</td>\n",
       "    </tr>\n",
       "    <tr>\n",
       "      <th>3</th>\n",
       "      <td>141</td>\n",
       "      <td>143</td>\n",
       "      <td>1.435665e+09</td>\n",
       "      <td>1.435638e+09</td>\n",
       "      <td>47.511948</td>\n",
       "      <td>10.280076</td>\n",
       "      <td>48.365822</td>\n",
       "      <td>11.478391</td>\n",
       "    </tr>\n",
       "    <tr>\n",
       "      <th>4</th>\n",
       "      <td>131</td>\n",
       "      <td>665</td>\n",
       "      <td>1.502574e+09</td>\n",
       "      <td>4.419118e+10</td>\n",
       "      <td>46.479492</td>\n",
       "      <td>6.837746</td>\n",
       "      <td>45.741699</td>\n",
       "      <td>4.821200</td>\n",
       "    </tr>\n",
       "    <tr>\n",
       "      <th>5</th>\n",
       "      <td>184</td>\n",
       "      <td>216</td>\n",
       "      <td>4.861520e+09</td>\n",
       "      <td>1.465412e+09</td>\n",
       "      <td>52.990002</td>\n",
       "      <td>-0.411000</td>\n",
       "      <td>51.872524</td>\n",
       "      <td>-0.506857</td>\n",
       "    </tr>\n",
       "    <tr>\n",
       "      <th>6</th>\n",
       "      <td>26</td>\n",
       "      <td>236</td>\n",
       "      <td>2.082609e+10</td>\n",
       "      <td>2.115585e+10</td>\n",
       "      <td>48.996437</td>\n",
       "      <td>14.392090</td>\n",
       "      <td>51.062847</td>\n",
       "      <td>13.674202</td>\n",
       "    </tr>\n",
       "    <tr>\n",
       "      <th>7</th>\n",
       "      <td>184</td>\n",
       "      <td>185</td>\n",
       "      <td>4.916274e+09</td>\n",
       "      <td>8.116518e+08</td>\n",
       "      <td>52.990002</td>\n",
       "      <td>-0.411000</td>\n",
       "      <td>51.759014</td>\n",
       "      <td>-1.256688</td>\n",
       "    </tr>\n",
       "    <tr>\n",
       "      <th>8</th>\n",
       "      <td>513</td>\n",
       "      <td>564</td>\n",
       "      <td>8.271333e+10</td>\n",
       "      <td>1.571339e+09</td>\n",
       "      <td>39.276299</td>\n",
       "      <td>-7.590500</td>\n",
       "      <td>39.231777</td>\n",
       "      <td>-9.308084</td>\n",
       "    </tr>\n",
       "    <tr>\n",
       "      <th>9</th>\n",
       "      <td>10</td>\n",
       "      <td>14</td>\n",
       "      <td>1.643685e+09</td>\n",
       "      <td>1.643671e+09</td>\n",
       "      <td>47.400169</td>\n",
       "      <td>8.630680</td>\n",
       "      <td>47.248295</td>\n",
       "      <td>8.529757</td>\n",
       "    </tr>\n",
       "    <tr>\n",
       "      <th>10</th>\n",
       "      <td>150</td>\n",
       "      <td>434</td>\n",
       "      <td>1.755763e+09</td>\n",
       "      <td>2.487414e+10</td>\n",
       "      <td>43.571663</td>\n",
       "      <td>1.471375</td>\n",
       "      <td>43.339207</td>\n",
       "      <td>2.813991</td>\n",
       "    </tr>\n",
       "  </tbody>\n",
       "</table>\n",
       "</div>"
      ],
      "text/plain": [
       "    sensor_0  sensor_1         tmp_0         tmp_1  latitude_0  longitude_0  \\\n",
       "0        134       248  1.005387e+09 -2.687226e+08   50.937080     7.353797   \n",
       "1        170       507  2.078536e+10  5.762634e+10   52.532749     7.309251   \n",
       "2        132       277  1.314392e+09  6.080994e+10   45.556053    10.225396   \n",
       "3        141       143  1.435665e+09  1.435638e+09   47.511948    10.280076   \n",
       "4        131       665  1.502574e+09  4.419118e+10   46.479492     6.837746   \n",
       "5        184       216  4.861520e+09  1.465412e+09   52.990002    -0.411000   \n",
       "6         26       236  2.082609e+10  2.115585e+10   48.996437    14.392090   \n",
       "7        184       185  4.916274e+09  8.116518e+08   52.990002    -0.411000   \n",
       "8        513       564  8.271333e+10  1.571339e+09   39.276299    -7.590500   \n",
       "9         10        14  1.643685e+09  1.643671e+09   47.400169     8.630680   \n",
       "10       150       434  1.755763e+09  2.487414e+10   43.571663     1.471375   \n",
       "\n",
       "    latitude_1  longitude_1  \n",
       "0    51.228470     6.679641  \n",
       "1    53.062771     6.076188  \n",
       "2    45.976501     8.945900  \n",
       "3    48.365822    11.478391  \n",
       "4    45.741699     4.821200  \n",
       "5    51.872524    -0.506857  \n",
       "6    51.062847    13.674202  \n",
       "7    51.759014    -1.256688  \n",
       "8    39.231777    -9.308084  \n",
       "9    47.248295     8.529757  \n",
       "10   43.339207     2.813991  "
      ]
     },
     "execution_count": 13,
     "metadata": {},
     "output_type": "execute_result"
    }
   ],
   "source": [
    "flights.loc[:10, ['sensor_0', 'sensor_1', 'tmp_0', 'tmp_1', 'latitude_0', 'longitude_0', 'latitude_1', 'longitude_1']]"
   ]
  },
  {
   "cell_type": "markdown",
   "metadata": {},
   "source": [
    "The following code performs the timestamp synchronization and calculates the corrections. "
   ]
  },
  {
   "cell_type": "code",
   "execution_count": 13,
   "metadata": {},
   "outputs": [
    {
     "name": "stderr",
     "output_type": "stream",
     "text": [
      "100%|███████████████████████████████████████████████████████████████████████████████████| 5/5 [38:49<00:00, 465.85s/it]\n"
     ]
    }
   ],
   "source": [
    "for i in tqdm(range(1, max_measurements)):\n",
    "    dist_aircraft_t1 = flights.apply(lambda x: calculateDist(x['latitude'], x['longitude'], x['geoAltitude'], \\\n",
    "                                                                x['latitude_0'.format(i)], \n",
    "                                                                x['longitude_0'.format(i)], \n",
    "                                                                x['height_0'.format(i)],), axis=1)\n",
    "    \n",
    "    dist_aircraft_t2 = flights.apply(lambda x: calculateDist(x['latitude'], x['longitude'], x['geoAltitude'], \\\n",
    "                                                                x['latitude_{}'.format(i)], \n",
    "                                                                x['longitude_{}'.format(i)], \n",
    "                                                                x['height_{}'.format(i)],), axis=1)\n",
    "    \n",
    "    # Time of message reception at t2 receiver according to t1 clock (ns)\n",
    "    t2_corr = flights.tmp_0 - (dist_aircraft_t1[0]/29979e-8) + (dist_aircraft_t2[0]/29979e-8) \n",
    "    \n",
    "    # Correction applied to each time message reception at t2 receiver (ns)\n",
    "    correction = flights['tmp_{}'.format(i)] - t2_corr\n",
    "    \n",
    "    flights['tmp_{}'.format(i)] = t2_corr\n",
    "    \n",
    "    flights['corr_{}'.format(i)] = correction\n"
   ]
  },
  {
   "cell_type": "markdown",
   "metadata": {},
   "source": [
    "Below we will plot calculated corrections for chosen sensor pairs. We will also fit the linear regression line into the data to depict how well this method represents the relationship between correction and timeAtServer for each sensor pair."
   ]
  },
  {
   "cell_type": "code",
   "execution_count": 14,
   "metadata": {},
   "outputs": [
    {
     "data": {
      "image/png": "[encoded data removed]",
      "text/plain": [
       "<Figure size 864x720 with 4 Axes>"
      ]
     },
     "metadata": {
      "needs_background": "light"
     },
     "output_type": "display_data"
    }
   ],
   "source": [
    "sensor_pairs = [(248, 366), (207, 425), (169, 700), (133, 143)]\n",
    "\n",
    "fig, axes = plt.subplots(2, 2, figsize=(12,10), sharex=False)\n",
    "count = 0\n",
    "\n",
    "for row in range(2):\n",
    "    for col in range(2):\n",
    "        s1, s2 = sensor_pairs[count]\n",
    "        xy = flights.loc[(flights.sensor_0 == s1) & (flights.sensor_1 == s2), ['timeAtServer', 'corr_1']].values\n",
    "\n",
    "        m, b = np.polyfit(xy[:, 0], xy[:, 1], 1)\n",
    "\n",
    "        axes[row, col].scatter(xy[:, 0], xy[:, 1], s=10, c='orange', label='correction')\n",
    "        axes[row, col].plot(xy[:, 0], m * xy[:, 0] + b, label='Linear regression')\n",
    "        axes[row, col].set_title('Correction for sensors: {} and {}'.format(s1, s2))\n",
    "        axes[row, col].set_ylabel('Timestamp correction (ns)')\n",
    "        axes[row, col].set_xlabel('Time at server (s)')\n",
    "        axes[row, col].legend()\n",
    "        \n",
    "        count += 1\n",
    "        \n",
    "plt.tight_layout()"
   ]
  },
  {
   "cell_type": "markdown",
   "metadata": {},
   "source": [
    "As we can see there are some outliers on the preceding plots, but in general, the linear regression line fits the correction data very well, thus it can be used to estimate the correction that has to be applied to each timestamp measurement."
   ]
  },
  {
   "cell_type": "markdown",
   "metadata": {},
   "source": [
    "We will implement a custom function responsible for writing the dataframe into CSV file in the bach manner."
   ]
  },
  {
   "cell_type": "code",
   "execution_count": 14,
   "metadata": {},
   "outputs": [],
   "source": [
    "def pandas_to_csv(df, path, n_chunks=10, chunk_size=None, index=False):\n",
    "    \n",
    "    df_len = len(df)\n",
    "    \n",
    "    if chunk_size:\n",
    "        n_chunks = df_len // chunk_size\n",
    "        \n",
    "    if df_len % (n_chunks) != 0:\n",
    "        chunk_idxs = list(range(0, df_len, df_len//n_chunks)) \n",
    "    else:\n",
    "        chunk_idxs = list(range(0, df_len+1, df_len//n_chunks))\n",
    "        \n",
    "    chunk_idxs[-1] = df_len\n",
    "    \n",
    "    header = True\n",
    "    mode = 'w'\n",
    "    \n",
    "    for start, end in zip(chunk_idxs[:-1], chunk_idxs[1:]):\n",
    "        chunk = df.iloc[start:end]\n",
    "        chunk.to_csv(path, index=index, header=header, mode=mode)\n",
    "        \n",
    "        del chunk\n",
    "        \n",
    "        header = False\n",
    "        mode = 'a'\n"
   ]
  },
  {
   "cell_type": "code",
   "execution_count": 15,
   "metadata": {},
   "outputs": [],
   "source": [
    "pandas_to_csv(flights, 'round2_training/round2/training3/training3.csv', n_chunks=5, index=False)"
   ]
  },
  {
   "cell_type": "markdown",
   "metadata": {},
   "source": [
    "### Linear regression models of sensor corrections"
   ]
  },
  {
   "cell_type": "markdown",
   "metadata": {},
   "source": [
    "In this section, we are going to fit the linear regression models into timestamp correction data of all sensors. There will be a single model for each pair of sensors (reference sensor + sensor_N), that given the current timeAtServer returns the correction value that needs to be applied."
   ]
  },
  {
   "cell_type": "markdown",
   "metadata": {},
   "source": [
    "We have to begin by loading the synchronized data."
   ]
  },
  {
   "cell_type": "code",
   "execution_count": 2,
   "metadata": {},
   "outputs": [],
   "source": [
    "max_measurements = 6\n",
    "\n",
    "usecols = ['timeAtServer'] + ['sensor_{}'.format(i) for i in range(max_measurements)] + \\\n",
    "    ['corr_{}'.format(i) for i in range(1, max_measurements)]\n",
    "\n",
    "flights = pd.read_csv('round2_training/round2/training3/training3.csv', usecols=usecols)"
   ]
  },
  {
   "cell_type": "markdown",
   "metadata": {},
   "source": [
    "Now we will create the dictionary that contains all sensors that make a pair with the reference sensor. The dictionary will also include their corresponding correction and timeAtServer values."
   ]
  },
  {
   "cell_type": "code",
   "execution_count": 3,
   "metadata": {},
   "outputs": [
    {
     "name": "stderr",
     "output_type": "stream",
     "text": [
      "100%|█████████████████████████████████████████████████████████████████████| 6166940/6166940 [02:10<00:00, 47240.92it/s]\n"
     ]
    }
   ],
   "source": [
    "corr_dict = {}\n",
    "\n",
    "for row in tqdm(flights.itertuples(), total=len(flights)):\n",
    "\n",
    "    s1 = row.sensor_0\n",
    "    timeAtServer = row.timeAtServer\n",
    "    \n",
    "    for i in range(1, max_measurements):\n",
    "        s2 = getattr(row, 'sensor_{}'.format(i))\n",
    "        corr = getattr(row, 'corr_{}'.format(i))\n",
    "        \n",
    "        if np.isnan(s2):\n",
    "            continue\n",
    "            \n",
    "        s1, s2 = int(s1), int(s2)\n",
    "        corr_dict.setdefault('{}_{}'.format(s1, s2), {'TaS': [], 'corr': []})\n",
    "        corr_dict['{}_{}'.format(s1, s2)]['TaS'].append(timeAtServer)\n",
    "        corr_dict['{}_{}'.format(s1, s2)]['corr'].append(corr)\n"
   ]
  },
  {
   "cell_type": "markdown",
   "metadata": {},
   "source": [
    "Below we will fit the linear regression models one by one and save their coefficients into a dictionary."
   ]
  },
  {
   "cell_type": "code",
   "execution_count": 4,
   "metadata": {},
   "outputs": [],
   "source": [
    "coeff_dict = {}\n",
    "\n",
    "for sensors in list(corr_dict.keys()):\n",
    "    x = np.array(corr_dict[sensors]['TaS'])\n",
    "    y = np.array(corr_dict[sensors]['corr'])\n",
    "    m, b = np.polyfit(x, y, 1)\n",
    "    \n",
    "    coeff_dict[sensors] = (m, b)"
   ]
  },
  {
   "cell_type": "markdown",
   "metadata": {},
   "source": [
    "At last, we will persist the coefficients dictionary on a disk for further use."
   ]
  },
  {
   "cell_type": "code",
   "execution_count": 5,
   "metadata": {},
   "outputs": [],
   "source": [
    "if os.path.exists('coeff_dict.pickle'):\n",
    "    with open(r\"coeff_dict.pickle\", \"rb\") as output_file:\n",
    "        coeff_dict_read = pickle.load(output_file)\n",
    "        coeff_dict.update(coeff_dict_read)"
   ]
  },
  {
   "cell_type": "code",
   "execution_count": 6,
   "metadata": {},
   "outputs": [],
   "source": [
    "with open(r\"coeff_dict.pickle\", \"wb\") as output_file:\n",
    "    pickle.dump(coeff_dict, output_file)"
   ]
  },
  {
   "cell_type": "markdown",
   "metadata": {},
   "source": [
    "### Feature extraction and filtering"
   ]
  },
  {
   "cell_type": "markdown",
   "metadata": {},
   "source": [
    "In this section we are going to focus on extracting the following additional features:\n",
    "- timestamp differences\n",
    "- the mean latitude and longitude location of the receivers\n",
    "- the weighted mean of sensors coordinates"
   ]
  },
  {
   "cell_type": "markdown",
   "metadata": {},
   "source": [
    "At first, we will instantiate the <i>SparkSession</i> and set the number of output partitions and the log level."
   ]
  },
  {
   "cell_type": "code",
   "execution_count": 2,
   "metadata": {},
   "outputs": [],
   "source": [
    "spark = SparkSession.builder \\\n",
    "    .master(\"local[2]\") \\\n",
    "    .appName(\"ads-b data processing\") \\\n",
    "    .config(\"spark.driver.memory\", \"4g\") \\\n",
    "    .getOrCreate()"
   ]
  },
  {
   "cell_type": "code",
   "execution_count": 3,
   "metadata": {},
   "outputs": [],
   "source": [
    "# Set number of output partitions\n",
    "spark.conf.set(\"spark.sql.shuffle.partitions\", 100)\n",
    "\n",
    "# Set log level\n",
    "spark.sparkContext.setLogLevel(\"ERROR\")"
   ]
  },
  {
   "cell_type": "code",
   "execution_count": 4,
   "metadata": {},
   "outputs": [],
   "source": [
    "df = spark.read.format(\"csv\") \\\n",
    "    .options(header='True', inferSchema='True') \\\n",
    "    .load('round2_training/round2/training3/training3.csv') "
   ]
  },
  {
   "cell_type": "markdown",
   "metadata": {},
   "source": [
    "Next, we will remove the columns that are no longer useful."
   ]
  },
  {
   "cell_type": "code",
   "execution_count": 5,
   "metadata": {},
   "outputs": [],
   "source": [
    "max_measurements = 6\n",
    "\n",
    "# Select columns to drop. We will keep timeAtServer and aircraft fields for visualization purposes\n",
    "cols = ['id', 'numMeasurements'] + ['sensor_{}'.format(i) for i in range(max_measurements)] \\\n",
    "    + ['corr_{}'.format(i) for i in range(1, max_measurements)]"
   ]
  },
  {
   "cell_type": "code",
   "execution_count": 6,
   "metadata": {},
   "outputs": [],
   "source": [
    "df = df.drop(*cols)"
   ]
  },
  {
   "cell_type": "markdown",
   "metadata": {},
   "source": [
    "Below we will calculate the timestamp differences that are going to be used as additional features."
   ]
  },
  {
   "cell_type": "code",
   "execution_count": 7,
   "metadata": {},
   "outputs": [],
   "source": [
    "# Specify the number of measurements to be taken into account while calculating differences\n",
    "n_meas_diff = 4\n",
    "\n",
    "for col_1 in range(1, n_meas_diff):\n",
    "    for col_2 in range(col_1):\n",
    "        df = df.withColumn('diff_{}_{}'.format(col_1, col_2), F.col('tmp_{}'.format(col_1)) - \\\n",
    "                           F.col('tmp_{}'.format(col_2)))"
   ]
  },
  {
   "cell_type": "code",
   "execution_count": 8,
   "metadata": {},
   "outputs": [
    {
     "name": "stdout",
     "output_type": "stream",
     "text": [
      "+---------------+--------------------+--------------------+-------------------+-------------------+\n",
      "|          tmp_0|               tmp_1|               tmp_2|           diff_1_0|           diff_2_0|\n",
      "+---------------+--------------------+--------------------+-------------------+-------------------+\n",
      "|  6.040732833E9| 6.040755583653483E9|6.0415790803354225E9| 22750.653483390808|  846247.3354225159|\n",
      "|  4.181512167E9|4.1815121993956394E9|4.1816904042636733E9| 32.395639419555664|  178237.2636733055|\n",
      "|6.8231743833E10| 6.82318009082791E10|                null|  57075.27909851074|               null|\n",
      "|4.4342689333E10|4.434263257770246E10|4.434262728769303E10|-56755.297538757324|-62045.306968688965|\n",
      "|   3.06961578E8| 3.067029259464967E8|3.0658706102887994E8|-258652.05350327492| -374516.9711200595|\n",
      "+---------------+--------------------+--------------------+-------------------+-------------------+\n",
      "only showing top 5 rows\n",
      "\n"
     ]
    }
   ],
   "source": [
    "df.select('tmp_0', 'tmp_1', 'tmp_2', 'diff_1_0', 'diff_2_0').show(5)"
   ]
  },
  {
   "cell_type": "markdown",
   "metadata": {},
   "source": [
    "The next feature to extract is the mean latitude and longitude location of the sensors receiving the signal."
   ]
  },
  {
   "cell_type": "code",
   "execution_count": 9,
   "metadata": {},
   "outputs": [],
   "source": [
    "cols = [col for col in df.columns if 'latitude_' in col]\n",
    "\n",
    "df = df.withColumn('mean_lat',\\\n",
    "     sum([F.when(F.col(col).isNull(), 0).otherwise(F.col(col)) for col in cols])/ \\\n",
    "     sum([F.when(F.col(col).isNull(), 0).otherwise(1) for col in cols])). \\\n",
    "     fillna(0, 'mean_lat')\n",
    "\n",
    "cols = [col for col in df.columns if 'longitude_' in col]\n",
    "\n",
    "df = df.withColumn('mean_lon',\\\n",
    "     sum([F.when(F.col(col).isNull(), 0).otherwise(F.col(col)) for col in cols])/ \\\n",
    "     sum([F.when(F.col(col).isNull(), 0).otherwise(1) for col in cols])). \\\n",
    "     fillna(0, 'mean_lon')"
   ]
  },
  {
   "cell_type": "code",
   "execution_count": 10,
   "metadata": {},
   "outputs": [
    {
     "name": "stdout",
     "output_type": "stream",
     "text": [
      "+----------+----------+----------+----------+------------------+\n",
      "|latitude_0|latitude_1|latitude_2|latitude_3|          mean_lat|\n",
      "+----------+----------+----------+----------+------------------+\n",
      "|   49.9943|    50.123|   48.0281|      null|           49.3818|\n",
      "|   49.5692| 49.569286| 46.762405|      null|48.633630333333336|\n",
      "|   53.0433| 53.571148|      null|      null|53.307224000000005|\n",
      "|   52.2627| 52.436016|   52.1114|  52.38154|         52.297914|\n",
      "| 51.759014|   53.0433| 52.780922|   53.3575|52.574139333333335|\n",
      "+----------+----------+----------+----------+------------------+\n",
      "only showing top 5 rows\n",
      "\n"
     ]
    }
   ],
   "source": [
    "df.select('latitude_0', 'latitude_1', 'latitude_2', 'latitude_3', 'mean_lat').show(5)"
   ]
  },
  {
   "cell_type": "code",
   "execution_count": 11,
   "metadata": {},
   "outputs": [
    {
     "name": "stdout",
     "output_type": "stream",
     "text": [
      "+-----------+-----------+-----------+-----------+-------------------+\n",
      "|longitude_0|longitude_1|longitude_2|longitude_3|           mean_lon|\n",
      "+-----------+-----------+-----------+-----------+-------------------+\n",
      "|     8.6604|    8.69833|    10.7168|       null|            9.35851|\n",
      "|      6.064|   6.064015|   7.600447|       null|           6.576154|\n",
      "|    -2.2295|  -3.059619|       null|       null|-2.6445594999999997|\n",
      "|  13.619793|  13.361244|    11.6383|    9.98306|        12.15059925|\n",
      "|  -1.256688|    -2.2295|   -1.20459|    -1.4963|-1.4577513333333334|\n",
      "+-----------+-----------+-----------+-----------+-------------------+\n",
      "only showing top 5 rows\n",
      "\n"
     ]
    }
   ],
   "source": [
    "df.select('longitude_0', 'longitude_1', 'longitude_2', 'longitude_3', 'mean_lon').show(5)"
   ]
  },
  {
   "cell_type": "markdown",
   "metadata": {},
   "source": [
    "We will also use the weighted mean of sensors coordinates as an additional feature. In this calculation, weights are going to be inverse values of timestamp measurements."
   ]
  },
  {
   "cell_type": "code",
   "execution_count": 12,
   "metadata": {},
   "outputs": [],
   "source": [
    "cols = [col for col in df.columns if 'latitude_' in col]\n",
    "\n",
    "df = df.withColumn('w_mean_lat',\\\n",
    "     sum([F.when(F.col(col).isNull(), 0).otherwise(F.col(col)*(1/F.col('tmp_{}'.format(i)))) \\\n",
    "          for i, col in enumerate(cols)])/ \\\n",
    "     sum([F.when(F.col(col).isNull(), 0).otherwise(1/F.col('tmp_{}'.format(i))) \\\n",
    "          for i, col in enumerate(cols)])). \\\n",
    "     fillna(0, 'w_mean_lat')\n",
    "\n",
    "cols = [col for col in df.columns if 'longitude_' in col]\n",
    "\n",
    "df = df.withColumn('w_mean_lon',\\\n",
    "     sum([F.when(F.col(col).isNull(), 0).otherwise(F.col(col)*(1/F.col('tmp_{}'.format(i)))) \\\n",
    "          for i, col in enumerate(cols)])/ \\\n",
    "     sum([F.when(F.col(col).isNull(), 0).otherwise(1/F.col('tmp_{}'.format(i))) \\\n",
    "          for i, col in enumerate(cols)])). \\\n",
    "     fillna(0, 'w_mean_lon')"
   ]
  },
  {
   "cell_type": "code",
   "execution_count": 13,
   "metadata": {},
   "outputs": [
    {
     "name": "stdout",
     "output_type": "stream",
     "text": [
      "+----------+----------+---------------+--------------------+------------------+\n",
      "|latitude_0|latitude_1|          tmp_0|               tmp_1|        w_mean_lat|\n",
      "+----------+----------+---------------+--------------------+------------------+\n",
      "|   49.9943|    50.123|  6.040732833E9| 6.040755583653483E9| 49.38186227698855|\n",
      "|   49.5692| 49.569286|  4.181512167E9|4.1815121993956394E9|48.633656917200746|\n",
      "|   53.0433| 53.571148|6.8231743833E10| 6.82318009082791E10|53.307223889614946|\n",
      "|   52.2627| 52.436016|4.4342689333E10|4.434263257770246E10| 52.29791384004996|\n",
      "| 51.759014|   53.0433|   3.06961578E8| 3.067029259464967E8| 52.57458086608702|\n",
      "+----------+----------+---------------+--------------------+------------------+\n",
      "only showing top 5 rows\n",
      "\n"
     ]
    }
   ],
   "source": [
    "df.select('latitude_0', 'latitude_1', 'tmp_0', 'tmp_1', 'w_mean_lat').show(5)"
   ]
  },
  {
   "cell_type": "code",
   "execution_count": 14,
   "metadata": {},
   "outputs": [
    {
     "name": "stdout",
     "output_type": "stream",
     "text": [
      "+-----------+-----------+---------------+--------------------+-------------------+\n",
      "|longitude_0|longitude_1|          tmp_0|               tmp_1|         w_mean_lon|\n",
      "+-----------+-----------+---------------+--------------------+-------------------+\n",
      "|     8.6604|    8.69833|  6.040732833E9| 6.040755583653483E9|  9.358447406976023|\n",
      "|      6.064|   6.064015|  4.181512167E9|4.1815121993956394E9|  6.576139448214619|\n",
      "|    -2.2295|  -3.059619|6.8231743833E10| 6.82318009082791E10| -2.644559326403184|\n",
      "|  13.619793|  13.361244|4.4342689333E10|4.434263257770246E10| 12.150603058294632|\n",
      "|  -1.256688|    -2.2295|   3.06961578E8| 3.067029259464967E8|-1.4574936088578214|\n",
      "+-----------+-----------+---------------+--------------------+-------------------+\n",
      "only showing top 5 rows\n",
      "\n"
     ]
    }
   ],
   "source": [
    "df.select('longitude_0', 'longitude_1', 'tmp_0', 'tmp_1', 'w_mean_lon').show(5)"
   ]
  },
  {
   "cell_type": "markdown",
   "metadata": {},
   "source": [
    "As the last step, we will fill in missing values and save the data frame."
   ]
  },
  {
   "cell_type": "code",
   "execution_count": 15,
   "metadata": {},
   "outputs": [],
   "source": [
    "df = df \\\n",
    "    .fillna(-90, subset=[col for col in df.columns if 'latitude' in col]) \\\n",
    "    .fillna(-180, subset=[col for col in df.columns if 'longitude' in col]) \\\n",
    "    .fillna(-90, subset=[col for col in df.columns if 'mean_lat' in col]) \\\n",
    "    .fillna(-180, subset=[col for col in df.columns if 'mean_lon' in col]) \\\n",
    "    .fillna(0)"
   ]
  },
  {
   "cell_type": "code",
   "execution_count": 16,
   "metadata": {},
   "outputs": [],
   "source": [
    "df.repartition(1).write.save('round2_training/round2/tmp_training3/', format='csv', header=True)"
   ]
  },
  {
   "cell_type": "code",
   "execution_count": 17,
   "metadata": {},
   "outputs": [],
   "source": [
    "list_dir = os.listdir('round2_training/round2/tmp_training3/')\n",
    "\n",
    "if '_SUCCESS' in list_dir:\n",
    "    file_name = [name for name in list_dir if name.startswith('part')]\n",
    "    os.rename(os.path.join('round2_training/round2/tmp_training3', file_name[0]), \\\n",
    "              'round2_training/round2/tmp_training3/training3.csv')\n",
    "    os.replace('round2_training/round2/tmp_training3/training3.csv', 'round2_training/round2/training3/training3.csv')\n",
    "    \n",
    "    import shutil\n",
    "    shutil.rmtree('round2_training/round2/tmp_training3/')"
   ]
  },
  {
   "cell_type": "markdown",
   "metadata": {},
   "source": [
    "### Normalization parameters"
   ]
  },
  {
   "cell_type": "markdown",
   "metadata": {},
   "source": [
    "In this section, we are going to calculate the normalization parameters - minimum and maximum, that subsequently can be used by machine learning models to normalize the input batches of data."
   ]
  },
  {
   "cell_type": "markdown",
   "metadata": {},
   "source": [
    "First, we have to load the data."
   ]
  },
  {
   "cell_type": "code",
   "execution_count": 2,
   "metadata": {},
   "outputs": [],
   "source": [
    "df_csv = pd.read_csv('round2_training/round2/training3/training3.csv', nrows=1)\n",
    "\n",
    "columns = list(df_csv.columns)\n",
    "\n",
    "use_cols = [col for col in columns if ('latitude' not in col) and ('longitude' not in col) and \\\n",
    "           ('mean' not in col)]"
   ]
  },
  {
   "cell_type": "code",
   "execution_count": 3,
   "metadata": {},
   "outputs": [],
   "source": [
    "flights = pd.read_csv('round2_training/round2/training3/training3.csv', usecols=use_cols)"
   ]
  },
  {
   "cell_type": "markdown",
   "metadata": {},
   "source": [
    "Now we will calculate the normalization parameters (MIN, MAX) for each feature."
   ]
  },
  {
   "cell_type": "code",
   "execution_count": 4,
   "metadata": {},
   "outputs": [],
   "source": [
    "norm_params = {}\n",
    "\n",
    "for col in columns:\n",
    "    if ('latitude' in col) or ('mean_lat' in col):\n",
    "        norm_params[col] = {'min': -90, 'max': 90}\n",
    "    elif ('longitude' in col) or ('mean_lon' in col):\n",
    "        norm_params[col] = {'min': -180, 'max': 180}\n",
    "    elif ('timeAtServer' in col) or ('aircraft' in col):\n",
    "        pass\n",
    "    else:\n",
    "        norm_params[col] = {'min': flights[col].min(), 'max': flights[col].max()}\n"
   ]
  },
  {
   "cell_type": "markdown",
   "metadata": {},
   "source": [
    "The following code will update the normalization parameters if the notebook is restarted."
   ]
  },
  {
   "cell_type": "code",
   "execution_count": 5,
   "metadata": {},
   "outputs": [],
   "source": [
    "if os.path.exists('norm_params.pickle'):\n",
    "    with open(r\"norm_params.pickle\", \"rb\") as output_file:\n",
    "        norm_params_read = pickle.load(output_file)\n",
    "        \n",
    "    # Update normalization parameters\n",
    "    for k, v in norm_params_read.items():\n",
    "        if k == 'input_features':\n",
    "            norm_params[k] = norm_params_read[k]\n",
    "        elif k == 'target':\n",
    "            norm_params[k] = norm_params_read[k]\n",
    "        elif v['max'] > norm_params[k]['max']:\n",
    "            norm_params[k]['max'] = v['max']\n",
    "        elif v['min'] < norm_params[k]['min']:\n",
    "            norm_params[k]['min'] = v['min']\n",
    "            "
   ]
  },
  {
   "cell_type": "code",
   "execution_count": 6,
   "metadata": {},
   "outputs": [],
   "source": [
    "target_cols = ['latitude', 'longitude', 'geoAltitude']\n",
    "vis_cols = ['timeAtServer', 'aircraft']\n",
    "input_feature = [col for col in columns if (col not in target_cols) and (col not in vis_cols)]\n",
    "\n",
    "norm_params['input_features'] = input_feature\n",
    "norm_params['target'] = target_cols"
   ]
  },
  {
   "cell_type": "markdown",
   "metadata": {},
   "source": [
    "Now we will save the dictionary with the normalization parameters as a <i>pickle</i> file."
   ]
  },
  {
   "cell_type": "code",
   "execution_count": 8,
   "metadata": {},
   "outputs": [],
   "source": [
    "with open(r\"norm_params.pickle\", \"wb\") as output_file:\n",
    "    pickle.dump(norm_params, output_file)"
   ]
  },
  {
   "cell_type": "markdown",
   "metadata": {},
   "source": [
    "### Create the HDF5 training dataset"
   ]
  },
  {
   "cell_type": "markdown",
   "metadata": {},
   "source": [
    "The rest of the code in this notebook should be run last after the entire training dataset (all three files) has been preprocessed. \n",
    "\n",
    "We will write the content of the CSV training dataset into to HDF5 file."
   ]
  },
  {
   "cell_type": "code",
   "execution_count": 2,
   "metadata": {},
   "outputs": [],
   "source": [
    "import pandas as pd\n",
    "import pickle\n",
    "import numpy as np"
   ]
  },
  {
   "cell_type": "markdown",
   "metadata": {},
   "source": [
    "After importing the libraries we have to specify the paths of all preprocessed files and the name of the HDF5 file."
   ]
  },
  {
   "cell_type": "code",
   "execution_count": 3,
   "metadata": {},
   "outputs": [],
   "source": [
    "train_path_1 = 'round2_training/round2/training1/training1.csv'\n",
    "train_path_2 = 'round2_training/round2/training2/training2.csv'\n",
    "train_path_3 = 'round2_training/round2/training3/training3.csv'\n",
    "\n",
    "files = [train_path_1, train_path_2, train_path_3]\n",
    "\n",
    "hdf5_path = 'training.hdf5'"
   ]
  },
  {
   "cell_type": "code",
   "execution_count": 4,
   "metadata": {},
   "outputs": [],
   "source": [
    "with open(r\"norm_params.pickle\", \"rb\") as output_file:\n",
    "    norm_params = pickle.load(output_file)"
   ]
  },
  {
   "cell_type": "code",
   "execution_count": 5,
   "metadata": {},
   "outputs": [],
   "source": [
    "input_feature = norm_params['input_features']\n",
    "target_cols = norm_params['target']"
   ]
  },
  {
   "cell_type": "markdown",
   "metadata": {},
   "source": [
    "The following code will create the HDF5 file."
   ]
  },
  {
   "cell_type": "code",
   "execution_count": 8,
   "metadata": {},
   "outputs": [],
   "source": [
    "with pd.HDFStore(hdf5_path, 'w') as store:\n",
    "    for file in files:\n",
    "        try:\n",
    "            df = pd.read_csv(file, encoding='utf-8', chunksize=500000, index_col=False)\n",
    "            \n",
    "            try:\n",
    "                nrows = store.get_storer('input').nrows\n",
    "            except:\n",
    "                nrows = 0\n",
    "            \n",
    "            for chunk in df:\n",
    "                chunk.index = pd.Series(chunk.index) + nrows\n",
    "                store.append('input', chunk.loc[:, input_feature].astype('float'))\n",
    "                store.append('target', chunk.loc[:, target_cols].astype('float'))\n",
    "\n",
    "        except Exception as detail:\n",
    "            print(file, detail)\n"
   ]
  },
  {
   "cell_type": "markdown",
   "metadata": {},
   "source": [
    "### Populate MariaDB database"
   ]
  },
  {
   "cell_type": "markdown",
   "metadata": {},
   "source": [
    "Before we insert the data into MariaDB database we have to first create one. Use the <i>createDB.py</i> python script to create MariaDB database."
   ]
  },
  {
   "cell_type": "code",
   "execution_count": 1,
   "metadata": {},
   "outputs": [],
   "source": [
    "import pandas as pd\n",
    "import mariadb\n",
    "import pickle\n",
    "import logging\n",
    "import sys\n",
    "from getpass import getpass\n",
    "from config import mariadb_hostname, mariadb_port, mariadb_database_name, mariadb_table_name"
   ]
  },
  {
   "cell_type": "code",
   "execution_count": 2,
   "metadata": {},
   "outputs": [],
   "source": [
    "train_path_1 = 'round2_training/round2/training1/training1.csv'\n",
    "train_path_2 = 'round2_training/round2/training2/training2.csv'\n",
    "train_path_3 = 'round2_training/round2/training3/training3.csv'\n",
    "\n",
    "files = [train_path_1, train_path_2, train_path_3]"
   ]
  },
  {
   "cell_type": "markdown",
   "metadata": {},
   "source": [
    "Use the login and the password you provided during the initialization of the MariaDB."
   ]
  },
  {
   "cell_type": "code",
   "execution_count": 3,
   "metadata": {},
   "outputs": [
    {
     "name": "stdout",
     "output_type": "stream",
     "text": [
      "Login to MariaDB:\n",
      "User: root\n",
      "Password: ········\n"
     ]
    }
   ],
   "source": [
    "print('Login to MariaDB:')\n",
    "mariadb_user = input('User: ')\n",
    "mariadb_password = getpass('Password: ')\n",
    "\n",
    "# For Docker - uncomment the following line to override the mariadb_hostname\n",
    "# mariadb_hostname = 'mariadb' \n",
    "\n",
    "# Connect to MariaDB server\n",
    "try:\n",
    "    cnx = mariadb.connect(host=mariadb_hostname, port=mariadb_port, user=mariadb_user, password=mariadb_password)\n",
    "except mariadb.Error as msg:\n",
    "    logging.error(\"Error connecting to MariaDB Platform: {}\".format(msg))\n",
    "    sys.exit(1)"
   ]
  },
  {
   "cell_type": "markdown",
   "metadata": {},
   "source": [
    "Now we will insert all the data into MariaDB database."
   ]
  },
  {
   "cell_type": "code",
   "execution_count": 4,
   "metadata": {},
   "outputs": [
    {
     "name": "stdout",
     "output_type": "stream",
     "text": [
      "Data inserting ended successfully\n"
     ]
    }
   ],
   "source": [
    "with open(r\"norm_params.pickle\", \"rb\") as output_file:\n",
    "    norm_params = pickle.load(output_file)\n",
    "    \n",
    "columns = ['timeAtServer', 'aircraft'] + norm_params['input_features'] + norm_params['target']\n",
    "\n",
    "# Instantiate cursor object\n",
    "cursor = cnx.cursor()\n",
    "\n",
    "# Use given database\n",
    "cursor.execute(\"USE {};\".format(mariadb_database_name))\n",
    "\n",
    "insert_query = \"INSERT INTO \" + mariadb_table_name + \" (\" + \", \".join(columns) + \") VALUES (\" + \\\n",
    "    \", \".join([\"?\" for i in range(len(columns))]) + \");\"\n",
    "\n",
    "for file in files:\n",
    "    df = pd.read_csv(file, encoding='utf-8', chunksize=10000, index_col=False)\n",
    "    \n",
    "    for chunk in df:\n",
    "        data = list(zip(*[chunk[col] for col in columns]))\n",
    "\n",
    "        try:\n",
    "            cursor.executemany(insert_query, data)\n",
    "            cnx.commit()\n",
    "        except mariadb.Error as msg:\n",
    "            logging.error(msg)\n",
    "            sys.exit(1)\n",
    "else:\n",
    "    print(\"Data inserting ended successfully\")"
   ]
  },
  {
   "cell_type": "markdown",
   "metadata": {},
   "source": [
    "### References"
   ]
  },
  {
   "cell_type": "markdown",
   "metadata": {},
   "source": [
    "[1]. <i>The Testing of MLAT Method Application by means of Usage low-cost ADS-B Receivers</i>, Stanislav Pleninger, Department of Air Transport, Czech Technical University in Prague. "
   ]
  }
 ],
 "metadata": {
  "kernelspec": {
   "display_name": "aircraft",
   "language": "python",
   "name": "aircraft"
  },
  "language_info": {
   "codemirror_mode": {
    "name": "ipython",
    "version": 3
   },
   "file_extension": ".py",
   "mimetype": "text/x-python",
   "name": "python",
   "nbconvert_exporter": "python",
   "pygments_lexer": "ipython3",
   "version": "3.8.3"
  }
 },
 "nbformat": 4,
 "nbformat_minor": 4
}
