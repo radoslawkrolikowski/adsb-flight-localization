{
 "cells": [
  {
   "cell_type": "markdown",
   "metadata": {},
   "source": [
    "## Training the TabNet model"
   ]
  },
  {
   "cell_type": "markdown",
   "metadata": {},
   "source": [
    "In this notebook, we are going to train the TabNet neural network model, in which the following architectures and tools have been implemented:\n",
    "\n",
    "- Ghost Batch Normalization\n",
    "- Sparsemax activation function\n",
    "- Gated Linear Unit blocks\n",
    "- Shared and dependant GLU fully connected layers across all decision steps\n",
    "- Attentive Transformer\n",
    "- Feature Transformer\n",
    "\n",
    "The architecture of the TabNet model is described in the following paper: https://arxiv.org/pdf/1908.07442.pdf.\n",
    "\n",
    "The implementation of all building blocks of the model can be found in the file: <i>TabNetBlocks.py</i> in this repository.\n",
    "\n",
    "Pytorch Datasets are defined in the following file: <i>PytorchDatasets.py</i>"
   ]
  },
  {
   "cell_type": "markdown",
   "metadata": {},
   "source": [
    "Let's start with importing all indispensable libraries."
   ]
  },
  {
   "cell_type": "code",
   "execution_count": 1,
   "metadata": {},
   "outputs": [],
   "source": [
    "import torch\n",
    "import torch.nn as nn\n",
    "from torch.utils.data.dataset import Dataset\n",
    "from torch.utils.data import DataLoader\n",
    "from TabNetBlocks import TabNet\n",
    "from sklearn.model_selection import train_test_split\n",
    "from sklearn.metrics import mean_squared_error\n",
    "from tqdm import tqdm\n",
    "import pandas as pd\n",
    "import numpy as np\n",
    "import pickle\n",
    "import h5py\n",
    "import mariadb\n",
    "import matplotlib.pyplot as plt\n",
    "import seaborn as sns\n",
    "from getpass import getpass\n",
    "from PytorchDatasets import DatasetFromHDF5, PandasDataset, MariaDB_chunk_indices, MariaDB_dataset\n",
    "from config import mariadb_hostname, mariadb_database_name, mariadb_port, mariadb_table_name"
   ]
  },
  {
   "cell_type": "markdown",
   "metadata": {},
   "source": [
    "We also have to load the normalization parameters."
   ]
  },
  {
   "cell_type": "code",
   "execution_count": 2,
   "metadata": {},
   "outputs": [],
   "source": [
    "with open(r\"norm_params.pickle\", \"rb\") as output_file:\n",
    "    norm_params = pickle.load(output_file)"
   ]
  },
  {
   "cell_type": "markdown",
   "metadata": {},
   "source": [
    "Now we will connect to the MariaDB server."
   ]
  },
  {
   "cell_type": "code",
   "execution_count": 3,
   "metadata": {},
   "outputs": [
    {
     "name": "stdout",
     "output_type": "stream",
     "text": [
      "Login to MariaDB:\n",
      "User: root\n",
      "Password: ········\n"
     ]
    }
   ],
   "source": [
    "print('Login to MariaDB:')\n",
    "mariadb_user = input('User: ')\n",
    "mariadb_password = getpass('Password: ')\n",
    "\n",
    "# Connect to MariaDB server\n",
    "try:\n",
    "    cnx = mariadb.connect(host=mariadb_hostname, port=mariadb_port, user=mariadb_user, password=mariadb_password)\n",
    "except mariadb.Error as msg:\n",
    "    logging.error(\"Error connecting to MariaDB Platform: {}\".format(msg))\n",
    "    sys.exit(1)\n",
    "\n",
    "# Instantiate cursor object\n",
    "cursor = cnx.cursor()\n",
    "\n",
    "# Use given database\n",
    "cursor.execute(\"USE {};\".format(mariadb_database_name))"
   ]
  },
  {
   "cell_type": "markdown",
   "metadata": {},
   "source": [
    "We will use the Pytorch MariaDB Dataset class to load the data in a chunked manner. At first, we will generate the chunks indices that will be provided into the loader. To do this we will utilize the <i>MariaDB_chunk_indices</i> class from the <i>PytorchDatasets.py file</i>."
   ]
  },
  {
   "cell_type": "code",
   "execution_count": 4,
   "metadata": {},
   "outputs": [],
   "source": [
    "# Parameters: cursor, table_name, chunk_size\n",
    "chunk_indices = MariaDB_chunk_indices(cursor, mariadb_table_name, 1024 * 50)"
   ]
  },
  {
   "cell_type": "markdown",
   "metadata": {},
   "source": [
    "Subsequently, we will continuously read rows specified by the indices parameter from the MariaDB database.\n",
    "\n",
    "To load only particular input features, provide them under the <i>feat_cols</i> variable (list of input column names)."
   ]
  },
  {
   "cell_type": "code",
   "execution_count": 5,
   "metadata": {},
   "outputs": [
    {
     "name": "stdout",
     "output_type": "stream",
     "text": [
      "Input feat:  tensor([[8.4529e-02, 1.6240e-04, 4.1961e-01, 1.6239e-04, 4.1176e-01, 1.6282e-04,\n",
      "         6.6667e-01, 1.6284e-04, 2.4314e-01, 0.0000e+00, 0.0000e+00, 0.0000e+00,\n",
      "         0.0000e+00, 7.8333e-01, 5.1944e-01, 6.4251e-02, 7.8333e-01, 5.1944e-01,\n",
      "         1.1065e-02, 7.8333e-01, 5.1944e-01, 1.0792e-02, 7.8333e-01, 5.1667e-01,\n",
      "         7.6991e-03, 0.0000e+00, 0.0000e+00, 0.0000e+00, 0.0000e+00, 0.0000e+00,\n",
      "         0.0000e+00, 4.6947e-01, 4.6207e-01, 5.0287e-01, 4.9535e-01, 5.3608e-01,\n",
      "         5.2707e-01, 7.8438e-01, 5.1848e-01, 7.8438e-01, 5.1848e-01],\n",
      "        [8.1506e-01, 3.3662e-03, 7.2941e-01, 3.3661e-03, 7.8431e-02, 3.3665e-03,\n",
      "         7.4510e-02, 3.3666e-03, 3.9216e-02, 0.0000e+00, 0.0000e+00, 0.0000e+00,\n",
      "         0.0000e+00, 7.9444e-01, 5.1944e-01, 7.6223e-03, 7.9444e-01, 5.1667e-01,\n",
      "         9.8353e-04, 7.9444e-01, 5.1667e-01, 1.2291e-03, 7.9444e-01, 5.1389e-01,\n",
      "         1.4749e-03, 0.0000e+00, 0.0000e+00, 0.0000e+00, 0.0000e+00, 0.0000e+00,\n",
      "         0.0000e+00, 4.3029e-01, 4.2169e-01, 5.0170e-01, 4.6945e-01, 5.4985e-01,\n",
      "         5.4259e-01, 7.9350e-01, 5.1687e-01, 7.9350e-01, 5.1687e-01]],\n",
      "       dtype=torch.float64)\n",
      "target:  tensor([[0.7838, 0.5181, 0.0832],\n",
      "        [0.7945, 0.5161, 0.8042]], dtype=torch.float64)\n"
     ]
    }
   ],
   "source": [
    "feat_cols = None\n",
    "\n",
    "for chunk_ind in chunk_indices:\n",
    "    \n",
    "    mariadb_dataset = MariaDB_dataset(chunk_ind, cursor, mariadb_table_name, norm_params, feat_cols=feat_cols)\n",
    "    \n",
    "    batch_loader = DataLoader(mariadb_dataset, batch_size=2, drop_last=True)\n",
    "    \n",
    "    for input_feat, target in batch_loader:\n",
    "        print('Input feat: ', input_feat)\n",
    "        print('target: ', target)\n",
    "        \n",
    "        break\n",
    "    break"
   ]
  },
  {
   "cell_type": "markdown",
   "metadata": {},
   "source": [
    "Now is the time to create the evaluation and test datasets. To limit the size of these sets we will load 3 million rows from the CSV, and then take a random sample from it."
   ]
  },
  {
   "cell_type": "code",
   "execution_count": 6,
   "metadata": {},
   "outputs": [],
   "source": [
    "eval_test_df = pd.read_csv('round2_competition_data/eval_test/eval_test.csv', nrows=3e+6)"
   ]
  },
  {
   "cell_type": "code",
   "execution_count": 7,
   "metadata": {},
   "outputs": [],
   "source": [
    "# Take a random sample of eval_test dataframe\n",
    "eval_test_df = eval_test_df.sample(n=800000)"
   ]
  },
  {
   "cell_type": "markdown",
   "metadata": {},
   "source": [
    "Below we will split the dataset into the evaluation and test sets."
   ]
  },
  {
   "cell_type": "code",
   "execution_count": 8,
   "metadata": {},
   "outputs": [],
   "source": [
    "# Split dataframe to evaluation and test sets\n",
    "eval_df, test_df = train_test_split(eval_test_df, test_size=0.4)"
   ]
  },
  {
   "cell_type": "code",
   "execution_count": 9,
   "metadata": {},
   "outputs": [],
   "source": [
    "# feat_cols = norm_params['input_features'][:30]\n",
    "feat_cols = None\n",
    "eval_set = PandasDataset(eval_test_df, norm_params, feat_cols=feat_cols)\n",
    "# test_set = PandasDataset(test_df, norm_params)"
   ]
  },
  {
   "cell_type": "code",
   "execution_count": 10,
   "metadata": {},
   "outputs": [],
   "source": [
    "eval_loader = DataLoader(eval_set, batch_size=2, shuffle=False, drop_last=True)\n",
    "# test_loader = DataLoader(test_set, batch_size=2, shuffle=False, drop_last=False)"
   ]
  },
  {
   "cell_type": "markdown",
   "metadata": {},
   "source": [
    "Let's look at how the data in the evaluation set present."
   ]
  },
  {
   "cell_type": "code",
   "execution_count": 11,
   "metadata": {},
   "outputs": [
    {
     "name": "stdout",
     "output_type": "stream",
     "text": [
      "input_feat: tensor([[ 4.0113e-01,  2.1952e-01,  7.2157e-01,  2.3402e-01,  7.2549e-01,\n",
      "          2.1952e-01,  2.7843e-01,  2.1952e-01,  7.5294e-01,  2.2275e-01,\n",
      "          3.4902e-01,  2.4431e-01,  5.2549e-01,  7.9468e-01,  4.9381e-01,\n",
      "          4.8930e-02,  7.9572e-01,  4.9750e-01,  1.5491e-02,  7.9723e-01,\n",
      "          4.9359e-01,  2.0895e-02,  7.9762e-01,  4.9150e-01,  4.9164e-03,\n",
      "          7.9690e-01,  4.9177e-01,  1.1259e-02,  7.9762e-01,  4.9150e-01,\n",
      "          3.6873e-03,  2.0403e+04,  5.7852e-01, -2.0292e+04,  1.0799e+00,\n",
      "         -2.0145e+04,  9.9250e-01,  7.9663e-01,  4.9328e-01,  7.9664e-01,\n",
      "          4.9323e-01],\n",
      "        [ 5.7070e-01,  2.4573e-02,  2.5098e-01,  2.7955e-02,  2.1961e-01,\n",
      "          0.0000e+00,  0.0000e+00,  0.0000e+00,  0.0000e+00,  0.0000e+00,\n",
      "          0.0000e+00,  0.0000e+00,  0.0000e+00,  7.2309e-01,  5.2393e-01,\n",
      "          2.2612e-02,  7.3253e-01,  5.3507e-01,  3.3159e-02,  0.0000e+00,\n",
      "          0.0000e+00,  0.0000e+00,  0.0000e+00,  0.0000e+00,  0.0000e+00,\n",
      "          0.0000e+00,  0.0000e+00,  0.0000e+00,  0.0000e+00,  0.0000e+00,\n",
      "          0.0000e+00,  4.7608e+03,  4.9198e-01,  5.0171e-01,  5.0133e-01,\n",
      "          5.1117e-01,  5.0236e-01,  7.2781e-01,  5.2950e-01,  7.2751e-01,\n",
      "          5.2914e-01]], dtype=torch.float64)\n",
      "target: tensor([[0.8008, 0.4950, 0.4003],\n",
      "        [0.7338, 0.5299, 0.5561]], dtype=torch.float64)\n"
     ]
    }
   ],
   "source": [
    "for input_feat, target in eval_loader:\n",
    "    print('input_feat:', input_feat)\n",
    "    print('target:', target)\n",
    "    break"
   ]
  },
  {
   "cell_type": "markdown",
   "metadata": {},
   "source": [
    "Below we will define a function that inverses the normalization and converts WSG84 coordinates to cartesian ones. This function will be used as a helper function while calculating the distance error in kilometres."
   ]
  },
  {
   "cell_type": "code",
   "execution_count": 12,
   "metadata": {},
   "outputs": [],
   "source": [
    "# Target's normalization parameters\n",
    "y_min = np.array([norm_params[col]['min'] for col in norm_params['target']])\n",
    "y_max = np.array([norm_params[col]['max'] for col in norm_params['target']])\n",
    "\n",
    "def lla_to_ecef(df):\n",
    "    \"\"\"Reverses the normalization and converts WSG84 coordinates to cartesian ones.\n",
    "    \n",
    "    \"\"\"\n",
    "    \n",
    "    # Inverse the normalization\n",
    "    df = df * (y_max - y_min) + y_min\n",
    "    \n",
    "    latitude = np.radians(df[:, 0])\n",
    "    longitude = np.radians(df[:, 1])\n",
    "    altitude = df[:, 2]\n",
    "\n",
    "    # WSG84 ellipsoid constants\n",
    "    a = 6378137\n",
    "    e = 8.1819190842622e-2\n",
    "\n",
    "    # Prime vertical radius of curvature\n",
    "    N = a / np.sqrt(1 - e**2 * np.sin(latitude)**2)\n",
    "    \n",
    "    x = (N + altitude) * np.cos(latitude) * np.cos(longitude)\n",
    "    y = (N + altitude) * np.cos(latitude) * np.sin(longitude)\n",
    "    z = ((1 - e**2) * N + altitude) * np.sin(latitude)\n",
    "\n",
    "    # df = torch.cat([x.unsqueeze(1), y.unsqueeze(1), z.unsqueeze(1)], dim=1)\n",
    "\n",
    "    df = np.hstack([np.expand_dims(x, axis=1), np.expand_dims(y, axis=1), np.expand_dims(z, axis=1)])\n",
    "    \n",
    "    return df"
   ]
  },
  {
   "cell_type": "markdown",
   "metadata": {},
   "source": [
    "Subsequently, we will define functions that will perform a single training or evaluation epoch. Those functions will take as an argument the Pytorch TabNet model and training/evaluation iterator, and return the metrics such as average loss, mean distance error or explanatory mask."
   ]
  },
  {
   "cell_type": "code",
   "execution_count": 13,
   "metadata": {},
   "outputs": [],
   "source": [
    "def train_model(model, train_iterator):\n",
    "    \"\"\"Perform single training epoch.\n",
    "\n",
    "    Parameters\n",
    "    ----------\n",
    "    model: TabNet class object\n",
    "    train_iterator: torch.utils.data.DataLoader\n",
    "        Pytorch DataLoader object that loads data from MariaDB_dataset/PandasDataset/DatasetFromHDF5\n",
    "\n",
    "    Returns\n",
    "    -------\n",
    "    train_losses: list\n",
    "        List of the average training batch losses\n",
    "    avg_loss: float\n",
    "        Average loss on the entire training set (1 epoch)\n",
    "    mean_dist_error: float\n",
    "        Mean distance error in kilometres\n",
    "    mask_list: list\n",
    "        List of masks.\n",
    "    mask_explain_list: list\n",
    "        List of explanatory masks\n",
    "    \n",
    "    \"\"\"\n",
    "    \n",
    "    model.train()\n",
    "    model.double()        \n",
    "\n",
    "    train_losses = []\n",
    "    losses = []\n",
    "    dist_errors_list = []\n",
    "    pred_total = torch.DoubleTensor()\n",
    "    target_total = torch.DoubleTensor()\n",
    "\n",
    "    for i, batch in enumerate(train_iterator, 1):\n",
    "\n",
    "        input_feat, target = batch\n",
    "        \n",
    "        mask_list = []\n",
    "        mask_explain_list = []\n",
    "\n",
    "        input_feat.to(model.device)\n",
    "        target.to(model.device)\n",
    "\n",
    "        model.optimizer.zero_grad()\n",
    "\n",
    "        pred, sparse_loss, masks, mask_explain = model.forward(input_feat)\n",
    "        loss = model.loss_fn(pred, target)\n",
    "        loss -= 1e-3 * sparse_loss.squeeze(-1)\n",
    "        loss.backward()\n",
    "        losses.append(loss.data.cpu().numpy())\n",
    "        \n",
    "        model.optimizer.step()\n",
    "     \n",
    "        pred_total = torch.cat([pred_total, pred], dim=0)\n",
    "        target_total = torch.cat([target_total, target], dim=0)\n",
    "        \n",
    "        print_every = len(train_iterator) // 2\n",
    "        \n",
    "        if i % print_every == 0:\n",
    "            avg_train_loss = np.mean(losses)\n",
    "            train_losses.append(avg_train_loss)\n",
    "\n",
    "            pred_ecef = lla_to_ecef(pred_total.detach().numpy())\n",
    "            target_ecef = lla_to_ecef(target_total.detach().numpy())\n",
    "\n",
    "            # Calculate the average prediciton - target distance error in kilometers\n",
    "            dist_error = np.sqrt((pred_ecef[:, 0] - target_ecef[:, 0])**2 + (pred_ecef[:, 1] - target_ecef[:, 1])**2 + \\\n",
    "                    (pred_ecef[:, 2] - target_ecef[:, 2])**2) / 1000\n",
    "\n",
    "            dist_error = np.mean(np.abs(dist_error))\n",
    "            dist_errors_list.append(dist_error)\n",
    "\n",
    "            print('Average training loss: {:.4f}. Mean distance error (km): {:.3f}'\\\n",
    "                  .format(avg_train_loss, dist_error))\n",
    "\n",
    "            losses = []\n",
    "\n",
    "            pred_total = torch.DoubleTensor()\n",
    "            target_total = torch.DoubleTensor()\n",
    "            \n",
    "            mask_list.append(masks)\n",
    "            mask_explain_list.append(mask_explain)\n",
    "\n",
    "    avg_loss = np.mean(train_losses)\n",
    "\n",
    "    mean_dist_error = np.mean(dist_errors_list)\n",
    "\n",
    "    return train_losses, avg_loss, mean_dist_error, mask_list, mask_explain_list\n",
    "\n",
    "\n",
    "def evaluate_model(model, eval_iterator):\n",
    "    \"\"\"Perform single evaluation epoch.\n",
    "\n",
    "    Parameters\n",
    "    ----------\n",
    "    model: TabNet class object\n",
    "    eval_iterator: torch.utils.data.DataLoader\n",
    "        Pytorch DataLoader object that loads data from MariaDB_dataset/PandasDataset/DatasetFromHDF5\n",
    "\n",
    "    Returns\n",
    "    -------\n",
    "    eval_losses: list\n",
    "        List of the average evaluation batch losses\n",
    "    avg_loss: float\n",
    "        Average loss on the entire training set (1 epoch)\n",
    "    mean_dist_error: float\n",
    "        Mean distance error in kilometres\n",
    "    \n",
    "    \"\"\"\n",
    "    \n",
    "    model.eval()\n",
    "    model.double() \n",
    "\n",
    "    eval_losses = []\n",
    "    losses = []\n",
    "    dist_errors_list = []\n",
    "    pred_total = torch.DoubleTensor()\n",
    "    target_total = torch.DoubleTensor()\n",
    "\n",
    "    with torch.no_grad():\n",
    "        for i, batch in tqdm(enumerate(eval_iterator, 1), total=len(eval_iterator), desc='Evaluation'):\n",
    "\n",
    "            input_feat, target = batch\n",
    "\n",
    "            input_feat.to(model.device)\n",
    "            target.to(model.device)\n",
    "            \n",
    "            pred, sparse_loss, _, _ = model.forward(input_feat)\n",
    "            loss = model.loss_fn(pred, target)\n",
    "            loss -= 1e-3 * sparse_loss.squeeze(-1)\n",
    "            losses.append(loss.data.cpu().numpy())\n",
    "            \n",
    "            pred_total = torch.cat([pred_total, pred], dim=0)\n",
    "            target_total = torch.cat([target_total, target], dim=0)     \n",
    "            \n",
    "            print_every = len(eval_iterator) // 2\n",
    "\n",
    "            if i % print_every == 0:\n",
    "                avg_eval_loss = np.mean(losses)\n",
    "                eval_losses.append(avg_eval_loss)\n",
    "\n",
    "                pred_ecef = lla_to_ecef(pred_total.detach().numpy())\n",
    "                target_ecef = lla_to_ecef(target_total.detach().numpy())\n",
    "\n",
    "                # Calculate the average prediciton - target distance error in kilometers\n",
    "                dist_error = np.sqrt((pred_ecef[:, 0] - target_ecef[:, 0])**2 + (pred_ecef[:, 1] - target_ecef[:, 1])**2 + \\\n",
    "                        (pred_ecef[:, 2] - target_ecef[:, 2])**2) / 1000\n",
    "\n",
    "                dist_error = np.mean(np.abs(dist_error))\n",
    "                dist_errors_list.append(dist_error)\n",
    "\n",
    "                print('Iteration: {}. Average evaluation loss: {:.4f}. Mean distance error (km): {:.3f}'\\\n",
    "                      .format(i, avg_eval_loss, dist_error))\n",
    "\n",
    "                losses = []\n",
    "\n",
    "                pred_total = torch.DoubleTensor()\n",
    "                target_total = torch.DoubleTensor()\n",
    "\n",
    "    avg_loss = np.mean(eval_losses)\n",
    "\n",
    "    mean_dist_error = np.mean(dist_errors_list)\n",
    "\n",
    "    return eval_losses, avg_loss, mean_dist_error"
   ]
  },
  {
   "cell_type": "markdown",
   "metadata": {},
   "source": [
    "Below we will set the parameters of the model. Note that I decided to train a not too complex model, but you can still play with those parameters to fine-tune a more sophisticated neural network. Then we will instantiate the model, add loss function, optimizer, and device to it and begin the training. We will also define a scheduler object that will be responsible for adjusting the learning rate based on the number of epochs."
   ]
  },
  {
   "cell_type": "code",
   "execution_count": 14,
   "metadata": {},
   "outputs": [
    {
     "name": "stderr",
     "output_type": "stream",
     "text": [
      "\r",
      "  0%|                                                                                           | 0/19 [00:00<?, ?it/s]"
     ]
    },
    {
     "name": "stdout",
     "output_type": "stream",
     "text": [
      "\n",
      "Start epoch [1/8]\n",
      "Current learning rate: 0.00700\n",
      "Average training loss: 0.0376. Mean distance error (km): 2911.726\n"
     ]
    },
    {
     "name": "stderr",
     "output_type": "stream",
     "text": [
      "\r",
      "  5%|████▏                                                                           | 1/19 [05:01<1:30:20, 301.14s/it]"
     ]
    },
    {
     "name": "stdout",
     "output_type": "stream",
     "text": [
      "Average training loss: 0.0174. Mean distance error (km): 1073.341\n",
      "Average training loss: 0.0163. Mean distance error (km): 862.944\n",
      "Average training loss: 0.0129. Mean distance error (km): 884.390\n"
     ]
    },
    {
     "name": "stderr",
     "output_type": "stream",
     "text": [
      "\r",
      " 11%|████████▍                                                                       | 2/19 [09:55<1:24:45, 299.17s/it]"
     ]
    },
    {
     "name": "stdout",
     "output_type": "stream",
     "text": [
      "Average training loss: 0.0063. Mean distance error (km): 771.523\n"
     ]
    },
    {
     "name": "stderr",
     "output_type": "stream",
     "text": [
      "\r",
      " 16%|████████████▋                                                                   | 3/19 [14:55<1:19:47, 299.23s/it]"
     ]
    },
    {
     "name": "stdout",
     "output_type": "stream",
     "text": [
      "Average training loss: 0.0056. Mean distance error (km): 783.126\n",
      "Average training loss: 0.0036. Mean distance error (km): 685.874\n",
      "Average training loss: 0.0024. Mean distance error (km): 555.967\n"
     ]
    },
    {
     "name": "stderr",
     "output_type": "stream",
     "text": [
      "\r",
      " 21%|████████████████▊                                                               | 4/19 [19:50<1:14:29, 297.98s/it]"
     ]
    },
    {
     "name": "stdout",
     "output_type": "stream",
     "text": [
      "Average training loss: 0.0035. Mean distance error (km): 718.883\n"
     ]
    },
    {
     "name": "stderr",
     "output_type": "stream",
     "text": [
      "\r",
      " 26%|█████████████████████                                                           | 5/19 [24:50<1:09:40, 298.64s/it]"
     ]
    },
    {
     "name": "stdout",
     "output_type": "stream",
     "text": [
      "Average training loss: 0.0027. Mean distance error (km): 560.405\n",
      "Average training loss: 0.0027. Mean distance error (km): 527.124\n",
      "Average training loss: 0.0024. Mean distance error (km): 503.026\n"
     ]
    },
    {
     "name": "stderr",
     "output_type": "stream",
     "text": [
      "\r",
      " 32%|█████████████████████████▎                                                      | 6/19 [29:38<1:03:59, 295.36s/it]"
     ]
    },
    {
     "name": "stdout",
     "output_type": "stream",
     "text": [
      "Average training loss: 0.0025. Mean distance error (km): 482.787\n"
     ]
    },
    {
     "name": "stderr",
     "output_type": "stream",
     "text": [
      "\r",
      " 37%|██████████████████████████████▏                                                   | 7/19 [34:29<58:51, 294.29s/it]"
     ]
    },
    {
     "name": "stdout",
     "output_type": "stream",
     "text": [
      "Average training loss: 0.0026. Mean distance error (km): 602.369\n",
      "Average training loss: 0.0016. Mean distance error (km): 542.421\n",
      "Average training loss: 0.0016. Mean distance error (km): 508.655\n"
     ]
    },
    {
     "name": "stderr",
     "output_type": "stream",
     "text": [
      "\r",
      " 42%|██████████████████████████████████▌                                               | 8/19 [39:07<53:03, 289.43s/it]"
     ]
    },
    {
     "name": "stdout",
     "output_type": "stream",
     "text": [
      "Average training loss: 0.0015. Mean distance error (km): 498.913\n"
     ]
    },
    {
     "name": "stderr",
     "output_type": "stream",
     "text": [
      "\r",
      " 47%|██████████████████████████████████████▊                                           | 9/19 [43:37<47:13, 283.37s/it]"
     ]
    },
    {
     "name": "stdout",
     "output_type": "stream",
     "text": [
      "Average training loss: 0.0013. Mean distance error (km): 493.110\n",
      "Average training loss: 0.0011. Mean distance error (km): 486.107\n",
      "Average training loss: 0.0008. Mean distance error (km): 486.586\n"
     ]
    },
    {
     "name": "stderr",
     "output_type": "stream",
     "text": [
      "\r",
      " 53%|██████████████████████████████████████████▋                                      | 10/19 [48:05<41:51, 279.02s/it]"
     ]
    },
    {
     "name": "stdout",
     "output_type": "stream",
     "text": [
      "Average training loss: 0.0008. Mean distance error (km): 480.760\n"
     ]
    },
    {
     "name": "stderr",
     "output_type": "stream",
     "text": [
      "\r",
      " 58%|██████████████████████████████████████████████▉                                  | 11/19 [53:10<38:12, 286.57s/it]"
     ]
    },
    {
     "name": "stdout",
     "output_type": "stream",
     "text": [
      "Average training loss: 0.0010. Mean distance error (km): 486.434\n",
      "Average training loss: 0.0011. Mean distance error (km): 465.807\n"
     ]
    },
    {
     "name": "stderr",
     "output_type": "stream",
     "text": [
      "\r",
      " 63%|███████████████████████████████████████████████████▏                             | 12/19 [58:02<33:38, 288.40s/it]"
     ]
    },
    {
     "name": "stdout",
     "output_type": "stream",
     "text": [
      "Average training loss: 0.0010. Mean distance error (km): 456.934\n",
      "Average training loss: 0.0011. Mean distance error (km): 508.564\n",
      "Average training loss: 0.0010. Mean distance error (km): 530.967\n"
     ]
    },
    {
     "name": "stderr",
     "output_type": "stream",
     "text": [
      "\r",
      " 68%|██████████████████████████████████████████████████████                         | 13/19 [1:03:17<29:38, 296.42s/it]"
     ]
    },
    {
     "name": "stdout",
     "output_type": "stream",
     "text": [
      "Average training loss: 0.0009. Mean distance error (km): 497.309\n"
     ]
    },
    {
     "name": "stderr",
     "output_type": "stream",
     "text": [
      "\r",
      " 74%|██████████████████████████████████████████████████████████▏                    | 14/19 [1:08:29<25:04, 300.91s/it]"
     ]
    },
    {
     "name": "stdout",
     "output_type": "stream",
     "text": [
      "Average training loss: 0.0008. Mean distance error (km): 484.887\n",
      "Average training loss: 0.0008. Mean distance error (km): 491.257\n",
      "Average training loss: 0.0007. Mean distance error (km): 476.943\n"
     ]
    },
    {
     "name": "stderr",
     "output_type": "stream",
     "text": [
      "\r",
      " 79%|██████████████████████████████████████████████████████████████▎                | 15/19 [1:13:22<19:54, 298.72s/it]"
     ]
    },
    {
     "name": "stdout",
     "output_type": "stream",
     "text": [
      "Average training loss: 0.0007. Mean distance error (km): 472.377\n"
     ]
    },
    {
     "name": "stderr",
     "output_type": "stream",
     "text": [
      "\r",
      " 84%|██████████████████████████████████████████████████████████████████▌            | 16/19 [1:18:24<14:58, 299.65s/it]"
     ]
    },
    {
     "name": "stdout",
     "output_type": "stream",
     "text": [
      "Average training loss: 0.0010. Mean distance error (km): 492.963\n",
      "Average training loss: 0.0008. Mean distance error (km): 506.223\n",
      "Average training loss: 0.0008. Mean distance error (km): 505.855\n"
     ]
    },
    {
     "name": "stderr",
     "output_type": "stream",
     "text": [
      "\r",
      " 89%|██████████████████████████████████████████████████████████████████████▋        | 17/19 [1:23:29<10:02, 301.03s/it]"
     ]
    },
    {
     "name": "stdout",
     "output_type": "stream",
     "text": [
      "Average training loss: 0.0007. Mean distance error (km): 496.310\n"
     ]
    },
    {
     "name": "stderr",
     "output_type": "stream",
     "text": [
      "\r",
      " 95%|██████████████████████████████████████████████████████████████████████████▊    | 18/19 [1:28:46<05:05, 305.98s/it]"
     ]
    },
    {
     "name": "stdout",
     "output_type": "stream",
     "text": [
      "Average training loss: 0.0006. Mean distance error (km): 501.225\n",
      "Average training loss: 0.0008. Mean distance error (km): 496.275\n"
     ]
    },
    {
     "name": "stderr",
     "output_type": "stream",
     "text": [
      "100%|███████████████████████████████████████████████████████████████████████████████| 19/19 [1:31:13<00:00, 288.09s/it]\n",
      "Evaluation:   0%|                                                                              | 0/130 [00:00<?, ?it/s]"
     ]
    },
    {
     "name": "stdout",
     "output_type": "stream",
     "text": [
      "Average training loss: 0.0007. Mean distance error (km): 482.878\n"
     ]
    },
    {
     "name": "stderr",
     "output_type": "stream",
     "text": [
      "Evaluation:  50%|██████████████████████████████████▌                                  | 65/130 [01:20<01:14,  1.14s/it]"
     ]
    },
    {
     "name": "stdout",
     "output_type": "stream",
     "text": [
      "Iteration: 65. Average evaluation loss: 0.0182. Mean distance error (km): 723.815\n"
     ]
    },
    {
     "name": "stderr",
     "output_type": "stream",
     "text": [
      "Evaluation: 100%|████████████████████████████████████████████████████████████████████| 130/130 [02:33<00:00,  1.18s/it]\n",
      "  0%|                                                                                           | 0/19 [00:00<?, ?it/s]"
     ]
    },
    {
     "name": "stdout",
     "output_type": "stream",
     "text": [
      "Iteration: 130. Average evaluation loss: 0.0183. Mean distance error (km): 726.390\n",
      "\n",
      "Epoch [1/8]: Train distance error (km): 489.576. Train loss: 0.0008. Evaluation distance error (km): 725.102. Evaluation loss: 0.0182\n",
      "\n",
      "Start epoch [2/8]\n",
      "Current learning rate: 0.00490\n",
      "Average training loss: 0.0007. Mean distance error (km): 482.008\n"
     ]
    },
    {
     "name": "stderr",
     "output_type": "stream",
     "text": [
      "\r",
      "  5%|████▏                                                                           | 1/19 [05:02<1:30:49, 302.76s/it]"
     ]
    },
    {
     "name": "stdout",
     "output_type": "stream",
     "text": [
      "Average training loss: 0.0007. Mean distance error (km): 478.413\n",
      "Average training loss: 0.0007. Mean distance error (km): 475.081\n",
      "Average training loss: 0.0005. Mean distance error (km): 473.678\n"
     ]
    },
    {
     "name": "stderr",
     "output_type": "stream",
     "text": [
      "\r",
      " 11%|████████▍                                                                       | 2/19 [09:59<1:25:18, 301.09s/it]"
     ]
    },
    {
     "name": "stdout",
     "output_type": "stream",
     "text": [
      "Average training loss: 0.0006. Mean distance error (km): 478.480\n"
     ]
    },
    {
     "name": "stderr",
     "output_type": "stream",
     "text": [
      "\r",
      " 16%|████████████▋                                                                   | 3/19 [14:59<1:20:10, 300.67s/it]"
     ]
    },
    {
     "name": "stdout",
     "output_type": "stream",
     "text": [
      "Average training loss: 0.0007. Mean distance error (km): 469.121\n",
      "Average training loss: 0.0007. Mean distance error (km): 470.407\n",
      "Average training loss: 0.0007. Mean distance error (km): 478.342\n"
     ]
    },
    {
     "name": "stderr",
     "output_type": "stream",
     "text": [
      "\r",
      " 21%|████████████████▊                                                               | 4/19 [19:58<1:15:02, 300.18s/it]"
     ]
    },
    {
     "name": "stdout",
     "output_type": "stream",
     "text": [
      "Average training loss: 0.0006. Mean distance error (km): 465.003\n"
     ]
    },
    {
     "name": "stderr",
     "output_type": "stream",
     "text": [
      "\r",
      " 26%|█████████████████████                                                           | 5/19 [24:43<1:08:58, 295.63s/it]"
     ]
    },
    {
     "name": "stdout",
     "output_type": "stream",
     "text": [
      "Average training loss: 0.0005. Mean distance error (km): 472.215\n",
      "Average training loss: 0.0006. Mean distance error (km): 467.212\n",
      "Average training loss: 0.0005. Mean distance error (km): 466.108\n"
     ]
    },
    {
     "name": "stderr",
     "output_type": "stream",
     "text": [
      "\r",
      " 32%|█████████████████████████▎                                                      | 6/19 [29:29<1:03:23, 292.57s/it]"
     ]
    },
    {
     "name": "stdout",
     "output_type": "stream",
     "text": [
      "Average training loss: 0.0006. Mean distance error (km): 464.738\n"
     ]
    },
    {
     "name": "stderr",
     "output_type": "stream",
     "text": [
      "\r",
      " 37%|██████████████████████████████▏                                                   | 7/19 [34:43<59:48, 299.00s/it]"
     ]
    },
    {
     "name": "stdout",
     "output_type": "stream",
     "text": [
      "Average training loss: 0.0005. Mean distance error (km): 467.135\n",
      "Average training loss: 0.0005. Mean distance error (km): 460.887\n",
      "Average training loss: 0.0005. Mean distance error (km): 460.367\n"
     ]
    },
    {
     "name": "stderr",
     "output_type": "stream",
     "text": [
      "\r",
      " 42%|██████████████████████████████████▌                                               | 8/19 [40:02<55:55, 305.08s/it]"
     ]
    },
    {
     "name": "stdout",
     "output_type": "stream",
     "text": [
      "Average training loss: 0.0005. Mean distance error (km): 461.228\n"
     ]
    },
    {
     "name": "stderr",
     "output_type": "stream",
     "text": [
      "\r",
      " 47%|██████████████████████████████████████▊                                           | 9/19 [45:14<51:11, 307.15s/it]"
     ]
    },
    {
     "name": "stdout",
     "output_type": "stream",
     "text": [
      "Average training loss: 0.0005. Mean distance error (km): 459.622\n",
      "Average training loss: 0.0005. Mean distance error (km): 463.985\n",
      "Average training loss: 0.0005. Mean distance error (km): 465.190\n"
     ]
    },
    {
     "name": "stderr",
     "output_type": "stream",
     "text": [
      "\r",
      " 53%|██████████████████████████████████████████▋                                      | 10/19 [50:49<47:19, 315.45s/it]"
     ]
    },
    {
     "name": "stdout",
     "output_type": "stream",
     "text": [
      "Average training loss: 0.0005. Mean distance error (km): 460.087\n"
     ]
    },
    {
     "name": "stderr",
     "output_type": "stream",
     "text": [
      "\r",
      " 58%|██████████████████████████████████████████████▉                                  | 11/19 [56:26<42:55, 321.89s/it]"
     ]
    },
    {
     "name": "stdout",
     "output_type": "stream",
     "text": [
      "Average training loss: 0.0004. Mean distance error (km): 458.620\n",
      "Average training loss: 0.0004. Mean distance error (km): 460.138\n"
     ]
    },
    {
     "name": "stderr",
     "output_type": "stream",
     "text": [
      "\r",
      " 63%|█████████████████████████████████████████████████▉                             | 12/19 [1:01:28<36:51, 315.96s/it]"
     ]
    },
    {
     "name": "stdout",
     "output_type": "stream",
     "text": [
      "Average training loss: 0.0004. Mean distance error (km): 458.175\n",
      "Average training loss: 0.0004. Mean distance error (km): 456.381\n",
      "Average training loss: 0.0004. Mean distance error (km): 451.279\n"
     ]
    },
    {
     "name": "stderr",
     "output_type": "stream",
     "text": [
      "\r",
      " 68%|██████████████████████████████████████████████████████                         | 13/19 [1:06:26<31:03, 310.63s/it]"
     ]
    },
    {
     "name": "stdout",
     "output_type": "stream",
     "text": [
      "Average training loss: 0.0007. Mean distance error (km): 464.890\n"
     ]
    },
    {
     "name": "stderr",
     "output_type": "stream",
     "text": [
      "\r",
      " 74%|██████████████████████████████████████████████████████████▏                    | 14/19 [1:11:35<25:50, 310.11s/it]"
     ]
    },
    {
     "name": "stdout",
     "output_type": "stream",
     "text": [
      "Average training loss: 0.0006. Mean distance error (km): 451.709\n",
      "Average training loss: 0.0007. Mean distance error (km): 455.052\n",
      "Average training loss: 0.0006. Mean distance error (km): 460.033\n"
     ]
    },
    {
     "name": "stderr",
     "output_type": "stream",
     "text": [
      "\r",
      " 79%|██████████████████████████████████████████████████████████████▎                | 15/19 [1:16:44<20:39, 309.97s/it]"
     ]
    },
    {
     "name": "stdout",
     "output_type": "stream",
     "text": [
      "Average training loss: 0.0006. Mean distance error (km): 447.939\n"
     ]
    },
    {
     "name": "stderr",
     "output_type": "stream",
     "text": [
      "\r",
      " 84%|██████████████████████████████████████████████████████████████████▌            | 16/19 [1:21:58<15:33, 311.16s/it]"
     ]
    },
    {
     "name": "stdout",
     "output_type": "stream",
     "text": [
      "Average training loss: 0.0005. Mean distance error (km): 452.357\n",
      "Average training loss: 0.0005. Mean distance error (km): 445.118\n",
      "Average training loss: 0.0005. Mean distance error (km): 443.197\n"
     ]
    },
    {
     "name": "stderr",
     "output_type": "stream",
     "text": [
      "\r",
      " 89%|██████████████████████████████████████████████████████████████████████▋        | 17/19 [1:27:11<10:23, 311.64s/it]"
     ]
    },
    {
     "name": "stdout",
     "output_type": "stream",
     "text": [
      "Average training loss: 0.0005. Mean distance error (km): 442.439\n"
     ]
    },
    {
     "name": "stderr",
     "output_type": "stream",
     "text": [
      "\r",
      " 95%|██████████████████████████████████████████████████████████████████████████▊    | 18/19 [1:32:23<05:11, 311.67s/it]"
     ]
    },
    {
     "name": "stdout",
     "output_type": "stream",
     "text": [
      "Average training loss: 0.0005. Mean distance error (km): 447.608\n",
      "Average training loss: 0.0004. Mean distance error (km): 450.952\n"
     ]
    },
    {
     "name": "stderr",
     "output_type": "stream",
     "text": [
      "100%|███████████████████████████████████████████████████████████████████████████████| 19/19 [1:34:47<00:00, 299.36s/it]\n",
      "Evaluation:   0%|                                                                              | 0/130 [00:00<?, ?it/s]"
     ]
    },
    {
     "name": "stdout",
     "output_type": "stream",
     "text": [
      "Average training loss: 0.0004. Mean distance error (km): 449.193\n"
     ]
    },
    {
     "name": "stderr",
     "output_type": "stream",
     "text": [
      "Evaluation:  50%|██████████████████████████████████▌                                  | 65/130 [01:12<01:15,  1.16s/it]"
     ]
    },
    {
     "name": "stdout",
     "output_type": "stream",
     "text": [
      "Iteration: 65. Average evaluation loss: 0.0061. Mean distance error (km): 738.533\n"
     ]
    },
    {
     "name": "stderr",
     "output_type": "stream",
     "text": [
      "Evaluation: 100%|████████████████████████████████████████████████████████████████████| 130/130 [02:26<00:00,  1.13s/it]\n",
      "  0%|                                                                                           | 0/19 [00:00<?, ?it/s]"
     ]
    },
    {
     "name": "stdout",
     "output_type": "stream",
     "text": [
      "Iteration: 130. Average evaluation loss: 0.0061. Mean distance error (km): 737.688\n",
      "\n",
      "Epoch [2/8]: Train distance error (km): 450.072. Train loss: 0.0004. Evaluation distance error (km): 738.111. Evaluation loss: 0.0061\n",
      "\n",
      "Start epoch [3/8]\n",
      "Current learning rate: 0.00343\n",
      "Average training loss: 0.0004. Mean distance error (km): 445.400\n"
     ]
    },
    {
     "name": "stderr",
     "output_type": "stream",
     "text": [
      "\r",
      "  5%|████▏                                                                           | 1/19 [05:01<1:30:26, 301.49s/it]"
     ]
    },
    {
     "name": "stdout",
     "output_type": "stream",
     "text": [
      "Average training loss: 0.0004. Mean distance error (km): 454.910\n",
      "Average training loss: 0.0004. Mean distance error (km): 454.661\n",
      "Average training loss: 0.0003. Mean distance error (km): 448.194\n"
     ]
    },
    {
     "name": "stderr",
     "output_type": "stream",
     "text": [
      "\r",
      " 11%|████████▍                                                                       | 2/19 [10:43<1:28:53, 313.74s/it]"
     ]
    },
    {
     "name": "stdout",
     "output_type": "stream",
     "text": [
      "Average training loss: 0.0003. Mean distance error (km): 447.482\n"
     ]
    },
    {
     "name": "stderr",
     "output_type": "stream",
     "text": [
      "\r",
      " 16%|████████████▋                                                                   | 3/19 [16:31<1:26:22, 323.92s/it]"
     ]
    },
    {
     "name": "stdout",
     "output_type": "stream",
     "text": [
      "Average training loss: 0.0003. Mean distance error (km): 440.622\n",
      "Average training loss: 0.0003. Mean distance error (km): 435.640\n",
      "Average training loss: 0.0003. Mean distance error (km): 435.459\n"
     ]
    },
    {
     "name": "stderr",
     "output_type": "stream",
     "text": [
      "\r",
      " 21%|████████████████▊                                                               | 4/19 [21:53<1:20:50, 323.36s/it]"
     ]
    },
    {
     "name": "stdout",
     "output_type": "stream",
     "text": [
      "Average training loss: 0.0003. Mean distance error (km): 437.390\n"
     ]
    },
    {
     "name": "stderr",
     "output_type": "stream",
     "text": [
      "\r",
      " 26%|█████████████████████                                                           | 5/19 [27:05<1:14:38, 319.92s/it]"
     ]
    },
    {
     "name": "stdout",
     "output_type": "stream",
     "text": [
      "Average training loss: 0.0003. Mean distance error (km): 432.056\n",
      "Average training loss: 0.0003. Mean distance error (km): 433.175\n",
      "Average training loss: 0.0003. Mean distance error (km): 429.800\n"
     ]
    },
    {
     "name": "stderr",
     "output_type": "stream",
     "text": [
      "\r",
      " 32%|█████████████████████████▎                                                      | 6/19 [32:55<1:11:14, 328.84s/it]"
     ]
    },
    {
     "name": "stdout",
     "output_type": "stream",
     "text": [
      "Average training loss: 0.0003. Mean distance error (km): 425.984\n"
     ]
    },
    {
     "name": "stderr",
     "output_type": "stream",
     "text": [
      "\r",
      " 37%|█████████████████████████████▍                                                  | 7/19 [38:14<1:05:12, 326.02s/it]"
     ]
    },
    {
     "name": "stdout",
     "output_type": "stream",
     "text": [
      "Average training loss: 0.0003. Mean distance error (km): 420.961\n",
      "Average training loss: 0.0003. Mean distance error (km): 420.993\n",
      "Average training loss: 0.0003. Mean distance error (km): 419.188\n"
     ]
    },
    {
     "name": "stderr",
     "output_type": "stream",
     "text": [
      "\r",
      " 42%|██████████████████████████████████▌                                               | 8/19 [43:27<59:02, 322.06s/it]"
     ]
    },
    {
     "name": "stdout",
     "output_type": "stream",
     "text": [
      "Average training loss: 0.0003. Mean distance error (km): 426.652\n"
     ]
    },
    {
     "name": "stderr",
     "output_type": "stream",
     "text": [
      "\r",
      " 47%|██████████████████████████████████████▊                                           | 9/19 [48:57<54:05, 324.57s/it]"
     ]
    },
    {
     "name": "stdout",
     "output_type": "stream",
     "text": [
      "Average training loss: 0.0003. Mean distance error (km): 416.627\n",
      "Average training loss: 0.0003. Mean distance error (km): 421.161\n",
      "Average training loss: 0.0003. Mean distance error (km): 414.333\n"
     ]
    },
    {
     "name": "stderr",
     "output_type": "stream",
     "text": [
      "\r",
      " 53%|██████████████████████████████████████████▋                                      | 10/19 [54:12<48:14, 321.60s/it]"
     ]
    },
    {
     "name": "stdout",
     "output_type": "stream",
     "text": [
      "Average training loss: 0.0003. Mean distance error (km): 417.749\n"
     ]
    },
    {
     "name": "stderr",
     "output_type": "stream",
     "text": [
      "\r",
      " 58%|██████████████████████████████████████████████▉                                  | 11/19 [59:25<42:31, 318.99s/it]"
     ]
    },
    {
     "name": "stdout",
     "output_type": "stream",
     "text": [
      "Average training loss: 0.0003. Mean distance error (km): 411.957\n",
      "Average training loss: 0.0003. Mean distance error (km): 411.826\n"
     ]
    },
    {
     "name": "stderr",
     "output_type": "stream",
     "text": [
      "\r",
      " 63%|█████████████████████████████████████████████████▉                             | 12/19 [1:04:28<36:38, 314.12s/it]"
     ]
    },
    {
     "name": "stdout",
     "output_type": "stream",
     "text": [
      "Average training loss: 0.0003. Mean distance error (km): 412.339\n",
      "Average training loss: 0.0003. Mean distance error (km): 408.730\n",
      "Average training loss: 0.0003. Mean distance error (km): 408.301\n"
     ]
    },
    {
     "name": "stderr",
     "output_type": "stream",
     "text": [
      "\r",
      " 68%|██████████████████████████████████████████████████████                         | 13/19 [1:09:28<31:00, 310.05s/it]"
     ]
    },
    {
     "name": "stdout",
     "output_type": "stream",
     "text": [
      "Average training loss: 0.0003. Mean distance error (km): 409.824\n"
     ]
    },
    {
     "name": "stderr",
     "output_type": "stream",
     "text": [
      "\r",
      " 74%|██████████████████████████████████████████████████████████▏                    | 14/19 [1:14:28<25:34, 306.93s/it]"
     ]
    },
    {
     "name": "stdout",
     "output_type": "stream",
     "text": [
      "Average training loss: 0.0003. Mean distance error (km): 407.228\n",
      "Average training loss: 0.0003. Mean distance error (km): 407.507\n",
      "Average training loss: 0.0003. Mean distance error (km): 405.422\n"
     ]
    },
    {
     "name": "stderr",
     "output_type": "stream",
     "text": [
      "\r",
      " 79%|██████████████████████████████████████████████████████████████▎                | 15/19 [1:19:40<20:34, 308.57s/it]"
     ]
    },
    {
     "name": "stdout",
     "output_type": "stream",
     "text": [
      "Average training loss: 0.0003. Mean distance error (km): 412.966\n"
     ]
    },
    {
     "name": "stderr",
     "output_type": "stream",
     "text": [
      "\r",
      " 84%|██████████████████████████████████████████████████████████████████▌            | 16/19 [1:24:44<15:21, 307.14s/it]"
     ]
    },
    {
     "name": "stdout",
     "output_type": "stream",
     "text": [
      "Average training loss: 0.0003. Mean distance error (km): 406.693\n",
      "Average training loss: 0.0003. Mean distance error (km): 409.699\n",
      "Average training loss: 0.0003. Mean distance error (km): 402.010\n"
     ]
    },
    {
     "name": "stderr",
     "output_type": "stream",
     "text": [
      "\r",
      " 89%|██████████████████████████████████████████████████████████████████████▋        | 17/19 [1:29:52<10:14, 307.34s/it]"
     ]
    },
    {
     "name": "stdout",
     "output_type": "stream",
     "text": [
      "Average training loss: 0.0003. Mean distance error (km): 403.465\n"
     ]
    },
    {
     "name": "stderr",
     "output_type": "stream",
     "text": [
      "\r",
      " 95%|██████████████████████████████████████████████████████████████████████████▊    | 18/19 [1:34:58<05:07, 307.07s/it]"
     ]
    },
    {
     "name": "stdout",
     "output_type": "stream",
     "text": [
      "Average training loss: 0.0003. Mean distance error (km): 401.325\n",
      "Average training loss: 0.0003. Mean distance error (km): 396.461\n"
     ]
    },
    {
     "name": "stderr",
     "output_type": "stream",
     "text": [
      "100%|███████████████████████████████████████████████████████████████████████████████| 19/19 [1:37:20<00:00, 307.37s/it]\n",
      "Evaluation:   0%|                                                                              | 0/130 [00:00<?, ?it/s]"
     ]
    },
    {
     "name": "stdout",
     "output_type": "stream",
     "text": [
      "Average training loss: 0.0003. Mean distance error (km): 399.310\n"
     ]
    },
    {
     "name": "stderr",
     "output_type": "stream",
     "text": [
      "Evaluation:  50%|██████████████████████████████████▌                                  | 65/130 [01:14<01:16,  1.18s/it]"
     ]
    },
    {
     "name": "stdout",
     "output_type": "stream",
     "text": [
      "Iteration: 65. Average evaluation loss: 0.0017. Mean distance error (km): 725.490\n"
     ]
    },
    {
     "name": "stderr",
     "output_type": "stream",
     "text": [
      "Evaluation: 100%|████████████████████████████████████████████████████████████████████| 130/130 [02:28<00:00,  1.14s/it]\n",
      "  0%|                                                                                           | 0/19 [00:00<?, ?it/s]"
     ]
    },
    {
     "name": "stdout",
     "output_type": "stream",
     "text": [
      "Iteration: 130. Average evaluation loss: 0.0017. Mean distance error (km): 727.854\n",
      "\n",
      "Epoch [3/8]: Train distance error (km): 397.886. Train loss: 0.0003. Evaluation distance error (km): 726.672. Evaluation loss: 0.0017\n",
      "\n",
      "Start epoch [4/8]\n",
      "Current learning rate: 0.00240\n",
      "Average training loss: 0.0002. Mean distance error (km): 396.306\n"
     ]
    },
    {
     "name": "stderr",
     "output_type": "stream",
     "text": [
      "\r",
      "  5%|████▏                                                                           | 1/19 [05:01<1:30:22, 301.27s/it]"
     ]
    },
    {
     "name": "stdout",
     "output_type": "stream",
     "text": [
      "Average training loss: 0.0002. Mean distance error (km): 394.759\n",
      "Average training loss: 0.0003. Mean distance error (km): 394.784\n",
      "Average training loss: 0.0002. Mean distance error (km): 392.998\n"
     ]
    },
    {
     "name": "stderr",
     "output_type": "stream",
     "text": [
      "\r",
      " 11%|████████▍                                                                       | 2/19 [10:17<1:26:37, 305.71s/it]"
     ]
    },
    {
     "name": "stdout",
     "output_type": "stream",
     "text": [
      "Average training loss: 0.0003. Mean distance error (km): 395.387\n"
     ]
    },
    {
     "name": "stderr",
     "output_type": "stream",
     "text": [
      "\r",
      " 16%|████████████▋                                                                   | 3/19 [15:15<1:20:53, 303.37s/it]"
     ]
    },
    {
     "name": "stdout",
     "output_type": "stream",
     "text": [
      "Average training loss: 0.0002. Mean distance error (km): 393.788\n",
      "Average training loss: 0.0003. Mean distance error (km): 392.090\n",
      "Average training loss: 0.0002. Mean distance error (km): 391.349\n"
     ]
    },
    {
     "name": "stderr",
     "output_type": "stream",
     "text": [
      "\r",
      " 21%|████████████████▊                                                               | 4/19 [20:02<1:14:36, 298.45s/it]"
     ]
    },
    {
     "name": "stdout",
     "output_type": "stream",
     "text": [
      "Average training loss: 0.0002. Mean distance error (km): 391.356\n"
     ]
    },
    {
     "name": "stderr",
     "output_type": "stream",
     "text": [
      "\r",
      " 26%|█████████████████████                                                           | 5/19 [24:50<1:08:54, 295.32s/it]"
     ]
    },
    {
     "name": "stdout",
     "output_type": "stream",
     "text": [
      "Average training loss: 0.0002. Mean distance error (km): 391.105\n",
      "Average training loss: 0.0002. Mean distance error (km): 387.065\n",
      "Average training loss: 0.0002. Mean distance error (km): 388.017\n"
     ]
    },
    {
     "name": "stderr",
     "output_type": "stream",
     "text": [
      "\r",
      " 32%|█████████████████████████▎                                                      | 6/19 [29:35<1:03:21, 292.40s/it]"
     ]
    },
    {
     "name": "stdout",
     "output_type": "stream",
     "text": [
      "Average training loss: 0.0002. Mean distance error (km): 391.787\n"
     ]
    },
    {
     "name": "stderr",
     "output_type": "stream",
     "text": [
      "\r",
      " 37%|██████████████████████████████▏                                                   | 7/19 [34:25<58:18, 291.51s/it]"
     ]
    },
    {
     "name": "stdout",
     "output_type": "stream",
     "text": [
      "Average training loss: 0.0002. Mean distance error (km): 386.867\n",
      "Average training loss: 0.0002. Mean distance error (km): 388.706\n",
      "Average training loss: 0.0002. Mean distance error (km): 387.457\n"
     ]
    },
    {
     "name": "stderr",
     "output_type": "stream",
     "text": [
      "\r",
      " 42%|██████████████████████████████████▌                                               | 8/19 [39:11<53:09, 289.98s/it]"
     ]
    },
    {
     "name": "stdout",
     "output_type": "stream",
     "text": [
      "Average training loss: 0.0002. Mean distance error (km): 385.153\n"
     ]
    },
    {
     "name": "stderr",
     "output_type": "stream",
     "text": [
      "\r",
      " 47%|██████████████████████████████████████▊                                           | 9/19 [43:56<48:04, 288.44s/it]"
     ]
    },
    {
     "name": "stdout",
     "output_type": "stream",
     "text": [
      "Average training loss: 0.0002. Mean distance error (km): 385.876\n",
      "Average training loss: 0.0002. Mean distance error (km): 385.599\n",
      "Average training loss: 0.0003. Mean distance error (km): 388.350\n"
     ]
    },
    {
     "name": "stderr",
     "output_type": "stream",
     "text": [
      "\r",
      " 53%|██████████████████████████████████████████▋                                      | 10/19 [48:41<43:06, 287.42s/it]"
     ]
    },
    {
     "name": "stdout",
     "output_type": "stream",
     "text": [
      "Average training loss: 0.0002. Mean distance error (km): 386.991\n"
     ]
    },
    {
     "name": "stderr",
     "output_type": "stream",
     "text": [
      "\r",
      " 58%|██████████████████████████████████████████████▉                                  | 11/19 [53:26<38:13, 286.66s/it]"
     ]
    },
    {
     "name": "stdout",
     "output_type": "stream",
     "text": [
      "Average training loss: 0.0002. Mean distance error (km): 384.654\n",
      "Average training loss: 0.0002. Mean distance error (km): 384.748\n"
     ]
    },
    {
     "name": "stderr",
     "output_type": "stream",
     "text": [
      "\r",
      " 63%|███████████████████████████████████████████████████▏                             | 12/19 [58:15<33:31, 287.42s/it]"
     ]
    },
    {
     "name": "stdout",
     "output_type": "stream",
     "text": [
      "Average training loss: 0.0002. Mean distance error (km): 386.874\n",
      "Average training loss: 0.0002. Mean distance error (km): 384.640\n",
      "Average training loss: 0.0003. Mean distance error (km): 386.349\n"
     ]
    },
    {
     "name": "stderr",
     "output_type": "stream",
     "text": [
      "\r",
      " 68%|██████████████████████████████████████████████████████                         | 13/19 [1:03:02<28:44, 287.36s/it]"
     ]
    },
    {
     "name": "stdout",
     "output_type": "stream",
     "text": [
      "Average training loss: 0.0002. Mean distance error (km): 384.821\n"
     ]
    },
    {
     "name": "stderr",
     "output_type": "stream",
     "text": [
      "\r",
      " 74%|██████████████████████████████████████████████████████████▏                    | 14/19 [1:07:49<23:56, 287.22s/it]"
     ]
    },
    {
     "name": "stdout",
     "output_type": "stream",
     "text": [
      "Average training loss: 0.0002. Mean distance error (km): 385.151\n",
      "Average training loss: 0.0002. Mean distance error (km): 387.294\n",
      "Average training loss: 0.0002. Mean distance error (km): 383.614\n"
     ]
    },
    {
     "name": "stderr",
     "output_type": "stream",
     "text": [
      "\r",
      " 79%|██████████████████████████████████████████████████████████████▎                | 15/19 [1:12:52<19:27, 291.85s/it]"
     ]
    },
    {
     "name": "stdout",
     "output_type": "stream",
     "text": [
      "Average training loss: 0.0002. Mean distance error (km): 384.915\n"
     ]
    },
    {
     "name": "stderr",
     "output_type": "stream",
     "text": [
      "\r",
      " 84%|██████████████████████████████████████████████████████████████████▌            | 16/19 [1:18:02<14:52, 297.45s/it]"
     ]
    },
    {
     "name": "stdout",
     "output_type": "stream",
     "text": [
      "Average training loss: 0.0002. Mean distance error (km): 381.610\n",
      "Average training loss: 0.0002. Mean distance error (km): 381.600\n",
      "Average training loss: 0.0002. Mean distance error (km): 381.342\n"
     ]
    },
    {
     "name": "stderr",
     "output_type": "stream",
     "text": [
      "\r",
      " 89%|██████████████████████████████████████████████████████████████████████▋        | 17/19 [1:23:17<10:05, 302.58s/it]"
     ]
    },
    {
     "name": "stdout",
     "output_type": "stream",
     "text": [
      "Average training loss: 0.0002. Mean distance error (km): 381.249\n"
     ]
    },
    {
     "name": "stderr",
     "output_type": "stream",
     "text": [
      "\r",
      " 95%|██████████████████████████████████████████████████████████████████████████▊    | 18/19 [1:28:41<05:08, 308.88s/it]"
     ]
    },
    {
     "name": "stdout",
     "output_type": "stream",
     "text": [
      "Average training loss: 0.0002. Mean distance error (km): 380.077\n",
      "Average training loss: 0.0002. Mean distance error (km): 380.114\n"
     ]
    },
    {
     "name": "stderr",
     "output_type": "stream",
     "text": [
      "100%|███████████████████████████████████████████████████████████████████████████████| 19/19 [1:31:08<00:00, 287.83s/it]\n",
      "Evaluation:   0%|                                                                              | 0/130 [00:00<?, ?it/s]"
     ]
    },
    {
     "name": "stdout",
     "output_type": "stream",
     "text": [
      "Average training loss: 0.0002. Mean distance error (km): 380.157\n"
     ]
    },
    {
     "name": "stderr",
     "output_type": "stream",
     "text": [
      "Evaluation:  50%|██████████████████████████████████▌                                  | 65/130 [01:11<01:13,  1.14s/it]"
     ]
    },
    {
     "name": "stdout",
     "output_type": "stream",
     "text": [
      "Iteration: 65. Average evaluation loss: 0.0017. Mean distance error (km): 719.824\n"
     ]
    },
    {
     "name": "stderr",
     "output_type": "stream",
     "text": [
      "Evaluation: 100%|████████████████████████████████████████████████████████████████████| 130/130 [02:25<00:00,  1.12s/it]\n",
      "  0%|                                                                                           | 0/19 [00:00<?, ?it/s]"
     ]
    },
    {
     "name": "stdout",
     "output_type": "stream",
     "text": [
      "Iteration: 130. Average evaluation loss: 0.0016. Mean distance error (km): 720.913\n",
      "\n",
      "Epoch [4/8]: Train distance error (km): 380.135. Train loss: 0.0002. Evaluation distance error (km): 720.369. Evaluation loss: 0.0016\n",
      "\n",
      "Start epoch [5/8]\n",
      "Current learning rate: 0.00168\n",
      "Average training loss: 0.0002. Mean distance error (km): 377.869\n"
     ]
    },
    {
     "name": "stderr",
     "output_type": "stream",
     "text": [
      "\r",
      "  5%|████▏                                                                           | 1/19 [05:15<1:34:46, 315.91s/it]"
     ]
    },
    {
     "name": "stdout",
     "output_type": "stream",
     "text": [
      "Average training loss: 0.0002. Mean distance error (km): 377.854\n",
      "Average training loss: 0.0002. Mean distance error (km): 378.337\n",
      "Average training loss: 0.0002. Mean distance error (km): 376.622\n"
     ]
    },
    {
     "name": "stderr",
     "output_type": "stream",
     "text": [
      "\r",
      " 11%|████████▍                                                                       | 2/19 [10:40<1:30:14, 318.49s/it]"
     ]
    },
    {
     "name": "stdout",
     "output_type": "stream",
     "text": [
      "Average training loss: 0.0002. Mean distance error (km): 377.527\n"
     ]
    },
    {
     "name": "stderr",
     "output_type": "stream",
     "text": [
      "\r",
      " 16%|████████████▋                                                                   | 3/19 [16:18<1:26:28, 324.29s/it]"
     ]
    },
    {
     "name": "stdout",
     "output_type": "stream",
     "text": [
      "Average training loss: 0.0002. Mean distance error (km): 375.485\n",
      "Average training loss: 0.0002. Mean distance error (km): 378.764\n",
      "Average training loss: 0.0002. Mean distance error (km): 376.911\n"
     ]
    },
    {
     "name": "stderr",
     "output_type": "stream",
     "text": [
      "\r",
      " 21%|████████████████▊                                                               | 4/19 [21:41<1:21:01, 324.12s/it]"
     ]
    },
    {
     "name": "stdout",
     "output_type": "stream",
     "text": [
      "Average training loss: 0.0002. Mean distance error (km): 376.021\n"
     ]
    },
    {
     "name": "stderr",
     "output_type": "stream",
     "text": [
      "\r",
      " 26%|█████████████████████                                                           | 5/19 [27:43<1:18:15, 335.40s/it]"
     ]
    },
    {
     "name": "stdout",
     "output_type": "stream",
     "text": [
      "Average training loss: 0.0002. Mean distance error (km): 375.472\n",
      "Average training loss: 0.0002. Mean distance error (km): 373.145\n",
      "Average training loss: 0.0002. Mean distance error (km): 376.033\n"
     ]
    },
    {
     "name": "stderr",
     "output_type": "stream",
     "text": [
      "\r",
      " 32%|█████████████████████████▎                                                      | 6/19 [33:01<1:11:30, 330.03s/it]"
     ]
    },
    {
     "name": "stdout",
     "output_type": "stream",
     "text": [
      "Average training loss: 0.0002. Mean distance error (km): 374.644\n"
     ]
    },
    {
     "name": "stderr",
     "output_type": "stream",
     "text": [
      "\r",
      " 37%|█████████████████████████████▍                                                  | 7/19 [38:05<1:04:29, 322.44s/it]"
     ]
    },
    {
     "name": "stdout",
     "output_type": "stream",
     "text": [
      "Average training loss: 0.0002. Mean distance error (km): 376.727\n",
      "Average training loss: 0.0002. Mean distance error (km): 372.139\n",
      "Average training loss: 0.0002. Mean distance error (km): 373.771\n"
     ]
    },
    {
     "name": "stderr",
     "output_type": "stream",
     "text": [
      "\r",
      " 42%|██████████████████████████████████▌                                               | 8/19 [43:06<57:54, 315.87s/it]"
     ]
    },
    {
     "name": "stdout",
     "output_type": "stream",
     "text": [
      "Average training loss: 0.0002. Mean distance error (km): 371.023\n"
     ]
    },
    {
     "name": "stderr",
     "output_type": "stream",
     "text": [
      "\r",
      " 47%|██████████████████████████████████████▊                                           | 9/19 [48:11<52:06, 312.62s/it]"
     ]
    },
    {
     "name": "stdout",
     "output_type": "stream",
     "text": [
      "Average training loss: 0.0002. Mean distance error (km): 373.317\n",
      "Average training loss: 0.0002. Mean distance error (km): 370.120\n",
      "Average training loss: 0.0002. Mean distance error (km): 370.596\n"
     ]
    },
    {
     "name": "stderr",
     "output_type": "stream",
     "text": [
      "\r",
      " 53%|██████████████████████████████████████████▋                                      | 10/19 [53:13<46:25, 309.52s/it]"
     ]
    },
    {
     "name": "stdout",
     "output_type": "stream",
     "text": [
      "Average training loss: 0.0002. Mean distance error (km): 369.158\n"
     ]
    },
    {
     "name": "stderr",
     "output_type": "stream",
     "text": [
      "\r",
      " 58%|██████████████████████████████████████████████▉                                  | 11/19 [58:18<41:04, 308.08s/it]"
     ]
    },
    {
     "name": "stdout",
     "output_type": "stream",
     "text": [
      "Average training loss: 0.0002. Mean distance error (km): 371.292\n",
      "Average training loss: 0.0002. Mean distance error (km): 369.804\n"
     ]
    },
    {
     "name": "stderr",
     "output_type": "stream",
     "text": [
      "\r",
      " 63%|█████████████████████████████████████████████████▉                             | 12/19 [1:03:22<35:48, 306.99s/it]"
     ]
    },
    {
     "name": "stdout",
     "output_type": "stream",
     "text": [
      "Average training loss: 0.0002. Mean distance error (km): 369.238\n",
      "Average training loss: 0.0002. Mean distance error (km): 369.001\n",
      "Average training loss: 0.0002. Mean distance error (km): 369.126\n"
     ]
    },
    {
     "name": "stderr",
     "output_type": "stream",
     "text": [
      "\r",
      " 68%|██████████████████████████████████████████████████████                         | 13/19 [1:08:27<30:37, 306.17s/it]"
     ]
    },
    {
     "name": "stdout",
     "output_type": "stream",
     "text": [
      "Average training loss: 0.0002. Mean distance error (km): 370.610\n"
     ]
    },
    {
     "name": "stderr",
     "output_type": "stream",
     "text": [
      "\r",
      " 74%|██████████████████████████████████████████████████████████▏                    | 14/19 [1:13:32<25:29, 305.94s/it]"
     ]
    },
    {
     "name": "stdout",
     "output_type": "stream",
     "text": [
      "Average training loss: 0.0002. Mean distance error (km): 367.977\n",
      "Average training loss: 0.0002. Mean distance error (km): 368.366\n",
      "Average training loss: 0.0002. Mean distance error (km): 368.241\n"
     ]
    },
    {
     "name": "stderr",
     "output_type": "stream",
     "text": [
      "\r",
      " 79%|██████████████████████████████████████████████████████████████▎                | 15/19 [1:18:44<20:30, 307.70s/it]"
     ]
    },
    {
     "name": "stdout",
     "output_type": "stream",
     "text": [
      "Average training loss: 0.0002. Mean distance error (km): 369.546\n"
     ]
    },
    {
     "name": "stderr",
     "output_type": "stream",
     "text": [
      "\r",
      " 84%|██████████████████████████████████████████████████████████████████▌            | 16/19 [1:24:07<15:37, 312.36s/it]"
     ]
    },
    {
     "name": "stdout",
     "output_type": "stream",
     "text": [
      "Average training loss: 0.0002. Mean distance error (km): 368.142\n",
      "Average training loss: 0.0002. Mean distance error (km): 368.342\n",
      "Average training loss: 0.0002. Mean distance error (km): 368.730\n"
     ]
    },
    {
     "name": "stderr",
     "output_type": "stream",
     "text": [
      "\r",
      " 89%|██████████████████████████████████████████████████████████████████████▋        | 17/19 [1:29:39<10:36, 318.12s/it]"
     ]
    },
    {
     "name": "stdout",
     "output_type": "stream",
     "text": [
      "Average training loss: 0.0002. Mean distance error (km): 367.228\n"
     ]
    },
    {
     "name": "stderr",
     "output_type": "stream",
     "text": [
      "\r",
      " 95%|██████████████████████████████████████████████████████████████████████████▊    | 18/19 [1:35:08<05:21, 321.57s/it]"
     ]
    },
    {
     "name": "stdout",
     "output_type": "stream",
     "text": [
      "Average training loss: 0.0002. Mean distance error (km): 370.405\n",
      "Average training loss: 0.0002. Mean distance error (km): 369.468\n"
     ]
    },
    {
     "name": "stderr",
     "output_type": "stream",
     "text": [
      "100%|███████████████████████████████████████████████████████████████████████████████| 19/19 [1:37:45<00:00, 308.69s/it]\n",
      "Evaluation:   0%|                                                                              | 0/130 [00:00<?, ?it/s]"
     ]
    },
    {
     "name": "stdout",
     "output_type": "stream",
     "text": [
      "Average training loss: 0.0002. Mean distance error (km): 371.754\n"
     ]
    },
    {
     "name": "stderr",
     "output_type": "stream",
     "text": [
      "Evaluation:  50%|██████████████████████████████████▌                                  | 65/130 [01:13<01:11,  1.10s/it]"
     ]
    },
    {
     "name": "stdout",
     "output_type": "stream",
     "text": [
      "Iteration: 65. Average evaluation loss: 0.0020. Mean distance error (km): 734.003\n"
     ]
    },
    {
     "name": "stderr",
     "output_type": "stream",
     "text": [
      "Evaluation: 100%|████████████████████████████████████████████████████████████████████| 130/130 [02:22<00:00,  1.10s/it]\n",
      "  0%|                                                                                           | 0/19 [00:00<?, ?it/s]"
     ]
    },
    {
     "name": "stdout",
     "output_type": "stream",
     "text": [
      "Iteration: 130. Average evaluation loss: 0.0020. Mean distance error (km): 737.820\n",
      "\n",
      "Epoch [5/8]: Train distance error (km): 370.611. Train loss: 0.0002. Evaluation distance error (km): 735.911. Evaluation loss: 0.0020\n",
      "\n",
      "Start epoch [6/8]\n",
      "Current learning rate: 0.00118\n",
      "Average training loss: 0.0002. Mean distance error (km): 370.495\n"
     ]
    },
    {
     "name": "stderr",
     "output_type": "stream",
     "text": [
      "\r",
      "  5%|████▏                                                                           | 1/19 [04:56<1:29:03, 296.85s/it]"
     ]
    },
    {
     "name": "stdout",
     "output_type": "stream",
     "text": [
      "Average training loss: 0.0002. Mean distance error (km): 370.698\n",
      "Average training loss: 0.0002. Mean distance error (km): 374.244\n",
      "Average training loss: 0.0002. Mean distance error (km): 370.826\n"
     ]
    },
    {
     "name": "stderr",
     "output_type": "stream",
     "text": [
      "\r",
      " 11%|████████▍                                                                       | 2/19 [09:48<1:23:39, 295.26s/it]"
     ]
    },
    {
     "name": "stdout",
     "output_type": "stream",
     "text": [
      "Average training loss: 0.0002. Mean distance error (km): 369.047\n"
     ]
    },
    {
     "name": "stderr",
     "output_type": "stream",
     "text": [
      "\r",
      " 16%|████████████▋                                                                   | 3/19 [14:43<1:18:42, 295.18s/it]"
     ]
    },
    {
     "name": "stdout",
     "output_type": "stream",
     "text": [
      "Average training loss: 0.0002. Mean distance error (km): 366.832\n",
      "Average training loss: 0.0002. Mean distance error (km): 367.196\n",
      "Average training loss: 0.0002. Mean distance error (km): 364.290\n"
     ]
    },
    {
     "name": "stderr",
     "output_type": "stream",
     "text": [
      "\r",
      " 21%|████████████████▊                                                               | 4/19 [19:37<1:13:42, 294.85s/it]"
     ]
    },
    {
     "name": "stdout",
     "output_type": "stream",
     "text": [
      "Average training loss: 0.0002. Mean distance error (km): 365.907\n"
     ]
    },
    {
     "name": "stderr",
     "output_type": "stream",
     "text": [
      "\r",
      " 26%|█████████████████████                                                           | 5/19 [24:32<1:08:49, 294.99s/it]"
     ]
    },
    {
     "name": "stdout",
     "output_type": "stream",
     "text": [
      "Average training loss: 0.0002. Mean distance error (km): 364.040\n",
      "Average training loss: 0.0002. Mean distance error (km): 362.168\n",
      "Average training loss: 0.0002. Mean distance error (km): 361.026\n"
     ]
    },
    {
     "name": "stderr",
     "output_type": "stream",
     "text": [
      "\r",
      " 32%|█████████████████████████▎                                                      | 6/19 [29:25<1:03:47, 294.40s/it]"
     ]
    },
    {
     "name": "stdout",
     "output_type": "stream",
     "text": [
      "Average training loss: 0.0002. Mean distance error (km): 361.941\n"
     ]
    },
    {
     "name": "stderr",
     "output_type": "stream",
     "text": [
      "\r",
      " 37%|██████████████████████████████▏                                                   | 7/19 [34:21<58:57, 294.76s/it]"
     ]
    },
    {
     "name": "stdout",
     "output_type": "stream",
     "text": [
      "Average training loss: 0.0002. Mean distance error (km): 361.842\n",
      "Average training loss: 0.0002. Mean distance error (km): 361.064\n",
      "Average training loss: 0.0002. Mean distance error (km): 360.200\n"
     ]
    },
    {
     "name": "stderr",
     "output_type": "stream",
     "text": [
      "\r",
      " 42%|██████████████████████████████████▌                                               | 8/19 [39:14<53:56, 294.20s/it]"
     ]
    },
    {
     "name": "stdout",
     "output_type": "stream",
     "text": [
      "Average training loss: 0.0002. Mean distance error (km): 361.331\n"
     ]
    },
    {
     "name": "stderr",
     "output_type": "stream",
     "text": [
      "\r",
      " 47%|██████████████████████████████████████▊                                           | 9/19 [44:09<49:04, 294.45s/it]"
     ]
    },
    {
     "name": "stdout",
     "output_type": "stream",
     "text": [
      "Average training loss: 0.0002. Mean distance error (km): 360.797\n",
      "Average training loss: 0.0002. Mean distance error (km): 361.442\n",
      "Average training loss: 0.0002. Mean distance error (km): 361.971\n"
     ]
    },
    {
     "name": "stderr",
     "output_type": "stream",
     "text": [
      "\r",
      " 53%|██████████████████████████████████████████▋                                      | 10/19 [49:01<44:04, 293.87s/it]"
     ]
    },
    {
     "name": "stdout",
     "output_type": "stream",
     "text": [
      "Average training loss: 0.0002. Mean distance error (km): 363.197\n"
     ]
    },
    {
     "name": "stderr",
     "output_type": "stream",
     "text": [
      "\r",
      " 58%|██████████████████████████████████████████████▉                                  | 11/19 [53:56<39:14, 294.25s/it]"
     ]
    },
    {
     "name": "stdout",
     "output_type": "stream",
     "text": [
      "Average training loss: 0.0002. Mean distance error (km): 361.146\n",
      "Average training loss: 0.0002. Mean distance error (km): 360.879\n"
     ]
    },
    {
     "name": "stderr",
     "output_type": "stream",
     "text": [
      "\r",
      " 63%|███████████████████████████████████████████████████▏                             | 12/19 [58:58<34:35, 296.56s/it]"
     ]
    },
    {
     "name": "stdout",
     "output_type": "stream",
     "text": [
      "Average training loss: 0.0002. Mean distance error (km): 363.498\n",
      "Average training loss: 0.0002. Mean distance error (km): 362.157\n",
      "Average training loss: 0.0002. Mean distance error (km): 363.665\n"
     ]
    },
    {
     "name": "stderr",
     "output_type": "stream",
     "text": [
      "\r",
      " 68%|██████████████████████████████████████████████████████                         | 13/19 [1:03:56<29:40, 296.72s/it]"
     ]
    },
    {
     "name": "stdout",
     "output_type": "stream",
     "text": [
      "Average training loss: 0.0002. Mean distance error (km): 364.540\n"
     ]
    },
    {
     "name": "stderr",
     "output_type": "stream",
     "text": [
      "\r",
      " 74%|██████████████████████████████████████████████████████████▏                    | 14/19 [1:08:58<24:52, 298.59s/it]"
     ]
    },
    {
     "name": "stdout",
     "output_type": "stream",
     "text": [
      "Average training loss: 0.0002. Mean distance error (km): 362.295\n",
      "Average training loss: 0.0002. Mean distance error (km): 366.538\n",
      "Average training loss: 0.0002. Mean distance error (km): 365.898\n"
     ]
    },
    {
     "name": "stderr",
     "output_type": "stream",
     "text": [
      "\r",
      " 79%|██████████████████████████████████████████████████████████████▎                | 15/19 [1:14:00<19:58, 299.50s/it]"
     ]
    },
    {
     "name": "stdout",
     "output_type": "stream",
     "text": [
      "Average training loss: 0.0003. Mean distance error (km): 369.315\n"
     ]
    },
    {
     "name": "stderr",
     "output_type": "stream",
     "text": [
      "\r",
      " 84%|██████████████████████████████████████████████████████████████████▌            | 16/19 [1:19:04<15:02, 300.74s/it]"
     ]
    },
    {
     "name": "stdout",
     "output_type": "stream",
     "text": [
      "Average training loss: 0.0003. Mean distance error (km): 367.862\n",
      "Average training loss: 0.0003. Mean distance error (km): 365.320\n",
      "Average training loss: 0.0002. Mean distance error (km): 365.524\n"
     ]
    },
    {
     "name": "stderr",
     "output_type": "stream",
     "text": [
      "\r",
      " 89%|██████████████████████████████████████████████████████████████████████▋        | 17/19 [1:24:03<10:00, 300.21s/it]"
     ]
    },
    {
     "name": "stdout",
     "output_type": "stream",
     "text": [
      "Average training loss: 0.0002. Mean distance error (km): 362.939\n"
     ]
    },
    {
     "name": "stderr",
     "output_type": "stream",
     "text": [
      "\r",
      " 95%|██████████████████████████████████████████████████████████████████████████▊    | 18/19 [1:29:07<05:01, 301.55s/it]"
     ]
    },
    {
     "name": "stdout",
     "output_type": "stream",
     "text": [
      "Average training loss: 0.0002. Mean distance error (km): 360.055\n",
      "Average training loss: 0.0002. Mean distance error (km): 358.019\n"
     ]
    },
    {
     "name": "stderr",
     "output_type": "stream",
     "text": [
      "100%|███████████████████████████████████████████████████████████████████████████████| 19/19 [1:31:28<00:00, 288.87s/it]\n",
      "Evaluation:   0%|                                                                              | 0/130 [00:00<?, ?it/s]"
     ]
    },
    {
     "name": "stdout",
     "output_type": "stream",
     "text": [
      "Average training loss: 0.0002. Mean distance error (km): 358.130\n"
     ]
    },
    {
     "name": "stderr",
     "output_type": "stream",
     "text": [
      "Evaluation:  50%|██████████████████████████████████▌                                  | 65/130 [01:11<01:11,  1.11s/it]"
     ]
    },
    {
     "name": "stdout",
     "output_type": "stream",
     "text": [
      "Iteration: 65. Average evaluation loss: 0.0017. Mean distance error (km): 751.615\n"
     ]
    },
    {
     "name": "stderr",
     "output_type": "stream",
     "text": [
      "Evaluation: 100%|████████████████████████████████████████████████████████████████████| 130/130 [02:20<00:00,  1.08s/it]\n",
      "  0%|                                                                                           | 0/19 [00:00<?, ?it/s]"
     ]
    },
    {
     "name": "stdout",
     "output_type": "stream",
     "text": [
      "Iteration: 130. Average evaluation loss: 0.0018. Mean distance error (km): 752.035\n",
      "\n",
      "Epoch [6/8]: Train distance error (km): 358.074. Train loss: 0.0002. Evaluation distance error (km): 751.825. Evaluation loss: 0.0017\n",
      "\n",
      "Start epoch [7/8]\n",
      "Current learning rate: 0.00082\n",
      "Average training loss: 0.0002. Mean distance error (km): 359.351\n"
     ]
    },
    {
     "name": "stderr",
     "output_type": "stream",
     "text": [
      "\r",
      "  5%|████▏                                                                           | 1/19 [05:04<1:31:24, 304.70s/it]"
     ]
    },
    {
     "name": "stdout",
     "output_type": "stream",
     "text": [
      "Average training loss: 0.0002. Mean distance error (km): 358.577\n",
      "Average training loss: 0.0002. Mean distance error (km): 358.619\n",
      "Average training loss: 0.0002. Mean distance error (km): 358.875\n"
     ]
    },
    {
     "name": "stderr",
     "output_type": "stream",
     "text": [
      "\r",
      " 11%|████████▍                                                                       | 2/19 [10:01<1:25:38, 302.27s/it]"
     ]
    },
    {
     "name": "stdout",
     "output_type": "stream",
     "text": [
      "Average training loss: 0.0002. Mean distance error (km): 357.425\n"
     ]
    },
    {
     "name": "stderr",
     "output_type": "stream",
     "text": [
      "\r",
      " 16%|████████████▋                                                                   | 3/19 [15:02<1:20:32, 302.02s/it]"
     ]
    },
    {
     "name": "stdout",
     "output_type": "stream",
     "text": [
      "Average training loss: 0.0002. Mean distance error (km): 359.712\n",
      "Average training loss: 0.0002. Mean distance error (km): 356.606\n",
      "Average training loss: 0.0002. Mean distance error (km): 357.982\n"
     ]
    },
    {
     "name": "stderr",
     "output_type": "stream",
     "text": [
      "\r",
      " 21%|████████████████▊                                                               | 4/19 [20:01<1:15:17, 301.14s/it]"
     ]
    },
    {
     "name": "stdout",
     "output_type": "stream",
     "text": [
      "Average training loss: 0.0002. Mean distance error (km): 357.489\n"
     ]
    },
    {
     "name": "stderr",
     "output_type": "stream",
     "text": [
      "\r",
      " 26%|█████████████████████                                                           | 5/19 [25:04<1:10:20, 301.47s/it]"
     ]
    },
    {
     "name": "stdout",
     "output_type": "stream",
     "text": [
      "Average training loss: 0.0002. Mean distance error (km): 357.003\n",
      "Average training loss: 0.0002. Mean distance error (km): 355.985\n",
      "Average training loss: 0.0002. Mean distance error (km): 355.449\n"
     ]
    },
    {
     "name": "stderr",
     "output_type": "stream",
     "text": [
      "\r",
      " 32%|█████████████████████████▎                                                      | 6/19 [30:00<1:04:58, 299.87s/it]"
     ]
    },
    {
     "name": "stdout",
     "output_type": "stream",
     "text": [
      "Average training loss: 0.0002. Mean distance error (km): 357.265\n"
     ]
    },
    {
     "name": "stderr",
     "output_type": "stream",
     "text": [
      "\r",
      " 37%|█████████████████████████████▍                                                  | 7/19 [35:01<1:00:05, 300.44s/it]"
     ]
    },
    {
     "name": "stdout",
     "output_type": "stream",
     "text": [
      "Average training loss: 0.0002. Mean distance error (km): 356.900\n",
      "Average training loss: 0.0002. Mean distance error (km): 356.917\n",
      "Average training loss: 0.0002. Mean distance error (km): 355.357\n"
     ]
    },
    {
     "name": "stderr",
     "output_type": "stream",
     "text": [
      "\r",
      " 42%|██████████████████████████████████▌                                               | 8/19 [39:58<54:53, 299.36s/it]"
     ]
    },
    {
     "name": "stdout",
     "output_type": "stream",
     "text": [
      "Average training loss: 0.0002. Mean distance error (km): 355.449\n"
     ]
    },
    {
     "name": "stderr",
     "output_type": "stream",
     "text": [
      "\r",
      " 47%|██████████████████████████████████████▊                                           | 9/19 [45:01<50:04, 300.48s/it]"
     ]
    },
    {
     "name": "stdout",
     "output_type": "stream",
     "text": [
      "Average training loss: 0.0002. Mean distance error (km): 355.123\n",
      "Average training loss: 0.0002. Mean distance error (km): 355.538\n",
      "Average training loss: 0.0002. Mean distance error (km): 356.113\n"
     ]
    },
    {
     "name": "stderr",
     "output_type": "stream",
     "text": [
      "\r",
      " 53%|██████████████████████████████████████████▋                                      | 10/19 [50:02<45:03, 300.44s/it]"
     ]
    },
    {
     "name": "stdout",
     "output_type": "stream",
     "text": [
      "Average training loss: 0.0002. Mean distance error (km): 354.152\n"
     ]
    },
    {
     "name": "stderr",
     "output_type": "stream",
     "text": [
      "\r",
      " 58%|██████████████████████████████████████████████▉                                  | 11/19 [55:02<40:03, 300.49s/it]"
     ]
    },
    {
     "name": "stdout",
     "output_type": "stream",
     "text": [
      "Average training loss: 0.0002. Mean distance error (km): 353.395\n",
      "Average training loss: 0.0002. Mean distance error (km): 353.453\n"
     ]
    },
    {
     "name": "stderr",
     "output_type": "stream",
     "text": [
      "\r",
      " 63%|█████████████████████████████████████████████████▉                             | 12/19 [1:00:05<35:07, 301.02s/it]"
     ]
    },
    {
     "name": "stdout",
     "output_type": "stream",
     "text": [
      "Average training loss: 0.0002. Mean distance error (km): 356.844\n",
      "Average training loss: 0.0002. Mean distance error (km): 379.112\n",
      "Average training loss: 0.0002. Mean distance error (km): 369.973\n"
     ]
    },
    {
     "name": "stderr",
     "output_type": "stream",
     "text": [
      "\r",
      " 68%|██████████████████████████████████████████████████████                         | 13/19 [1:05:10<30:13, 302.21s/it]"
     ]
    },
    {
     "name": "stdout",
     "output_type": "stream",
     "text": [
      "Average training loss: 0.0002. Mean distance error (km): 368.528\n"
     ]
    },
    {
     "name": "stderr",
     "output_type": "stream",
     "text": [
      "\r",
      " 74%|██████████████████████████████████████████████████████████▏                    | 14/19 [1:10:15<25:15, 303.08s/it]"
     ]
    },
    {
     "name": "stdout",
     "output_type": "stream",
     "text": [
      "Average training loss: 0.0002. Mean distance error (km): 367.393\n",
      "Average training loss: 0.0002. Mean distance error (km): 376.139\n",
      "Average training loss: 0.0002. Mean distance error (km): 378.372\n"
     ]
    },
    {
     "name": "stderr",
     "output_type": "stream",
     "text": [
      "\r",
      " 79%|██████████████████████████████████████████████████████████████▎                | 15/19 [1:15:16<20:09, 302.45s/it]"
     ]
    },
    {
     "name": "stdout",
     "output_type": "stream",
     "text": [
      "Average training loss: 0.0002. Mean distance error (km): 375.884\n"
     ]
    },
    {
     "name": "stderr",
     "output_type": "stream",
     "text": [
      "\r",
      " 84%|██████████████████████████████████████████████████████████████████▌            | 16/19 [1:20:21<15:09, 303.26s/it]"
     ]
    },
    {
     "name": "stdout",
     "output_type": "stream",
     "text": [
      "Average training loss: 0.0002. Mean distance error (km): 375.696\n",
      "Average training loss: 0.0002. Mean distance error (km): 373.875\n",
      "Average training loss: 0.0002. Mean distance error (km): 372.102\n"
     ]
    },
    {
     "name": "stderr",
     "output_type": "stream",
     "text": [
      "\r",
      " 89%|██████████████████████████████████████████████████████████████████████▋        | 17/19 [1:25:21<10:04, 302.42s/it]"
     ]
    },
    {
     "name": "stdout",
     "output_type": "stream",
     "text": [
      "Average training loss: 0.0002. Mean distance error (km): 371.478\n"
     ]
    },
    {
     "name": "stderr",
     "output_type": "stream",
     "text": [
      "\r",
      " 95%|██████████████████████████████████████████████████████████████████████████▊    | 18/19 [1:30:21<05:01, 301.55s/it]"
     ]
    },
    {
     "name": "stdout",
     "output_type": "stream",
     "text": [
      "Average training loss: 0.0002. Mean distance error (km): 371.065\n",
      "Average training loss: 0.0002. Mean distance error (km): 370.829\n"
     ]
    },
    {
     "name": "stderr",
     "output_type": "stream",
     "text": [
      "100%|███████████████████████████████████████████████████████████████████████████████| 19/19 [1:32:43<00:00, 292.80s/it]\n",
      "Evaluation:   0%|                                                                              | 0/130 [00:00<?, ?it/s]"
     ]
    },
    {
     "name": "stdout",
     "output_type": "stream",
     "text": [
      "Average training loss: 0.0002. Mean distance error (km): 370.469\n"
     ]
    },
    {
     "name": "stderr",
     "output_type": "stream",
     "text": [
      "Evaluation:  50%|██████████████████████████████████▌                                  | 65/130 [01:11<01:14,  1.15s/it]"
     ]
    },
    {
     "name": "stdout",
     "output_type": "stream",
     "text": [
      "Iteration: 65. Average evaluation loss: 0.0052. Mean distance error (km): 762.178\n"
     ]
    },
    {
     "name": "stderr",
     "output_type": "stream",
     "text": [
      "Evaluation: 100%|████████████████████████████████████████████████████████████████████| 130/130 [02:22<00:00,  1.09s/it]\n",
      "  0%|                                                                                           | 0/19 [00:00<?, ?it/s]"
     ]
    },
    {
     "name": "stdout",
     "output_type": "stream",
     "text": [
      "Iteration: 130. Average evaluation loss: 0.0053. Mean distance error (km): 765.883\n",
      "\n",
      "Epoch [7/8]: Train distance error (km): 370.649. Train loss: 0.0002. Evaluation distance error (km): 764.030. Evaluation loss: 0.0052\n",
      "\n",
      "Start epoch [8/8]\n",
      "Current learning rate: 0.00058\n",
      "Average training loss: 0.0002. Mean distance error (km): 368.687\n"
     ]
    },
    {
     "name": "stderr",
     "output_type": "stream",
     "text": [
      "\r",
      "  5%|████▏                                                                           | 1/19 [05:05<1:31:34, 305.27s/it]"
     ]
    },
    {
     "name": "stdout",
     "output_type": "stream",
     "text": [
      "Average training loss: 0.0002. Mean distance error (km): 366.801\n",
      "Average training loss: 0.0002. Mean distance error (km): 366.510\n",
      "Average training loss: 0.0002. Mean distance error (km): 370.916\n"
     ]
    },
    {
     "name": "stderr",
     "output_type": "stream",
     "text": [
      "\r",
      " 11%|████████▍                                                                       | 2/19 [10:04<1:25:57, 303.40s/it]"
     ]
    },
    {
     "name": "stdout",
     "output_type": "stream",
     "text": [
      "Average training loss: 0.0002. Mean distance error (km): 375.523\n"
     ]
    },
    {
     "name": "stderr",
     "output_type": "stream",
     "text": [
      "\r",
      " 16%|████████████▋                                                                   | 3/19 [15:08<1:20:59, 303.73s/it]"
     ]
    },
    {
     "name": "stdout",
     "output_type": "stream",
     "text": [
      "Average training loss: 0.0002. Mean distance error (km): 373.347\n",
      "Average training loss: 0.0002. Mean distance error (km): 371.628\n",
      "Average training loss: 0.0002. Mean distance error (km): 368.355\n"
     ]
    },
    {
     "name": "stderr",
     "output_type": "stream",
     "text": [
      "\r",
      " 21%|████████████████▊                                                               | 4/19 [20:10<1:15:48, 303.25s/it]"
     ]
    },
    {
     "name": "stdout",
     "output_type": "stream",
     "text": [
      "Average training loss: 0.0002. Mean distance error (km): 366.258\n"
     ]
    },
    {
     "name": "stderr",
     "output_type": "stream",
     "text": [
      "\r",
      " 26%|█████████████████████                                                           | 5/19 [25:17<1:10:59, 304.27s/it]"
     ]
    },
    {
     "name": "stdout",
     "output_type": "stream",
     "text": [
      "Average training loss: 0.0002. Mean distance error (km): 365.037\n",
      "Average training loss: 0.0002. Mean distance error (km): 364.162\n",
      "Average training loss: 0.0002. Mean distance error (km): 365.888\n"
     ]
    },
    {
     "name": "stderr",
     "output_type": "stream",
     "text": [
      "\r",
      " 32%|█████████████████████████▎                                                      | 6/19 [30:20<1:05:50, 303.87s/it]"
     ]
    },
    {
     "name": "stdout",
     "output_type": "stream",
     "text": [
      "Average training loss: 0.0002. Mean distance error (km): 364.611\n"
     ]
    },
    {
     "name": "stderr",
     "output_type": "stream",
     "text": [
      "\r",
      " 37%|█████████████████████████████▍                                                  | 7/19 [35:25<1:00:51, 304.26s/it]"
     ]
    },
    {
     "name": "stdout",
     "output_type": "stream",
     "text": [
      "Average training loss: 0.0002. Mean distance error (km): 364.545\n",
      "Average training loss: 0.0002. Mean distance error (km): 362.658\n",
      "Average training loss: 0.0002. Mean distance error (km): 361.987\n"
     ]
    },
    {
     "name": "stderr",
     "output_type": "stream",
     "text": [
      "\r",
      " 42%|██████████████████████████████████▌                                               | 8/19 [40:29<55:44, 304.07s/it]"
     ]
    },
    {
     "name": "stdout",
     "output_type": "stream",
     "text": [
      "Average training loss: 0.0002. Mean distance error (km): 362.872\n"
     ]
    },
    {
     "name": "stderr",
     "output_type": "stream",
     "text": [
      "\r",
      " 47%|██████████████████████████████████████▊                                           | 9/19 [45:35<50:48, 304.84s/it]"
     ]
    },
    {
     "name": "stdout",
     "output_type": "stream",
     "text": [
      "Average training loss: 0.0002. Mean distance error (km): 362.443\n",
      "Average training loss: 0.0002. Mean distance error (km): 361.122\n",
      "Average training loss: 0.0002. Mean distance error (km): 360.746\n"
     ]
    },
    {
     "name": "stderr",
     "output_type": "stream",
     "text": [
      "\r",
      " 53%|██████████████████████████████████████████▋                                      | 10/19 [50:37<45:34, 303.85s/it]"
     ]
    },
    {
     "name": "stdout",
     "output_type": "stream",
     "text": [
      "Average training loss: 0.0002. Mean distance error (km): 358.749\n"
     ]
    },
    {
     "name": "stderr",
     "output_type": "stream",
     "text": [
      "\r",
      " 58%|██████████████████████████████████████████████▉                                  | 11/19 [55:40<40:28, 303.57s/it]"
     ]
    },
    {
     "name": "stdout",
     "output_type": "stream",
     "text": [
      "Average training loss: 0.0002. Mean distance error (km): 358.589\n",
      "Average training loss: 0.0002. Mean distance error (km): 357.586\n"
     ]
    },
    {
     "name": "stderr",
     "output_type": "stream",
     "text": [
      "\r",
      " 63%|█████████████████████████████████████████████████▉                             | 12/19 [1:00:45<35:28, 304.09s/it]"
     ]
    },
    {
     "name": "stdout",
     "output_type": "stream",
     "text": [
      "Average training loss: 0.0002. Mean distance error (km): 357.746\n",
      "Average training loss: 0.0002. Mean distance error (km): 358.602\n",
      "Average training loss: 0.0002. Mean distance error (km): 357.878\n"
     ]
    },
    {
     "name": "stderr",
     "output_type": "stream",
     "text": [
      "\r",
      " 68%|██████████████████████████████████████████████████████                         | 13/19 [1:05:47<30:19, 303.32s/it]"
     ]
    },
    {
     "name": "stdout",
     "output_type": "stream",
     "text": [
      "Average training loss: 0.0002. Mean distance error (km): 360.105\n"
     ]
    },
    {
     "name": "stderr",
     "output_type": "stream",
     "text": [
      "\r",
      " 74%|██████████████████████████████████████████████████████████▏                    | 14/19 [1:10:48<25:13, 302.66s/it]"
     ]
    },
    {
     "name": "stdout",
     "output_type": "stream",
     "text": [
      "Average training loss: 0.0002. Mean distance error (km): 363.458\n",
      "Average training loss: 0.0002. Mean distance error (km): 361.960\n",
      "Average training loss: 0.0002. Mean distance error (km): 359.991\n"
     ]
    },
    {
     "name": "stderr",
     "output_type": "stream",
     "text": [
      "\r",
      " 79%|██████████████████████████████████████████████████████████████▎                | 15/19 [1:15:50<20:10, 302.54s/it]"
     ]
    },
    {
     "name": "stdout",
     "output_type": "stream",
     "text": [
      "Average training loss: 0.0002. Mean distance error (km): 360.567\n"
     ]
    },
    {
     "name": "stderr",
     "output_type": "stream",
     "text": [
      "\r",
      " 84%|██████████████████████████████████████████████████████████████████▌            | 16/19 [1:20:55<15:09, 303.21s/it]"
     ]
    },
    {
     "name": "stdout",
     "output_type": "stream",
     "text": [
      "Average training loss: 0.0002. Mean distance error (km): 358.908\n",
      "Average training loss: 0.0002. Mean distance error (km): 358.325\n",
      "Average training loss: 0.0002. Mean distance error (km): 358.308\n"
     ]
    },
    {
     "name": "stderr",
     "output_type": "stream",
     "text": [
      "\r",
      " 89%|██████████████████████████████████████████████████████████████████████▋        | 17/19 [1:25:57<10:06, 303.02s/it]"
     ]
    },
    {
     "name": "stdout",
     "output_type": "stream",
     "text": [
      "Average training loss: 0.0002. Mean distance error (km): 355.598\n"
     ]
    },
    {
     "name": "stderr",
     "output_type": "stream",
     "text": [
      "\r",
      " 95%|██████████████████████████████████████████████████████████████████████████▊    | 18/19 [1:31:05<05:04, 304.35s/it]"
     ]
    },
    {
     "name": "stdout",
     "output_type": "stream",
     "text": [
      "Average training loss: 0.0002. Mean distance error (km): 356.784\n",
      "Average training loss: 0.0002. Mean distance error (km): 357.429\n"
     ]
    },
    {
     "name": "stderr",
     "output_type": "stream",
     "text": [
      "100%|███████████████████████████████████████████████████████████████████████████████| 19/19 [1:33:27<00:00, 295.14s/it]\n",
      "Evaluation:   0%|                                                                              | 0/130 [00:00<?, ?it/s]"
     ]
    },
    {
     "name": "stdout",
     "output_type": "stream",
     "text": [
      "Average training loss: 0.0002. Mean distance error (km): 356.645\n"
     ]
    },
    {
     "name": "stderr",
     "output_type": "stream",
     "text": [
      "Evaluation:  50%|██████████████████████████████████▌                                  | 65/130 [01:11<01:14,  1.14s/it]"
     ]
    },
    {
     "name": "stdout",
     "output_type": "stream",
     "text": [
      "Iteration: 65. Average evaluation loss: 0.0034. Mean distance error (km): 706.518\n"
     ]
    },
    {
     "name": "stderr",
     "output_type": "stream",
     "text": [
      "Evaluation: 100%|████████████████████████████████████████████████████████████████████| 130/130 [02:23<00:00,  1.10s/it]"
     ]
    },
    {
     "name": "stdout",
     "output_type": "stream",
     "text": [
      "Iteration: 130. Average evaluation loss: 0.0035. Mean distance error (km): 710.760\n",
      "\n",
      "Epoch [8/8]: Train distance error (km): 357.037. Train loss: 0.0002. Evaluation distance error (km): 708.639. Evaluation loss: 0.0034\n"
     ]
    },
    {
     "name": "stderr",
     "output_type": "stream",
     "text": [
      "\n"
     ]
    }
   ],
   "source": [
    "# Initialize parameters\n",
    "input_dim = eval_set.n_features\n",
    "output_dim = 3\n",
    "n_d = 32\n",
    "n_a = 32\n",
    "gamma = 1.2\n",
    "epsilon = 1e-10\n",
    "n_shared = 3\n",
    "n_independent = 3\n",
    "n_steps = 3\n",
    "n_chunks = 64\n",
    "chunk_size = 0\n",
    "track_running_stats = False\n",
    "momentum = 0.02\n",
    "learning_rate = 0.007\n",
    "epochs = 8\n",
    "batch_size = 6144\n",
    "feat_cols = None\n",
    "ghost_batch_norm = True\n",
    "\n",
    "train_iterator = MariaDB_chunk_indices(cursor, mariadb_table_name, 1024 * 1000)\n",
    "\n",
    "eval_loader = DataLoader(eval_set, batch_size=batch_size, shuffle=False, drop_last=True)\n",
    "# test_loader = DataLoader(test_set, batch_size=batch_size, shuffle=False)\n",
    "\n",
    "# Check whether system supports CUDA\n",
    "CUDA = torch.cuda.is_available()\n",
    "\n",
    "model = TabNet(input_dim, output_dim, n_d, n_a, gamma=gamma, epsilon=epsilon, n_shared=n_shared, n_independent=n_independent,\n",
    "               n_steps=n_steps, n_chunks=n_chunks, chunk_size=chunk_size, track_running_stats=track_running_stats,\n",
    "               momentum=momentum, ghost_batch_norm=ghost_batch_norm)\n",
    "\n",
    "# Move the model to GPU if possible\n",
    "# if CUDA:\n",
    "#     model.cuda()\n",
    "\n",
    "model.add_loss_fn(nn.MSELoss())\n",
    "\n",
    "optimizer = torch.optim.Adam(model.parameters(), lr=learning_rate)\n",
    "model.add_optimizer(optimizer)\n",
    "\n",
    "scheduler = torch.optim.lr_scheduler.StepLR(optimizer, step_size=1, gamma=0.7)\n",
    "\n",
    "# device = torch.device('cuda' if CUDA else 'cpu')\n",
    "device = torch.device('cpu')\n",
    "\n",
    "model.add_device(device)\n",
    "\n",
    "train_losses_list, train_avg_loss_list, train_dist_list = [], [], []\n",
    "eval_avg_loss_list, eval_dist_list = [], []\n",
    "train_mask_list, train_mask_explain_list = [], []\n",
    "\n",
    "for epoch in range(epochs):\n",
    "\n",
    "    print('\\nStart epoch [{}/{}]'.format(epoch+1, epochs))\n",
    "    print('Current learning rate: {:.5f}'.format(scheduler.get_last_lr()[0]))\n",
    "    \n",
    "    for indices in tqdm(train_iterator):\n",
    "        \n",
    "        train_loader = DataLoader(MariaDB_dataset(indices, cursor, mariadb_table_name, norm_params, feat_cols=feat_cols),\n",
    "                                  batch_size=batch_size, shuffle=True, drop_last=True)\n",
    "        \n",
    "        train_losses, train_avg_loss, train_dist, mask_list, mask_explain_list = train_model(model, train_loader)\n",
    "\n",
    "    train_losses_list.append(train_losses)\n",
    "    train_avg_loss_list.append(train_avg_loss)\n",
    "    train_dist_list.append(train_dist)\n",
    "    train_mask_list.append(mask_list)\n",
    "    train_mask_explain_list.append(mask_explain_list)\n",
    "\n",
    "    _, eval_avg_loss, eval_dist = evaluate_model(model, eval_loader)\n",
    "\n",
    "    eval_avg_loss_list.append(eval_avg_loss)\n",
    "    eval_dist_list.append(eval_dist)\n",
    "\n",
    "    print('\\nEpoch [{}/{}]: Train distance error (km): {:.3f}. Train loss: {:.4f}. Evaluation distance error (km): {:.3f}. Evaluation loss: {:.4f}'\\\n",
    "          .format(epoch+1, epochs, train_dist, train_avg_loss, eval_dist, eval_avg_loss))\n",
    "    \n",
    "    scheduler.step()\n",
    "   "
   ]
  },
  {
   "cell_type": "markdown",
   "metadata": {},
   "source": [
    "When the training is completed, we can plot the training and the validation learning curves."
   ]
  },
  {
   "cell_type": "code",
   "execution_count": 8,
   "metadata": {},
   "outputs": [
    {
     "data": {
      "image/png": "[encoded data removed]",
      "text/plain": [
       "<Figure size 720x432 with 1 Axes>"
      ]
     },
     "metadata": {
      "needs_background": "light"
     },
     "output_type": "display_data"
    }
   ],
   "source": [
    "# Plot training and validation learning curves\n",
    "plt.figure(figsize=(10,6))\n",
    "plt.plot(train_avg_loss_list, label='Training loss')\n",
    "plt.plot(eval_avg_loss_list, label='Evaluation loss')\n",
    "plt.xlabel('Epoch', size=12)\n",
    "plt.ylabel('Loss', size=12)\n",
    "plt.title('TabNet model learning curves')\n",
    "plt.xticks(ticks=range(epochs))\n",
    "plt.legend()\n",
    "plt.show()"
   ]
  },
  {
   "cell_type": "markdown",
   "metadata": {},
   "source": [
    "We will also visualize some random explanatory masks."
   ]
  },
  {
   "cell_type": "code",
   "execution_count": 44,
   "metadata": {},
   "outputs": [],
   "source": [
    "rand_mask_indices = np.random.randint(len(train_mask_explain_list[-1][0]), size=10)\n",
    "\n",
    "expl_mask = train_mask_explain_list[-1][0][rand_mask_indices]\n",
    "expl_mask = expl_mask.detach().numpy()"
   ]
  },
  {
   "cell_type": "code",
   "execution_count": 67,
   "metadata": {},
   "outputs": [
    {
     "data": {
      "image/png": "[encoded data removed]",
      "text/plain": [
       "<Figure size 720x432 with 2 Axes>"
      ]
     },
     "metadata": {
      "needs_background": "light"
     },
     "output_type": "display_data"
    }
   ],
   "source": [
    "plt.figure(figsize=(10,6))\n",
    "ax = sns.heatmap(expl_mask, linewidths=1, vmin=0, vmax=0.01)\n",
    "ax.set_xlabel('Features', size=12)\n",
    "ax.set_title('Explanatory mask', size=12); \n",
    "ax.xaxis.set_ticklabels(norm_params['input_features'])\n",
    "plt.show()"
   ]
  },
  {
   "cell_type": "markdown",
   "metadata": {},
   "source": [
    " Save the model's learned parameters for Inference"
   ]
  },
  {
   "cell_type": "code",
   "execution_count": 15,
   "metadata": {},
   "outputs": [],
   "source": [
    "path = 'tabnet_params.pt'\n",
    "torch.save(model.state_dict(), path)"
   ]
  },
  {
   "cell_type": "markdown",
   "metadata": {},
   "source": [
    "We will save the user-defined TabNet parameters as well."
   ]
  },
  {
   "cell_type": "code",
   "execution_count": 16,
   "metadata": {},
   "outputs": [],
   "source": [
    "tabnet_user_params = {\n",
    "    'input_dim': input_dim,\n",
    "    'output_dim': output_dim,\n",
    "    'n_d': n_d,\n",
    "    'n_a': n_a,\n",
    "    'gamma': gamma,\n",
    "    'epsilon': epsilon,\n",
    "    'n_shared': n_shared, \n",
    "    'n_independent': n_independent, \n",
    "    'n_steps': n_steps,\n",
    "    'n_chunks': n_chunks,\n",
    "    'chunk_size': chunk_size,\n",
    "    'track_running_stats': track_running_stats,\n",
    "    'momentum': momentum,\n",
    "    'learning_rate': learning_rate,\n",
    "    'feat_cols': feat_cols,\n",
    "    'ghost_batch_norm': ghost_batch_norm\n",
    "}"
   ]
  },
  {
   "cell_type": "code",
   "execution_count": 17,
   "metadata": {},
   "outputs": [],
   "source": [
    "with open(r\"tabnet_user_params.pickle\", \"wb\") as output_file:\n",
    "    pickle.dump(tabnet_user_params, output_file)"
   ]
  },
  {
   "cell_type": "markdown",
   "metadata": {},
   "source": [
    "### References"
   ]
  },
  {
   "cell_type": "markdown",
   "metadata": {},
   "source": [
    "[1]. <i>TabNet: Attentive Interpretable Tabular Learning</i>, Sercan O. Arık, Tomas Pfister, Google Cloud AI, https://arxiv.org/pdf/1908.07442.pdf"
   ]
  }
 ],
 "metadata": {
  "kernelspec": {
   "display_name": "aircraft",
   "language": "python",
   "name": "aircraft"
  },
  "language_info": {
   "codemirror_mode": {
    "name": "ipython",
    "version": 3
   },
   "file_extension": ".py",
   "mimetype": "text/x-python",
   "name": "python",
   "nbconvert_exporter": "python",
   "pygments_lexer": "ipython3",
   "version": "3.8.3"
  }
 },
 "nbformat": 4,
 "nbformat_minor": 4
}
